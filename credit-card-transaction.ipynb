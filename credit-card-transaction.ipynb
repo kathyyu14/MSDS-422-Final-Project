{
 "cells": [
  {
   "cell_type": "code",
   "execution_count": 1,
   "id": "8b63c685",
   "metadata": {
    "execution": {
     "iopub.execute_input": "2024-03-08T09:06:42.086630Z",
     "iopub.status.busy": "2024-03-08T09:06:42.086280Z",
     "iopub.status.idle": "2024-03-08T09:06:44.785932Z",
     "shell.execute_reply": "2024-03-08T09:06:44.785040Z",
     "shell.execute_reply.started": "2024-03-08T09:06:42.086591Z"
    }
   },
   "outputs": [],
   "source": [
    "# Import necessary modules\n",
    "import numpy as np \n",
    "import pandas as pd \n",
    "import seaborn as sb\n",
    "import seaborn as sns\n",
    "from sklearn.pipeline import Pipeline\n",
    "from sklearn.metrics import confusion_matrix\n",
    "from sklearn.metrics import classification_report\n",
    "from sklearn.model_selection import train_test_split\n",
    "from sklearn.preprocessing import FunctionTransformer, LabelEncoder, OneHotEncoder\n",
    "from imblearn.under_sampling import RandomUnderSampler\n",
    "import matplotlib.pyplot as plt\n",
    "import plotly.express as px\n",
    "import xgboost as xgb\n",
    "from sklearn.model_selection import GridSearchCV\n",
    "from category_encoders.binary import BinaryEncoder\n",
    "from imblearn.over_sampling import SMOTE\n",
    "from sklearn.preprocessing import StandardScaler\n",
    "import warnings\n",
    "warnings.filterwarnings(\"ignore\")"
   ]
  },
  {
   "cell_type": "markdown",
   "id": "86aa7fe2",
   "metadata": {},
   "source": [
    "# 1. Explanatory Data Analysis"
   ]
  },
  {
   "cell_type": "code",
   "execution_count": 2,
   "id": "2f13266d",
   "metadata": {
    "execution": {
     "iopub.execute_input": "2024-03-08T09:06:44.788327Z",
     "iopub.status.busy": "2024-03-08T09:06:44.787840Z",
     "iopub.status.idle": "2024-03-08T09:08:04.179432Z",
     "shell.execute_reply": "2024-03-08T09:08:04.178470Z",
     "shell.execute_reply.started": "2024-03-08T09:06:44.788298Z"
    }
   },
   "outputs": [],
   "source": [
    "df = pd.read_csv('/kaggle/input/credit-card-transactions/credit_card_transactions-ibm_v2.csv')"
   ]
  },
  {
   "cell_type": "code",
   "execution_count": 3,
   "id": "6fc0dc7c",
   "metadata": {
    "execution": {
     "iopub.execute_input": "2024-03-08T09:08:04.181191Z",
     "iopub.status.busy": "2024-03-08T09:08:04.180904Z",
     "iopub.status.idle": "2024-03-08T09:08:04.188837Z",
     "shell.execute_reply": "2024-03-08T09:08:04.187973Z",
     "shell.execute_reply.started": "2024-03-08T09:08:04.181166Z"
    }
   },
   "outputs": [
    {
     "data": {
      "text/plain": [
       "(24386900, 15)"
      ]
     },
     "execution_count": 3,
     "metadata": {},
     "output_type": "execute_result"
    }
   ],
   "source": [
    "df.shape"
   ]
  },
  {
   "cell_type": "code",
   "execution_count": 4,
   "id": "23d8e9d5",
   "metadata": {
    "execution": {
     "iopub.execute_input": "2024-03-08T09:08:04.190461Z",
     "iopub.status.busy": "2024-03-08T09:08:04.190196Z",
     "iopub.status.idle": "2024-03-08T09:08:32.124258Z",
     "shell.execute_reply": "2024-03-08T09:08:32.123274Z",
     "shell.execute_reply.started": "2024-03-08T09:08:04.190438Z"
    }
   },
   "outputs": [],
   "source": [
    "# 10% of data and shuffle the data\n",
    "subset_size = int(0.1 * len(df))  \n",
    "df = df.sample(frac=1, random_state=42)  \n",
    "subset_df = df.head(subset_size)"
   ]
  },
  {
   "cell_type": "code",
   "execution_count": 5,
   "id": "ad10005e",
   "metadata": {
    "execution": {
     "iopub.execute_input": "2024-03-08T09:08:32.127119Z",
     "iopub.status.busy": "2024-03-08T09:08:32.126744Z",
     "iopub.status.idle": "2024-03-08T09:08:32.151745Z",
     "shell.execute_reply": "2024-03-08T09:08:32.150830Z",
     "shell.execute_reply.started": "2024-03-08T09:08:32.127092Z"
    }
   },
   "outputs": [
    {
     "data": {
      "text/html": [
       "<div>\n",
       "<style scoped>\n",
       "    .dataframe tbody tr th:only-of-type {\n",
       "        vertical-align: middle;\n",
       "    }\n",
       "\n",
       "    .dataframe tbody tr th {\n",
       "        vertical-align: top;\n",
       "    }\n",
       "\n",
       "    .dataframe thead th {\n",
       "        text-align: right;\n",
       "    }\n",
       "</style>\n",
       "<table border=\"1\" class=\"dataframe\">\n",
       "  <thead>\n",
       "    <tr style=\"text-align: right;\">\n",
       "      <th></th>\n",
       "      <th>User</th>\n",
       "      <th>Card</th>\n",
       "      <th>Year</th>\n",
       "      <th>Month</th>\n",
       "      <th>Day</th>\n",
       "      <th>Time</th>\n",
       "      <th>Amount</th>\n",
       "      <th>Use Chip</th>\n",
       "      <th>Merchant Name</th>\n",
       "      <th>Merchant City</th>\n",
       "      <th>Merchant State</th>\n",
       "      <th>Zip</th>\n",
       "      <th>MCC</th>\n",
       "      <th>Errors?</th>\n",
       "      <th>Is Fraud?</th>\n",
       "    </tr>\n",
       "  </thead>\n",
       "  <tbody>\n",
       "    <tr>\n",
       "      <th>18199893</th>\n",
       "      <td>1470</td>\n",
       "      <td>0</td>\n",
       "      <td>2019</td>\n",
       "      <td>7</td>\n",
       "      <td>10</td>\n",
       "      <td>00:11</td>\n",
       "      <td>$59.18</td>\n",
       "      <td>Chip Transaction</td>\n",
       "      <td>-6853385250336487907</td>\n",
       "      <td>Harwood</td>\n",
       "      <td>MD</td>\n",
       "      <td>20776.0</td>\n",
       "      <td>5813</td>\n",
       "      <td>NaN</td>\n",
       "      <td>No</td>\n",
       "    </tr>\n",
       "    <tr>\n",
       "      <th>9731325</th>\n",
       "      <td>822</td>\n",
       "      <td>1</td>\n",
       "      <td>2019</td>\n",
       "      <td>1</td>\n",
       "      <td>14</td>\n",
       "      <td>22:12</td>\n",
       "      <td>$280.91</td>\n",
       "      <td>Online Transaction</td>\n",
       "      <td>4241336128694185533</td>\n",
       "      <td>ONLINE</td>\n",
       "      <td>NaN</td>\n",
       "      <td>NaN</td>\n",
       "      <td>4814</td>\n",
       "      <td>NaN</td>\n",
       "      <td>No</td>\n",
       "    </tr>\n",
       "    <tr>\n",
       "      <th>536687</th>\n",
       "      <td>41</td>\n",
       "      <td>3</td>\n",
       "      <td>2010</td>\n",
       "      <td>3</td>\n",
       "      <td>15</td>\n",
       "      <td>07:07</td>\n",
       "      <td>$-144.00</td>\n",
       "      <td>Swipe Transaction</td>\n",
       "      <td>190253443608377572</td>\n",
       "      <td>Hemet</td>\n",
       "      <td>CA</td>\n",
       "      <td>92543.0</td>\n",
       "      <td>3359</td>\n",
       "      <td>NaN</td>\n",
       "      <td>No</td>\n",
       "    </tr>\n",
       "    <tr>\n",
       "      <th>13223840</th>\n",
       "      <td>1084</td>\n",
       "      <td>0</td>\n",
       "      <td>2015</td>\n",
       "      <td>9</td>\n",
       "      <td>20</td>\n",
       "      <td>14:58</td>\n",
       "      <td>$6.76</td>\n",
       "      <td>Chip Transaction</td>\n",
       "      <td>-7837310524365334241</td>\n",
       "      <td>Littleton</td>\n",
       "      <td>CO</td>\n",
       "      <td>80122.0</td>\n",
       "      <td>5300</td>\n",
       "      <td>NaN</td>\n",
       "      <td>No</td>\n",
       "    </tr>\n",
       "    <tr>\n",
       "      <th>17070521</th>\n",
       "      <td>1384</td>\n",
       "      <td>0</td>\n",
       "      <td>2014</td>\n",
       "      <td>10</td>\n",
       "      <td>12</td>\n",
       "      <td>11:44</td>\n",
       "      <td>$9.17</td>\n",
       "      <td>Swipe Transaction</td>\n",
       "      <td>-5023497618971072366</td>\n",
       "      <td>Gardner</td>\n",
       "      <td>KS</td>\n",
       "      <td>66030.0</td>\n",
       "      <td>5812</td>\n",
       "      <td>NaN</td>\n",
       "      <td>No</td>\n",
       "    </tr>\n",
       "  </tbody>\n",
       "</table>\n",
       "</div>"
      ],
      "text/plain": [
       "          User  Card  Year  Month  Day   Time    Amount            Use Chip  \\\n",
       "18199893  1470     0  2019      7   10  00:11    $59.18    Chip Transaction   \n",
       "9731325    822     1  2019      1   14  22:12   $280.91  Online Transaction   \n",
       "536687      41     3  2010      3   15  07:07  $-144.00   Swipe Transaction   \n",
       "13223840  1084     0  2015      9   20  14:58     $6.76    Chip Transaction   \n",
       "17070521  1384     0  2014     10   12  11:44     $9.17   Swipe Transaction   \n",
       "\n",
       "                Merchant Name Merchant City Merchant State      Zip   MCC  \\\n",
       "18199893 -6853385250336487907       Harwood             MD  20776.0  5813   \n",
       "9731325   4241336128694185533        ONLINE            NaN      NaN  4814   \n",
       "536687     190253443608377572         Hemet             CA  92543.0  3359   \n",
       "13223840 -7837310524365334241     Littleton             CO  80122.0  5300   \n",
       "17070521 -5023497618971072366       Gardner             KS  66030.0  5812   \n",
       "\n",
       "         Errors? Is Fraud?  \n",
       "18199893     NaN        No  \n",
       "9731325      NaN        No  \n",
       "536687       NaN        No  \n",
       "13223840     NaN        No  \n",
       "17070521     NaN        No  "
      ]
     },
     "execution_count": 5,
     "metadata": {},
     "output_type": "execute_result"
    }
   ],
   "source": [
    "subset_df.head()"
   ]
  },
  {
   "cell_type": "code",
   "execution_count": 6,
   "id": "f0b4e677",
   "metadata": {
    "execution": {
     "iopub.execute_input": "2024-03-08T09:08:32.153876Z",
     "iopub.status.busy": "2024-03-08T09:08:32.153535Z",
     "iopub.status.idle": "2024-03-08T09:08:32.175123Z",
     "shell.execute_reply": "2024-03-08T09:08:32.174205Z",
     "shell.execute_reply.started": "2024-03-08T09:08:32.153850Z"
    }
   },
   "outputs": [
    {
     "name": "stdout",
     "output_type": "stream",
     "text": [
      "<class 'pandas.core.frame.DataFrame'>\n",
      "Index: 2438690 entries, 18199893 to 23041253\n",
      "Data columns (total 15 columns):\n",
      " #   Column          Dtype  \n",
      "---  ------          -----  \n",
      " 0   User            int64  \n",
      " 1   Card            int64  \n",
      " 2   Year            int64  \n",
      " 3   Month           int64  \n",
      " 4   Day             int64  \n",
      " 5   Time            object \n",
      " 6   Amount          object \n",
      " 7   Use Chip        object \n",
      " 8   Merchant Name   int64  \n",
      " 9   Merchant City   object \n",
      " 10  Merchant State  object \n",
      " 11  Zip             float64\n",
      " 12  MCC             int64  \n",
      " 13  Errors?         object \n",
      " 14  Is Fraud?       object \n",
      "dtypes: float64(1), int64(7), object(7)\n",
      "memory usage: 297.7+ MB\n"
     ]
    }
   ],
   "source": [
    "subset_df.info()"
   ]
  },
  {
   "cell_type": "code",
   "execution_count": 7,
   "id": "dfabe786",
   "metadata": {
    "execution": {
     "iopub.execute_input": "2024-03-08T09:08:32.177036Z",
     "iopub.status.busy": "2024-03-08T09:08:32.176342Z",
     "iopub.status.idle": "2024-03-08T09:08:32.202159Z",
     "shell.execute_reply": "2024-03-08T09:08:32.200823Z",
     "shell.execute_reply.started": "2024-03-08T09:08:32.176995Z"
    }
   },
   "outputs": [
    {
     "data": {
      "text/html": [
       "<div>\n",
       "<style scoped>\n",
       "    .dataframe tbody tr th:only-of-type {\n",
       "        vertical-align: middle;\n",
       "    }\n",
       "\n",
       "    .dataframe tbody tr th {\n",
       "        vertical-align: top;\n",
       "    }\n",
       "\n",
       "    .dataframe thead th {\n",
       "        text-align: right;\n",
       "    }\n",
       "</style>\n",
       "<table border=\"1\" class=\"dataframe\">\n",
       "  <thead>\n",
       "    <tr style=\"text-align: right;\">\n",
       "      <th></th>\n",
       "      <th>User</th>\n",
       "      <th>Card</th>\n",
       "      <th>Year</th>\n",
       "      <th>Month</th>\n",
       "      <th>Day</th>\n",
       "      <th>Time</th>\n",
       "      <th>Amount</th>\n",
       "      <th>Use Chip</th>\n",
       "      <th>Merchant Name</th>\n",
       "      <th>Merchant City</th>\n",
       "      <th>Merchant State</th>\n",
       "      <th>Zip</th>\n",
       "      <th>MCC</th>\n",
       "      <th>Errors?</th>\n",
       "      <th>Is Fraud?</th>\n",
       "    </tr>\n",
       "  </thead>\n",
       "  <tbody>\n",
       "    <tr>\n",
       "      <th>18199893</th>\n",
       "      <td>1470</td>\n",
       "      <td>0</td>\n",
       "      <td>2019</td>\n",
       "      <td>7</td>\n",
       "      <td>10</td>\n",
       "      <td>00:11</td>\n",
       "      <td>$59.18</td>\n",
       "      <td>Chip Transaction</td>\n",
       "      <td>-6853385250336487907</td>\n",
       "      <td>Harwood</td>\n",
       "      <td>MD</td>\n",
       "      <td>20776.0</td>\n",
       "      <td>5813</td>\n",
       "      <td>NaN</td>\n",
       "      <td>No</td>\n",
       "    </tr>\n",
       "    <tr>\n",
       "      <th>9731325</th>\n",
       "      <td>822</td>\n",
       "      <td>1</td>\n",
       "      <td>2019</td>\n",
       "      <td>1</td>\n",
       "      <td>14</td>\n",
       "      <td>22:12</td>\n",
       "      <td>$280.91</td>\n",
       "      <td>Online Transaction</td>\n",
       "      <td>4241336128694185533</td>\n",
       "      <td>ONLINE</td>\n",
       "      <td>NaN</td>\n",
       "      <td>NaN</td>\n",
       "      <td>4814</td>\n",
       "      <td>NaN</td>\n",
       "      <td>No</td>\n",
       "    </tr>\n",
       "    <tr>\n",
       "      <th>536687</th>\n",
       "      <td>41</td>\n",
       "      <td>3</td>\n",
       "      <td>2010</td>\n",
       "      <td>3</td>\n",
       "      <td>15</td>\n",
       "      <td>07:07</td>\n",
       "      <td>$-144.00</td>\n",
       "      <td>Swipe Transaction</td>\n",
       "      <td>190253443608377572</td>\n",
       "      <td>Hemet</td>\n",
       "      <td>CA</td>\n",
       "      <td>92543.0</td>\n",
       "      <td>3359</td>\n",
       "      <td>NaN</td>\n",
       "      <td>No</td>\n",
       "    </tr>\n",
       "    <tr>\n",
       "      <th>13223840</th>\n",
       "      <td>1084</td>\n",
       "      <td>0</td>\n",
       "      <td>2015</td>\n",
       "      <td>9</td>\n",
       "      <td>20</td>\n",
       "      <td>14:58</td>\n",
       "      <td>$6.76</td>\n",
       "      <td>Chip Transaction</td>\n",
       "      <td>-7837310524365334241</td>\n",
       "      <td>Littleton</td>\n",
       "      <td>CO</td>\n",
       "      <td>80122.0</td>\n",
       "      <td>5300</td>\n",
       "      <td>NaN</td>\n",
       "      <td>No</td>\n",
       "    </tr>\n",
       "    <tr>\n",
       "      <th>17070521</th>\n",
       "      <td>1384</td>\n",
       "      <td>0</td>\n",
       "      <td>2014</td>\n",
       "      <td>10</td>\n",
       "      <td>12</td>\n",
       "      <td>11:44</td>\n",
       "      <td>$9.17</td>\n",
       "      <td>Swipe Transaction</td>\n",
       "      <td>-5023497618971072366</td>\n",
       "      <td>Gardner</td>\n",
       "      <td>KS</td>\n",
       "      <td>66030.0</td>\n",
       "      <td>5812</td>\n",
       "      <td>NaN</td>\n",
       "      <td>No</td>\n",
       "    </tr>\n",
       "    <tr>\n",
       "      <th>792843</th>\n",
       "      <td>55</td>\n",
       "      <td>3</td>\n",
       "      <td>2006</td>\n",
       "      <td>6</td>\n",
       "      <td>10</td>\n",
       "      <td>09:15</td>\n",
       "      <td>$1.36</td>\n",
       "      <td>Swipe Transaction</td>\n",
       "      <td>-6571010470072147219</td>\n",
       "      <td>Rego Park</td>\n",
       "      <td>NY</td>\n",
       "      <td>11374.0</td>\n",
       "      <td>5499</td>\n",
       "      <td>NaN</td>\n",
       "      <td>No</td>\n",
       "    </tr>\n",
       "    <tr>\n",
       "      <th>8966297</th>\n",
       "      <td>776</td>\n",
       "      <td>0</td>\n",
       "      <td>2007</td>\n",
       "      <td>2</td>\n",
       "      <td>25</td>\n",
       "      <td>22:31</td>\n",
       "      <td>$97.81</td>\n",
       "      <td>Swipe Transaction</td>\n",
       "      <td>-6974082828836151610</td>\n",
       "      <td>Milwaukee</td>\n",
       "      <td>WI</td>\n",
       "      <td>53224.0</td>\n",
       "      <td>4900</td>\n",
       "      <td>NaN</td>\n",
       "      <td>No</td>\n",
       "    </tr>\n",
       "    <tr>\n",
       "      <th>895801</th>\n",
       "      <td>66</td>\n",
       "      <td>0</td>\n",
       "      <td>2007</td>\n",
       "      <td>8</td>\n",
       "      <td>21</td>\n",
       "      <td>13:02</td>\n",
       "      <td>$23.25</td>\n",
       "      <td>Swipe Transaction</td>\n",
       "      <td>3675785629314646441</td>\n",
       "      <td>Gonzales</td>\n",
       "      <td>TX</td>\n",
       "      <td>78629.0</td>\n",
       "      <td>7349</td>\n",
       "      <td>NaN</td>\n",
       "      <td>No</td>\n",
       "    </tr>\n",
       "    <tr>\n",
       "      <th>22902727</th>\n",
       "      <td>1880</td>\n",
       "      <td>2</td>\n",
       "      <td>2010</td>\n",
       "      <td>12</td>\n",
       "      <td>31</td>\n",
       "      <td>01:06</td>\n",
       "      <td>$486.70</td>\n",
       "      <td>Swipe Transaction</td>\n",
       "      <td>-3398248499422470718</td>\n",
       "      <td>Atlantic City</td>\n",
       "      <td>NJ</td>\n",
       "      <td>8401.0</td>\n",
       "      <td>7995</td>\n",
       "      <td>NaN</td>\n",
       "      <td>No</td>\n",
       "    </tr>\n",
       "    <tr>\n",
       "      <th>5845532</th>\n",
       "      <td>490</td>\n",
       "      <td>5</td>\n",
       "      <td>2015</td>\n",
       "      <td>11</td>\n",
       "      <td>28</td>\n",
       "      <td>13:45</td>\n",
       "      <td>$92.67</td>\n",
       "      <td>Chip Transaction</td>\n",
       "      <td>4722913068560264812</td>\n",
       "      <td>Pompano Beach</td>\n",
       "      <td>FL</td>\n",
       "      <td>33063.0</td>\n",
       "      <td>5411</td>\n",
       "      <td>NaN</td>\n",
       "      <td>No</td>\n",
       "    </tr>\n",
       "  </tbody>\n",
       "</table>\n",
       "</div>"
      ],
      "text/plain": [
       "          User  Card  Year  Month  Day   Time    Amount            Use Chip  \\\n",
       "18199893  1470     0  2019      7   10  00:11    $59.18    Chip Transaction   \n",
       "9731325    822     1  2019      1   14  22:12   $280.91  Online Transaction   \n",
       "536687      41     3  2010      3   15  07:07  $-144.00   Swipe Transaction   \n",
       "13223840  1084     0  2015      9   20  14:58     $6.76    Chip Transaction   \n",
       "17070521  1384     0  2014     10   12  11:44     $9.17   Swipe Transaction   \n",
       "792843      55     3  2006      6   10  09:15     $1.36   Swipe Transaction   \n",
       "8966297    776     0  2007      2   25  22:31    $97.81   Swipe Transaction   \n",
       "895801      66     0  2007      8   21  13:02    $23.25   Swipe Transaction   \n",
       "22902727  1880     2  2010     12   31  01:06   $486.70   Swipe Transaction   \n",
       "5845532    490     5  2015     11   28  13:45    $92.67    Chip Transaction   \n",
       "\n",
       "                Merchant Name  Merchant City Merchant State      Zip   MCC  \\\n",
       "18199893 -6853385250336487907        Harwood             MD  20776.0  5813   \n",
       "9731325   4241336128694185533         ONLINE            NaN      NaN  4814   \n",
       "536687     190253443608377572          Hemet             CA  92543.0  3359   \n",
       "13223840 -7837310524365334241      Littleton             CO  80122.0  5300   \n",
       "17070521 -5023497618971072366        Gardner             KS  66030.0  5812   \n",
       "792843   -6571010470072147219      Rego Park             NY  11374.0  5499   \n",
       "8966297  -6974082828836151610      Milwaukee             WI  53224.0  4900   \n",
       "895801    3675785629314646441       Gonzales             TX  78629.0  7349   \n",
       "22902727 -3398248499422470718  Atlantic City             NJ   8401.0  7995   \n",
       "5845532   4722913068560264812  Pompano Beach             FL  33063.0  5411   \n",
       "\n",
       "         Errors? Is Fraud?  \n",
       "18199893     NaN        No  \n",
       "9731325      NaN        No  \n",
       "536687       NaN        No  \n",
       "13223840     NaN        No  \n",
       "17070521     NaN        No  \n",
       "792843       NaN        No  \n",
       "8966297      NaN        No  \n",
       "895801       NaN        No  \n",
       "22902727     NaN        No  \n",
       "5845532      NaN        No  "
      ]
     },
     "execution_count": 7,
     "metadata": {},
     "output_type": "execute_result"
    }
   ],
   "source": [
    "subset_df.head(10)"
   ]
  },
  {
   "cell_type": "markdown",
   "id": "a610e400",
   "metadata": {},
   "source": [
    "### 1.2 Data Cleaning, Encoding, and Feature  Engineering\n",
    "1. strip the '$' from the Amount and Credit Limit\n",
    "2. create hour and minute variables by extracting from 'Time'\n",
    "3. change categorical variable to binary variable\n",
    "4. missing value"
   ]
  },
  {
   "cell_type": "code",
   "execution_count": 8,
   "id": "71077865",
   "metadata": {
    "execution": {
     "iopub.execute_input": "2024-03-08T09:08:32.204558Z",
     "iopub.status.busy": "2024-03-08T09:08:32.203557Z",
     "iopub.status.idle": "2024-03-08T09:08:32.610726Z",
     "shell.execute_reply": "2024-03-08T09:08:32.609596Z",
     "shell.execute_reply.started": "2024-03-08T09:08:32.204523Z"
    }
   },
   "outputs": [
    {
     "data": {
      "text/plain": [
       "Is Fraud?\n",
       "No     2435655\n",
       "Yes       3035\n",
       "Name: count, dtype: int64"
      ]
     },
     "execution_count": 8,
     "metadata": {},
     "output_type": "execute_result"
    }
   ],
   "source": [
    "# Check the number of fraudulent transactions\n",
    "subset_df['Is Fraud?'].value_counts()"
   ]
  },
  {
   "cell_type": "code",
   "execution_count": 9,
   "id": "46f60f35",
   "metadata": {
    "execution": {
     "iopub.execute_input": "2024-03-08T09:08:32.612613Z",
     "iopub.status.busy": "2024-03-08T09:08:32.612240Z",
     "iopub.status.idle": "2024-03-08T09:08:35.036325Z",
     "shell.execute_reply": "2024-03-08T09:08:35.035554Z",
     "shell.execute_reply.started": "2024-03-08T09:08:32.612569Z"
    }
   },
   "outputs": [],
   "source": [
    "# We need to strip the '$' from the Amount to cast as a float\n",
    "subset_df[\"Amount\"]=subset_df[\"Amount\"].str.replace(\"$\",\"\").astype(float)"
   ]
  },
  {
   "cell_type": "code",
   "execution_count": 10,
   "id": "4acb12f6",
   "metadata": {
    "execution": {
     "iopub.execute_input": "2024-03-08T09:08:35.037903Z",
     "iopub.status.busy": "2024-03-08T09:08:35.037496Z",
     "iopub.status.idle": "2024-03-08T09:08:35.045560Z",
     "shell.execute_reply": "2024-03-08T09:08:35.044739Z",
     "shell.execute_reply.started": "2024-03-08T09:08:35.037868Z"
    }
   },
   "outputs": [
    {
     "data": {
      "text/plain": [
       "18199893    00:11\n",
       "9731325     22:12\n",
       "536687      07:07\n",
       "13223840    14:58\n",
       "17070521    11:44\n",
       "Name: Time, dtype: object"
      ]
     },
     "execution_count": 10,
     "metadata": {},
     "output_type": "execute_result"
    }
   ],
   "source": [
    "subset_df.Time.head(5)"
   ]
  },
  {
   "cell_type": "code",
   "execution_count": 11,
   "id": "341332db",
   "metadata": {
    "execution": {
     "iopub.execute_input": "2024-03-08T09:08:35.047424Z",
     "iopub.status.busy": "2024-03-08T09:08:35.047004Z",
     "iopub.status.idle": "2024-03-08T09:08:38.058869Z",
     "shell.execute_reply": "2024-03-08T09:08:38.058002Z",
     "shell.execute_reply.started": "2024-03-08T09:08:35.047387Z"
    }
   },
   "outputs": [],
   "source": [
    "# Extract the hour and minute to perform a more refined time series analysis\n",
    "subset_df[\"Hour\"] = subset_df[\"Time\"].str [0:2]\n",
    "subset_df[\"Minute\"] = subset_df[\"Time\"].str [3:5]\n",
    "subset_df = subset_df.drop(['Time'],axis=1)"
   ]
  },
  {
   "cell_type": "code",
   "execution_count": 12,
   "id": "9e9b3f91",
   "metadata": {
    "execution": {
     "iopub.execute_input": "2024-03-08T09:08:38.060225Z",
     "iopub.status.busy": "2024-03-08T09:08:38.059951Z",
     "iopub.status.idle": "2024-03-08T09:08:38.065908Z",
     "shell.execute_reply": "2024-03-08T09:08:38.064993Z",
     "shell.execute_reply.started": "2024-03-08T09:08:38.060203Z"
    }
   },
   "outputs": [
    {
     "data": {
      "text/plain": [
       "(2438690, 16)"
      ]
     },
     "execution_count": 12,
     "metadata": {},
     "output_type": "execute_result"
    }
   ],
   "source": [
    "subset_df.shape"
   ]
  },
  {
   "cell_type": "code",
   "execution_count": 13,
   "id": "da9872d8",
   "metadata": {
    "execution": {
     "iopub.execute_input": "2024-03-08T09:08:38.068342Z",
     "iopub.status.busy": "2024-03-08T09:08:38.067175Z",
     "iopub.status.idle": "2024-03-08T09:08:39.663482Z",
     "shell.execute_reply": "2024-03-08T09:08:39.662699Z",
     "shell.execute_reply.started": "2024-03-08T09:08:38.068307Z"
    }
   },
   "outputs": [],
   "source": [
    "# change the is fraud column to binary \n",
    "subset_df[\"Is Fraud?\"] = subset_df[\"Is Fraud?\"].apply(lambda x: 1 if x == 'Yes' else 0)"
   ]
  },
  {
   "cell_type": "code",
   "execution_count": 14,
   "id": "4e7f3561",
   "metadata": {
    "execution": {
     "iopub.execute_input": "2024-03-08T09:08:39.668199Z",
     "iopub.status.busy": "2024-03-08T09:08:39.667880Z",
     "iopub.status.idle": "2024-03-08T09:08:39.674338Z",
     "shell.execute_reply": "2024-03-08T09:08:39.673317Z",
     "shell.execute_reply.started": "2024-03-08T09:08:39.668173Z"
    }
   },
   "outputs": [
    {
     "data": {
      "text/plain": [
       "Index(['User', 'Card', 'Year', 'Month', 'Day', 'Amount', 'Use Chip',\n",
       "       'Merchant Name', 'Merchant City', 'Merchant State', 'Zip', 'MCC',\n",
       "       'Errors?', 'Is Fraud?', 'Hour', 'Minute'],\n",
       "      dtype='object')"
      ]
     },
     "execution_count": 14,
     "metadata": {},
     "output_type": "execute_result"
    }
   ],
   "source": [
    "subset_df.columns"
   ]
  },
  {
   "cell_type": "code",
   "execution_count": 15,
   "id": "5f2e95e7",
   "metadata": {
    "execution": {
     "iopub.execute_input": "2024-03-08T09:08:39.675637Z",
     "iopub.status.busy": "2024-03-08T09:08:39.675395Z",
     "iopub.status.idle": "2024-03-08T09:08:40.078878Z",
     "shell.execute_reply": "2024-03-08T09:08:40.078022Z",
     "shell.execute_reply.started": "2024-03-08T09:08:39.675610Z"
    }
   },
   "outputs": [],
   "source": [
    "# Fill missing values\n",
    "subset_df['Merchant State'].fillna('No State', inplace=True)\n",
    "subset_df['Zip'].fillna(0, inplace=True)\n",
    "subset_df['Errors?'].fillna('No Error', inplace=True)"
   ]
  },
  {
   "cell_type": "code",
   "execution_count": 16,
   "id": "51cbaace",
   "metadata": {
    "execution": {
     "iopub.execute_input": "2024-03-08T09:08:40.080181Z",
     "iopub.status.busy": "2024-03-08T09:08:40.079909Z",
     "iopub.status.idle": "2024-03-08T09:08:40.097561Z",
     "shell.execute_reply": "2024-03-08T09:08:40.096560Z",
     "shell.execute_reply.started": "2024-03-08T09:08:40.080157Z"
    }
   },
   "outputs": [
    {
     "data": {
      "text/html": [
       "<div>\n",
       "<style scoped>\n",
       "    .dataframe tbody tr th:only-of-type {\n",
       "        vertical-align: middle;\n",
       "    }\n",
       "\n",
       "    .dataframe tbody tr th {\n",
       "        vertical-align: top;\n",
       "    }\n",
       "\n",
       "    .dataframe thead th {\n",
       "        text-align: right;\n",
       "    }\n",
       "</style>\n",
       "<table border=\"1\" class=\"dataframe\">\n",
       "  <thead>\n",
       "    <tr style=\"text-align: right;\">\n",
       "      <th></th>\n",
       "      <th>User</th>\n",
       "      <th>Card</th>\n",
       "      <th>Year</th>\n",
       "      <th>Month</th>\n",
       "      <th>Day</th>\n",
       "      <th>Amount</th>\n",
       "      <th>Use Chip</th>\n",
       "      <th>Merchant Name</th>\n",
       "      <th>Merchant City</th>\n",
       "      <th>Merchant State</th>\n",
       "      <th>Zip</th>\n",
       "      <th>MCC</th>\n",
       "      <th>Errors?</th>\n",
       "      <th>Is Fraud?</th>\n",
       "      <th>Hour</th>\n",
       "      <th>Minute</th>\n",
       "    </tr>\n",
       "  </thead>\n",
       "  <tbody>\n",
       "    <tr>\n",
       "      <th>18199893</th>\n",
       "      <td>1470</td>\n",
       "      <td>0</td>\n",
       "      <td>2019</td>\n",
       "      <td>7</td>\n",
       "      <td>10</td>\n",
       "      <td>59.18</td>\n",
       "      <td>Chip Transaction</td>\n",
       "      <td>-6853385250336487907</td>\n",
       "      <td>Harwood</td>\n",
       "      <td>MD</td>\n",
       "      <td>20776.0</td>\n",
       "      <td>5813</td>\n",
       "      <td>No Error</td>\n",
       "      <td>0</td>\n",
       "      <td>00</td>\n",
       "      <td>11</td>\n",
       "    </tr>\n",
       "    <tr>\n",
       "      <th>9731325</th>\n",
       "      <td>822</td>\n",
       "      <td>1</td>\n",
       "      <td>2019</td>\n",
       "      <td>1</td>\n",
       "      <td>14</td>\n",
       "      <td>280.91</td>\n",
       "      <td>Online Transaction</td>\n",
       "      <td>4241336128694185533</td>\n",
       "      <td>ONLINE</td>\n",
       "      <td>No State</td>\n",
       "      <td>0.0</td>\n",
       "      <td>4814</td>\n",
       "      <td>No Error</td>\n",
       "      <td>0</td>\n",
       "      <td>22</td>\n",
       "      <td>12</td>\n",
       "    </tr>\n",
       "    <tr>\n",
       "      <th>536687</th>\n",
       "      <td>41</td>\n",
       "      <td>3</td>\n",
       "      <td>2010</td>\n",
       "      <td>3</td>\n",
       "      <td>15</td>\n",
       "      <td>-144.00</td>\n",
       "      <td>Swipe Transaction</td>\n",
       "      <td>190253443608377572</td>\n",
       "      <td>Hemet</td>\n",
       "      <td>CA</td>\n",
       "      <td>92543.0</td>\n",
       "      <td>3359</td>\n",
       "      <td>No Error</td>\n",
       "      <td>0</td>\n",
       "      <td>07</td>\n",
       "      <td>07</td>\n",
       "    </tr>\n",
       "    <tr>\n",
       "      <th>13223840</th>\n",
       "      <td>1084</td>\n",
       "      <td>0</td>\n",
       "      <td>2015</td>\n",
       "      <td>9</td>\n",
       "      <td>20</td>\n",
       "      <td>6.76</td>\n",
       "      <td>Chip Transaction</td>\n",
       "      <td>-7837310524365334241</td>\n",
       "      <td>Littleton</td>\n",
       "      <td>CO</td>\n",
       "      <td>80122.0</td>\n",
       "      <td>5300</td>\n",
       "      <td>No Error</td>\n",
       "      <td>0</td>\n",
       "      <td>14</td>\n",
       "      <td>58</td>\n",
       "    </tr>\n",
       "    <tr>\n",
       "      <th>17070521</th>\n",
       "      <td>1384</td>\n",
       "      <td>0</td>\n",
       "      <td>2014</td>\n",
       "      <td>10</td>\n",
       "      <td>12</td>\n",
       "      <td>9.17</td>\n",
       "      <td>Swipe Transaction</td>\n",
       "      <td>-5023497618971072366</td>\n",
       "      <td>Gardner</td>\n",
       "      <td>KS</td>\n",
       "      <td>66030.0</td>\n",
       "      <td>5812</td>\n",
       "      <td>No Error</td>\n",
       "      <td>0</td>\n",
       "      <td>11</td>\n",
       "      <td>44</td>\n",
       "    </tr>\n",
       "  </tbody>\n",
       "</table>\n",
       "</div>"
      ],
      "text/plain": [
       "          User  Card  Year  Month  Day  Amount            Use Chip  \\\n",
       "18199893  1470     0  2019      7   10   59.18    Chip Transaction   \n",
       "9731325    822     1  2019      1   14  280.91  Online Transaction   \n",
       "536687      41     3  2010      3   15 -144.00   Swipe Transaction   \n",
       "13223840  1084     0  2015      9   20    6.76    Chip Transaction   \n",
       "17070521  1384     0  2014     10   12    9.17   Swipe Transaction   \n",
       "\n",
       "                Merchant Name Merchant City Merchant State      Zip   MCC  \\\n",
       "18199893 -6853385250336487907       Harwood             MD  20776.0  5813   \n",
       "9731325   4241336128694185533        ONLINE       No State      0.0  4814   \n",
       "536687     190253443608377572         Hemet             CA  92543.0  3359   \n",
       "13223840 -7837310524365334241     Littleton             CO  80122.0  5300   \n",
       "17070521 -5023497618971072366       Gardner             KS  66030.0  5812   \n",
       "\n",
       "           Errors?  Is Fraud? Hour Minute  \n",
       "18199893  No Error          0   00     11  \n",
       "9731325   No Error          0   22     12  \n",
       "536687    No Error          0   07     07  \n",
       "13223840  No Error          0   14     58  \n",
       "17070521  No Error          0   11     44  "
      ]
     },
     "execution_count": 16,
     "metadata": {},
     "output_type": "execute_result"
    }
   ],
   "source": [
    "subset_df.head()"
   ]
  },
  {
   "cell_type": "markdown",
   "id": "38e66070",
   "metadata": {},
   "source": [
    "### 1.3 Visualization"
   ]
  },
  {
   "cell_type": "code",
   "execution_count": 17,
   "id": "b804efdb",
   "metadata": {
    "execution": {
     "iopub.execute_input": "2024-03-08T09:08:40.099369Z",
     "iopub.status.busy": "2024-03-08T09:08:40.099004Z",
     "iopub.status.idle": "2024-03-08T09:08:40.115419Z",
     "shell.execute_reply": "2024-03-08T09:08:40.114600Z",
     "shell.execute_reply.started": "2024-03-08T09:08:40.099339Z"
    }
   },
   "outputs": [],
   "source": [
    "fraud_data = subset_df[subset_df['Is Fraud?'] == 1]"
   ]
  },
  {
   "cell_type": "markdown",
   "id": "b7a57369",
   "metadata": {},
   "source": [
    "### （1）Distribution of Fraudulent Transaction Amount"
   ]
  },
  {
   "cell_type": "code",
   "execution_count": 18,
   "id": "db80ff6e",
   "metadata": {
    "execution": {
     "iopub.execute_input": "2024-03-08T09:08:40.117043Z",
     "iopub.status.busy": "2024-03-08T09:08:40.116678Z",
     "iopub.status.idle": "2024-03-08T09:08:40.479737Z",
     "shell.execute_reply": "2024-03-08T09:08:40.478737Z",
     "shell.execute_reply.started": "2024-03-08T09:08:40.117012Z"
    }
   },
   "outputs": [
    {
     "data": {
      "image/png": "[encoded data removed]",
      "text/plain": [
       "<Figure size 640x480 with 1 Axes>"
      ]
     },
     "metadata": {},
     "output_type": "display_data"
    }
   ],
   "source": [
    "import matplotlib.pyplot as plt\n",
    "import seaborn as sns\n",
    "\n",
    "sns.distplot(fraud_data['Amount'].astype(float), kde=False, bins=80)\n",
    "plt.title('Distribution of Fraudulent Transaction Amounts')\n",
    "plt.xlabel('Amount')\n",
    "plt.ylabel('Number of Transactions')\n",
    "plt.xlim(-200, 2000)\n",
    "plt.show()"
   ]
  },
  {
   "cell_type": "markdown",
   "id": "4a24c49f",
   "metadata": {},
   "source": [
    "### (3) Transaction amount by fraud"
   ]
  },
  {
   "cell_type": "code",
   "execution_count": 19,
   "id": "56075f2a",
   "metadata": {
    "execution": {
     "iopub.execute_input": "2024-03-08T09:08:40.481266Z",
     "iopub.status.busy": "2024-03-08T09:08:40.480971Z",
     "iopub.status.idle": "2024-03-08T09:08:46.848562Z",
     "shell.execute_reply": "2024-03-08T09:08:46.847497Z",
     "shell.execute_reply.started": "2024-03-08T09:08:40.481241Z"
    }
   },
   "outputs": [
    {
     "data": {
      "image/png": "[encoded data removed]",
      "text/plain": [
       "<Figure size 640x480 with 1 Axes>"
      ]
     },
     "metadata": {},
     "output_type": "display_data"
    }
   ],
   "source": [
    "#transaction amount by fraud\n",
    "subset_df.boxplot(column='Amount', by='Is Fraud?')\n",
    "plt.title('Box Plot of Transaction Amounts by Fraud Status')\n",
    "plt.suptitle('')\n",
    "plt.show()"
   ]
  },
  {
   "cell_type": "markdown",
   "id": "36d4496a",
   "metadata": {},
   "source": [
    "### (4)Time - by year"
   ]
  },
  {
   "cell_type": "code",
   "execution_count": 20,
   "id": "954b2a89",
   "metadata": {
    "execution": {
     "iopub.execute_input": "2024-03-08T09:08:46.850326Z",
     "iopub.status.busy": "2024-03-08T09:08:46.849951Z",
     "iopub.status.idle": "2024-03-08T09:08:47.260812Z",
     "shell.execute_reply": "2024-03-08T09:08:47.259824Z",
     "shell.execute_reply.started": "2024-03-08T09:08:46.850294Z"
    }
   },
   "outputs": [
    {
     "data": {
      "image/png": "[encoded data removed]",
      "text/plain": [
       "<Figure size 1500x1000 with 1 Axes>"
      ]
     },
     "metadata": {},
     "output_type": "display_data"
    }
   ],
   "source": [
    "fraud_counts_per_year = subset_df[subset_df['Is Fraud?'] == 1].groupby('Year').size()\n",
    "\n",
    "# Now create the line plot with the aggregated data\n",
    "plt.figure(figsize=(15, 10))\n",
    "sns.lineplot(data=fraud_counts_per_year)\n",
    "plt.title('Number of Fraudulent Transactions by Year')\n",
    "plt.xlabel('Year')  # Optional: it's good practice to label your axes\n",
    "plt.ylabel('Number of Fraudulent Transactions')  # Optional: label for y-axis\n",
    "plt.show()"
   ]
  },
  {
   "cell_type": "markdown",
   "id": "7a6f7219",
   "metadata": {},
   "source": [
    "### - by date"
   ]
  },
  {
   "cell_type": "code",
   "execution_count": 21,
   "id": "1feffb76",
   "metadata": {
    "execution": {
     "iopub.execute_input": "2024-03-08T09:08:47.262467Z",
     "iopub.status.busy": "2024-03-08T09:08:47.262119Z",
     "iopub.status.idle": "2024-03-08T09:08:49.329426Z",
     "shell.execute_reply": "2024-03-08T09:08:49.328387Z",
     "shell.execute_reply.started": "2024-03-08T09:08:47.262434Z"
    }
   },
   "outputs": [
    {
     "data": {
      "image/png": "[encoded data removed]",
      "text/plain": [
       "<Figure size 1000x600 with 1 Axes>"
      ]
     },
     "metadata": {},
     "output_type": "display_data"
    }
   ],
   "source": [
    "subset_df['Date'] = pd.to_datetime(subset_df[['Year', 'Month', 'Day']])\n",
    "\n",
    "# Extract day of the week and map it to its name\n",
    "days = {0:'Mon', 1:'Tue', 2:'Wed', 3:'Thu', 4:'Fri', 5:'Sat', 6:'Sun'}\n",
    "subset_df['Day of Week'] = subset_df['Date'].dt.dayofweek.map(days)\n",
    "\n",
    "fraud_data = subset_df[subset_df['Is Fraud?'] == 1]\n",
    "\n",
    "# Visualize\n",
    "plt.figure(figsize=(10, 6))\n",
    "sns.countplot(data=fraud_data, x='Day of Week', order=['Mon', 'Tue', 'Wed', 'Thu', 'Fri', 'Sat', 'Sun'], palette=\"Blues_d\")\n",
    "plt.title('Number of Fraudulent Transactions by Day of the Week')\n",
    "plt.show()"
   ]
  },
  {
   "cell_type": "markdown",
   "id": "a5549473",
   "metadata": {},
   "source": [
    "### - by months"
   ]
  },
  {
   "cell_type": "code",
   "execution_count": 22,
   "id": "19622928",
   "metadata": {
    "execution": {
     "iopub.execute_input": "2024-03-08T09:08:49.331223Z",
     "iopub.status.busy": "2024-03-08T09:08:49.330847Z",
     "iopub.status.idle": "2024-03-08T09:08:50.834030Z",
     "shell.execute_reply": "2024-03-08T09:08:50.833062Z",
     "shell.execute_reply.started": "2024-03-08T09:08:49.331189Z"
    }
   },
   "outputs": [
    {
     "data": {
      "text/html": [
       "        <script type=\"text/javascript\">\n",
       "        window.PlotlyConfig = {MathJaxConfig: 'local'};\n",
       "        if (window.MathJax && window.MathJax.Hub && window.MathJax.Hub.Config) {window.MathJax.Hub.Config({SVG: {font: \"STIX-Web\"}});}\n",
       "        if (typeof require !== 'undefined') {\n",
       "        require.undef(\"plotly\");\n",
       "        requirejs.config({\n",
       "            paths: {\n",
       "                'plotly': ['https://cdn.plot.ly/plotly-2.27.0.min']\n",
       "            }\n",
       "        });\n",
       "        require(['plotly'], function(Plotly) {\n",
       "            window._Plotly = Plotly;\n",
       "        });\n",
       "        }\n",
       "        </script>\n",
       "        "
      ]
     },
     "metadata": {},
     "output_type": "display_data"
    },
    {
     "data": {
      "text/html": [
       "<div>                            <div id=\"1a0081c6-e786-450d-800f-e41baa266ce6\" class=\"plotly-graph-div\" style=\"height:525px; width:100%;\"></div>            <script type=\"text/javascript\">                require([\"plotly\"], function(Plotly) {                    window.PLOTLYENV=window.PLOTLYENV || {};                                    if (document.getElementById(\"1a0081c6-e786-450d-800f-e41baa266ce6\")) {                    Plotly.newPlot(                        \"1a0081c6-e786-450d-800f-e41baa266ce6\",                        [{\"alignmentgroup\":\"True\",\"bingroup\":\"x\",\"hovertemplate\":\"Month=%{x}\\u003cbr\\u003ecount=%{y}\\u003cextra\\u003e\\u003c\\u002fextra\\u003e\",\"legendgroup\":\"\",\"marker\":{\"color\":\"#636efa\",\"pattern\":{\"shape\":\"\"}},\"name\":\"\",\"offsetgroup\":\"\",\"orientation\":\"v\",\"showlegend\":false,\"x\":[6,8,5,3,4,11,10,11,12,1,7,5,12,8,9,3,9,11,2,6,7,11,8,7,8,3,11,2,6,3,12,10,4,10,10,12,5,10,10,8,5,4,6,5,5,12,10,8,3,3,3,7,4,10,5,3,9,7,5,1,8,7,9,8,1,8,12,9,1,7,2,2,2,3,9,11,1,11,12,7,10,4,6,8,10,6,8,2,11,8,4,4,6,6,5,3,9,10,2,4,2,2,12,3,6,3,7,10,8,5,9,7,11,4,8,7,2,7,2,8,4,11,10,3,9,10,11,3,3,9,9,6,10,12,9,2,1,10,10,11,11,11,11,9,4,4,9,7,12,9,10,8,12,10,5,8,8,8,1,10,5,10,11,8,7,3,9,10,9,12,1,2,3,1,9,8,7,12,1,9,2,12,3,3,8,1,11,2,7,3,11,7,7,7,10,6,8,5,2,1,2,10,12,9,4,4,10,1,3,1,3,6,4,2,3,1,7,4,12,4,11,7,7,11,10,10,4,4,4,9,12,9,12,6,12,7,3,3,7,2,2,10,5,3,11,5,10,7,3,6,10,12,11,7,10,3,2,1,10,6,8,9,7,4,12,3,7,9,12,6,12,7,11,10,11,2,9,6,8,8,4,5,3,6,11,2,2,5,4,4,10,5,9,8,10,6,4,9,7,10,11,12,4,12,12,9,8,8,5,1,8,5,11,8,5,7,6,10,7,10,2,11,8,8,11,12,9,12,5,4,8,5,10,1,1,4,5,11,8,5,10,2,12,1,12,12,4,11,6,2,11,3,8,3,1,2,1,1,2,9,9,12,1,2,3,9,11,10,3,4,4,8,12,8,4,5,4,11,8,5,6,12,6,11,9,12,9,11,12,3,5,7,5,12,2,12,9,12,12,5,3,4,6,4,6,11,10,11,8,10,2,7,6,3,12,7,3,11,1,7,12,11,2,5,5,11,4,5,8,1,2,4,11,10,7,2,3,8,4,8,10,9,8,5,2,3,1,9,4,1,5,4,11,5,11,10,9,4,8,6,1,2,11,2,11,10,11,9,10,12,2,11,3,11,11,1,3,11,12,11,1,10,11,6,5,2,3,11,6,2,9,4,12,5,7,8,11,10,10,3,12,1,9,9,7,2,10,4,5,9,4,3,12,8,6,5,9,12,4,4,6,9,9,5,7,8,5,1,9,11,5,3,9,2,2,10,5,9,11,7,3,2,1,12,1,10,12,8,3,5,12,4,12,2,7,5,8,7,12,1,8,7,4,1,7,4,1,1,12,3,6,2,11,12,12,3,5,8,5,2,3,3,12,12,4,10,4,11,9,12,9,6,12,1,3,5,4,12,11,3,12,4,10,2,12,10,4,12,11,11,5,7,9,7,6,6,5,12,7,10,2,12,11,4,8,10,12,2,11,11,2,3,10,5,9,10,10,7,8,11,10,7,12,3,4,3,3,12,1,4,7,3,3,4,8,9,5,4,8,11,2,3,7,7,9,6,1,12,6,5,2,1,10,5,4,2,5,12,5,10,7,10,6,5,8,5,3,7,2,5,12,7,5,4,8,12,10,7,3,8,12,7,4,5,2,11,1,5,5,2,8,4,9,5,10,7,10,9,9,5,1,3,8,2,5,9,2,5,8,5,1,9,1,2,7,12,5,5,6,3,8,2,6,11,6,8,2,7,2,10,3,5,12,7,12,5,8,3,3,1,4,5,12,7,12,8,5,6,1,4,11,3,3,4,5,9,7,11,5,8,2,3,5,4,12,1,9,8,12,4,11,10,4,9,12,6,7,4,6,5,12,11,2,12,3,2,8,1,10,3,4,9,5,2,8,9,11,2,10,3,3,8,9,5,10,5,11,7,10,11,12,12,1,4,11,12,10,1,5,4,9,7,8,5,4,3,12,2,1,11,9,9,5,3,7,7,11,9,11,4,5,10,3,12,9,1,5,4,11,3,4,3,2,12,7,4,10,12,7,5,10,1,2,12,12,11,8,4,6,10,9,10,10,7,4,11,8,11,9,8,12,11,9,8,4,8,1,7,10,2,2,12,10,1,11,9,12,4,5,6,10,8,9,2,2,12,10,10,6,5,10,4,9,11,3,4,10,5,5,11,10,7,1,2,7,9,10,1,5,11,8,6,6,6,11,10,8,3,10,9,1,4,6,7,1,10,5,6,10,12,11,8,7,11,4,12,2,8,2,11,7,5,11,8,6,1,11,2,6,4,9,2,8,11,9,3,8,7,10,6,12,6,10,8,4,12,5,10,11,2,9,8,5,5,9,11,5,3,8,5,6,10,12,5,4,2,6,9,10,10,11,8,11,8,10,7,10,2,8,4,12,11,12,2,10,2,11,1,6,10,11,3,9,4,8,1,11,4,1,7,6,1,4,3,11,12,3,3,3,12,3,2,11,8,8,5,9,9,5,9,4,9,3,12,4,10,5,10,8,4,11,3,7,6,7,9,7,8,4,9,4,8,1,1,6,12,6,10,6,4,12,6,1,6,4,6,2,10,11,2,9,9,7,11,5,8,6,9,2,8,4,1,8,8,5,5,6,7,5,4,9,2,11,7,12,7,4,5,1,8,1,5,4,8,12,9,4,9,12,5,3,10,4,8,5,9,9,8,11,12,5,4,12,8,4,1,2,6,4,9,3,5,5,6,2,5,2,3,9,4,2,5,11,1,1,9,7,3,10,12,2,11,12,1,6,8,10,10,3,7,12,5,6,12,7,7,2,2,7,7,2,10,9,11,11,5,9,11,1,6,9,1,10,12,9,5,7,8,7,8,4,6,4,2,6,1,9,1,9,5,12,12,8,8,1,8,12,11,11,9,9,8,5,7,3,6,2,2,4,12,12,5,4,9,7,11,2,2,3,6,3,4,12,8,4,7,8,4,11,9,9,11,6,10,8,1,4,12,1,10,7,3,9,4,12,3,12,6,3,3,8,9,7,10,5,11,2,2,5,8,5,8,3,5,3,10,2,4,4,1,11,12,3,9,12,2,10,8,9,11,2,10,11,8,2,9,2,12,11,5,11,10,5,3,4,5,11,3,6,10,11,8,9,6,8,11,1,10,6,2,12,8,4,7,11,1,1,5,11,9,11,4,6,6,7,12,9,5,12,8,12,1,6,1,5,10,3,11,12,4,3,9,7,2,8,6,5,2,11,7,10,4,2,1,6,2,1,10,5,5,7,8,8,10,3,11,12,3,9,11,2,1,12,11,6,7,1,8,7,8,12,6,5,10,4,12,2,10,10,6,10,4,1,6,6,3,11,6,2,11,2,7,12,4,4,6,3,9,6,3,10,6,8,5,10,6,5,4,6,7,12,9,1,1,10,11,3,12,3,12,2,2,6,11,6,3,5,7,12,1,11,4,11,9,5,5,5,3,5,8,4,8,1,3,12,7,10,1,3,1,12,6,2,6,1,4,4,2,11,2,11,12,3,3,9,11,4,10,11,12,8,12,7,4,2,11,8,1,10,12,11,7,1,1,9,3,11,9,11,11,10,11,4,8,7,1,3,3,2,3,8,6,11,6,2,11,9,1,12,10,11,5,10,11,6,8,3,10,7,4,3,6,3,9,10,3,4,4,8,9,4,5,10,11,11,12,8,11,4,4,10,9,10,8,10,2,3,7,2,6,7,9,11,12,1,10,1,9,11,9,1,12,10,9,4,1,9,4,12,5,11,8,11,3,3,9,6,8,6,5,11,7,6,10,6,8,4,5,5,11,3,5,6,4,11,12,4,3,10,3,5,7,7,4,11,2,7,5,11,7,11,10,9,2,11,2,7,6,8,5,3,4,7,6,8,7,5,7,9,12,12,9,1,3,8,11,5,3,12,4,8,2,10,7,7,11,8,6,3,5,2,5,11,2,6,1,6,4,7,3,12,4,9,11,12,10,4,5,7,3,4,12,6,2,10,1,5,8,3,11,4,3,4,8,4,4,10,12,6,5,8,2,12,4,8,3,5,4,7,5,12,12,10,9,11,3,3,3,1,8,7,9,8,10,10,6,2,1,8,4,5,12,11,10,10,11,11,9,12,1,7,9,9,6,9,6,6,5,7,12,8,2,1,10,7,1,12,7,6,12,6,7,10,6,3,1,2,2,4,6,1,9,3,6,2,10,6,10,11,5,4,6,11,11,3,9,6,5,8,6,6,10,3,1,5,10,2,9,4,2,3,9,7,6,3,6,8,12,10,11,5,5,7,9,8,5,3,8,1,11,12,12,2,6,7,10,9,6,4,12,11,2,3,2,3,10,4,10,9,1,12,7,7,2,5,8,2,4,11,10,9,8,8,10,1,8,1,4,4,6,8,9,10,10,9,2,2,3,4,2,5,11,12,12,4,9,11,5,11,3,2,1,8,1,9,10,3,3,1,3,8,12,2,4,6,3,8,7,5,4,8,8,4,10,10,1,10,12,10,5,7,11,4,11,9,12,3,8,5,12,3,5,9,6,10,11,3,6,5,2,11,3,6,7,4,8,9,4,8,12,5,7,5,8,8,3,2,11,5,6,8,10,9,5,7,11,7,3,1,3,2,7,6,1,4,9,3,11,10,10,9,5,8,8,5,6,9,11,7,2,12,1,3,2,10,9,4,7,9,7,8,8,8,1,11,6,7,3,11,6,1,5,2,6,5,1,7,2,5,6,5,3,10,5,1,9,11,8,12,11,12,2,8,5,3,6,1,1,2,4,2,4,1,8,12,2,12,10,4,2,12,2,7,10,4,5,3,7,10,9,12,3,1,3,9,4,10,5,1,2,3,2,12,7,7,12,2,6,6,9,2,6,2,11,7,12,2,5,7,12,9,7,2,4,2,9,6,5,11,10,12,12,6,4,11,5,8,2,8,3,5,9,3,4,12,5,9,6,4,4,10,8,5,11,9,10,4,7,12,3,2,5,4,12,10,4,5,5,10,10,4,10,3,9,6,7,9,2,5,3,4,2,7,9,11,8,2,11,10,9,8,2,9,11,6,3,7,1,11,12,9,5,10,8,9,4,8,1,9,6,2,8,12,3,3,9,1,5,8,2,7,11,5,5,2,1,4,1,1,4,10,10,1,5,5,11,7,3,6,5,4,3,6,11,6,8,7,5,5,11,11,8,8,10,3,11,11,8,5,10,1,7,5,8,5,11,9,6,12,12,9,6,3,9,8,5,10,5,8,11,6,7,8,10,6,2,10,12,11,8,12,4,6,2,1,6,11,12,2,2,7,7,10,3,9,6,11,3,2,10,12,6,1,4,11,1,6,5,12,8,10,5,1,4,3,4,8,8,7,5,6,12,8,11,12,11,7,9,2,11,7,6,8,3,7,11,3,6,1,2,7,1,3,12,5,2,2,11,8,6,7,5,4,1,2,4,8,6,11,12,8,11,11,3,7,1,9,7,4,10,1,7,1,1,8,8,9,1,1,10,3,12,10,9,1,8,7,7,7,2,12,10,5,11,6,5,12,5,4,4,7,2,10,10,7,3,4,8,3,3,12,11,1,3,8,5,8,8,6,10,5,10,3,3,6,10,8,3,7,4,3,1,11,5,9,10,10,3,10,5,10,5,12,11,12,3,1,1,12,7,8,7,8,8,2,5,12,11,4,11,12,2,4,12,11,5,9,1,5,10,12,10,11,7,11,11,7,10,3,11,8,9,5,8,12,6,4,12,9,4,7,6,3,9,2,5,2,5,12,9,11,3,11,11,2,3,10,5,10,4,2,12,11,12,11,2,8,1,6,1,7,10,3,8,4,6,9,9,6,4,5,10,8,9,3,11,10,2,9,8,2,7,9,1,1,7,5,4,5,8,10,5,5,5,12,11,6,6,9,9,6,2,5,9,5,8,6,7,1,9,8,12,10,3,9,2,7,6,6,10,11,12,10,3,5,11,10,2,4,8,12,4,1,6,1,9,11,5,1,11,8,11,1,3,11,5,9,11,2,9,7,8,11,6,6,2,5,9,11,2,1,5,6,10,12,10,11,8,6,5,6,3,7,6,2,12,6,10,5,4,8,12,3,11,2,11,10,12,10,2,10,10,5,6,9,3,4,10,1,1,5,11,6,5,2,6,5,12,7,10,3,11,7,6,8,8,6,12,6,3,3,10,5,3,7,6,11,12,6,8,4,8,12,10,10,11,10,8,5,9,1,8,7,1,8,12,10,3,4,7,7,9,7,4,10,10,3,11,10,9,1,11,3,7,5,8,1,3,6,1,1,4,9,4,8,11,9,1,2,9,6,10,12,11,4,2,9,8,8,1,4,9,7,7,11,10,3,7,7,6,1,3,2,9,12,10,11,2,10,11,12,6,2,2,8,4,10,7,6,2,1,10,8,8,12,2,3,10,10,7,12,8,3,6,7,12,12,2,11,6,10,4,10,5,1,12,1,10,6,4,7,11,1,7,3,8,12,5,2,1,10,5,4,2,7,10,10,10,2,11,10,5,10,10,12,1,5,12,8,5,2,6,10,3,6,5,10,5,11,10,3,8,4,8,2,6,12,7,10,9,7,11,7,7,6,10,6,2,7,8,3,2,7,2,6,3,6,4,1,5,6,3,5,8,1,1,10,3,4,11,5,11,9,1,12,10,10,10,11,11,5,10,1,3,8,12,12,2,10,11,12,8,3,2,11,1,12,6,10,11,5,7,5,9,3,11,12,10,10,9,8,11,1,12,1,2,5,7,7,2,3,8,12,8,3,1,9,1,5,11,8,1,5,5,4,12,12,11,1,2,12,6,1,12,11,12,12,9,10,7,5,4,1,3,10,12,11,8,5,11,2,11,12,12,3,12,2,12,9,11,5,2,9,9,11,4,7,1,5,3,9,11,12,3,4],\"xaxis\":\"x\",\"yaxis\":\"y\",\"type\":\"histogram\"}],                        {\"template\":{\"data\":{\"histogram2dcontour\":[{\"type\":\"histogram2dcontour\",\"colorbar\":{\"outlinewidth\":0,\"ticks\":\"\"},\"colorscale\":[[0.0,\"#0d0887\"],[0.1111111111111111,\"#46039f\"],[0.2222222222222222,\"#7201a8\"],[0.3333333333333333,\"#9c179e\"],[0.4444444444444444,\"#bd3786\"],[0.5555555555555556,\"#d8576b\"],[0.6666666666666666,\"#ed7953\"],[0.7777777777777778,\"#fb9f3a\"],[0.8888888888888888,\"#fdca26\"],[1.0,\"#f0f921\"]]}],\"choropleth\":[{\"type\":\"choropleth\",\"colorbar\":{\"outlinewidth\":0,\"ticks\":\"\"}}],\"histogram2d\":[{\"type\":\"histogram2d\",\"colorbar\":{\"outlinewidth\":0,\"ticks\":\"\"},\"colorscale\":[[0.0,\"#0d0887\"],[0.1111111111111111,\"#46039f\"],[0.2222222222222222,\"#7201a8\"],[0.3333333333333333,\"#9c179e\"],[0.4444444444444444,\"#bd3786\"],[0.5555555555555556,\"#d8576b\"],[0.6666666666666666,\"#ed7953\"],[0.7777777777777778,\"#fb9f3a\"],[0.8888888888888888,\"#fdca26\"],[1.0,\"#f0f921\"]]}],\"heatmap\":[{\"type\":\"heatmap\",\"colorbar\":{\"outlinewidth\":0,\"ticks\":\"\"},\"colorscale\":[[0.0,\"#0d0887\"],[0.1111111111111111,\"#46039f\"],[0.2222222222222222,\"#7201a8\"],[0.3333333333333333,\"#9c179e\"],[0.4444444444444444,\"#bd3786\"],[0.5555555555555556,\"#d8576b\"],[0.6666666666666666,\"#ed7953\"],[0.7777777777777778,\"#fb9f3a\"],[0.8888888888888888,\"#fdca26\"],[1.0,\"#f0f921\"]]}],\"heatmapgl\":[{\"type\":\"heatmapgl\",\"colorbar\":{\"outlinewidth\":0,\"ticks\":\"\"},\"colorscale\":[[0.0,\"#0d0887\"],[0.1111111111111111,\"#46039f\"],[0.2222222222222222,\"#7201a8\"],[0.3333333333333333,\"#9c179e\"],[0.4444444444444444,\"#bd3786\"],[0.5555555555555556,\"#d8576b\"],[0.6666666666666666,\"#ed7953\"],[0.7777777777777778,\"#fb9f3a\"],[0.8888888888888888,\"#fdca26\"],[1.0,\"#f0f921\"]]}],\"contourcarpet\":[{\"type\":\"contourcarpet\",\"colorbar\":{\"outlinewidth\":0,\"ticks\":\"\"}}],\"contour\":[{\"type\":\"contour\",\"colorbar\":{\"outlinewidth\":0,\"ticks\":\"\"},\"colorscale\":[[0.0,\"#0d0887\"],[0.1111111111111111,\"#46039f\"],[0.2222222222222222,\"#7201a8\"],[0.3333333333333333,\"#9c179e\"],[0.4444444444444444,\"#bd3786\"],[0.5555555555555556,\"#d8576b\"],[0.6666666666666666,\"#ed7953\"],[0.7777777777777778,\"#fb9f3a\"],[0.8888888888888888,\"#fdca26\"],[1.0,\"#f0f921\"]]}],\"surface\":[{\"type\":\"surface\",\"colorbar\":{\"outlinewidth\":0,\"ticks\":\"\"},\"colorscale\":[[0.0,\"#0d0887\"],[0.1111111111111111,\"#46039f\"],[0.2222222222222222,\"#7201a8\"],[0.3333333333333333,\"#9c179e\"],[0.4444444444444444,\"#bd3786\"],[0.5555555555555556,\"#d8576b\"],[0.6666666666666666,\"#ed7953\"],[0.7777777777777778,\"#fb9f3a\"],[0.8888888888888888,\"#fdca26\"],[1.0,\"#f0f921\"]]}],\"mesh3d\":[{\"type\":\"mesh3d\",\"colorbar\":{\"outlinewidth\":0,\"ticks\":\"\"}}],\"scatter\":[{\"fillpattern\":{\"fillmode\":\"overlay\",\"size\":10,\"solidity\":0.2},\"type\":\"scatter\"}],\"parcoords\":[{\"type\":\"parcoords\",\"line\":{\"colorbar\":{\"outlinewidth\":0,\"ticks\":\"\"}}}],\"scatterpolargl\":[{\"type\":\"scatterpolargl\",\"marker\":{\"colorbar\":{\"outlinewidth\":0,\"ticks\":\"\"}}}],\"bar\":[{\"error_x\":{\"color\":\"#2a3f5f\"},\"error_y\":{\"color\":\"#2a3f5f\"},\"marker\":{\"line\":{\"color\":\"#E5ECF6\",\"width\":0.5},\"pattern\":{\"fillmode\":\"overlay\",\"size\":10,\"solidity\":0.2}},\"type\":\"bar\"}],\"scattergeo\":[{\"type\":\"scattergeo\",\"marker\":{\"colorbar\":{\"outlinewidth\":0,\"ticks\":\"\"}}}],\"scatterpolar\":[{\"type\":\"scatterpolar\",\"marker\":{\"colorbar\":{\"outlinewidth\":0,\"ticks\":\"\"}}}],\"histogram\":[{\"marker\":{\"pattern\":{\"fillmode\":\"overlay\",\"size\":10,\"solidity\":0.2}},\"type\":\"histogram\"}],\"scattergl\":[{\"type\":\"scattergl\",\"marker\":{\"colorbar\":{\"outlinewidth\":0,\"ticks\":\"\"}}}],\"scatter3d\":[{\"type\":\"scatter3d\",\"line\":{\"colorbar\":{\"outlinewidth\":0,\"ticks\":\"\"}},\"marker\":{\"colorbar\":{\"outlinewidth\":0,\"ticks\":\"\"}}}],\"scattermapbox\":[{\"type\":\"scattermapbox\",\"marker\":{\"colorbar\":{\"outlinewidth\":0,\"ticks\":\"\"}}}],\"scatterternary\":[{\"type\":\"scatterternary\",\"marker\":{\"colorbar\":{\"outlinewidth\":0,\"ticks\":\"\"}}}],\"scattercarpet\":[{\"type\":\"scattercarpet\",\"marker\":{\"colorbar\":{\"outlinewidth\":0,\"ticks\":\"\"}}}],\"carpet\":[{\"aaxis\":{\"endlinecolor\":\"#2a3f5f\",\"gridcolor\":\"white\",\"linecolor\":\"white\",\"minorgridcolor\":\"white\",\"startlinecolor\":\"#2a3f5f\"},\"baxis\":{\"endlinecolor\":\"#2a3f5f\",\"gridcolor\":\"white\",\"linecolor\":\"white\",\"minorgridcolor\":\"white\",\"startlinecolor\":\"#2a3f5f\"},\"type\":\"carpet\"}],\"table\":[{\"cells\":{\"fill\":{\"color\":\"#EBF0F8\"},\"line\":{\"color\":\"white\"}},\"header\":{\"fill\":{\"color\":\"#C8D4E3\"},\"line\":{\"color\":\"white\"}},\"type\":\"table\"}],\"barpolar\":[{\"marker\":{\"line\":{\"color\":\"#E5ECF6\",\"width\":0.5},\"pattern\":{\"fillmode\":\"overlay\",\"size\":10,\"solidity\":0.2}},\"type\":\"barpolar\"}],\"pie\":[{\"automargin\":true,\"type\":\"pie\"}]},\"layout\":{\"autotypenumbers\":\"strict\",\"colorway\":[\"#636efa\",\"#EF553B\",\"#00cc96\",\"#ab63fa\",\"#FFA15A\",\"#19d3f3\",\"#FF6692\",\"#B6E880\",\"#FF97FF\",\"#FECB52\"],\"font\":{\"color\":\"#2a3f5f\"},\"hovermode\":\"closest\",\"hoverlabel\":{\"align\":\"left\"},\"paper_bgcolor\":\"white\",\"plot_bgcolor\":\"#E5ECF6\",\"polar\":{\"bgcolor\":\"#E5ECF6\",\"angularaxis\":{\"gridcolor\":\"white\",\"linecolor\":\"white\",\"ticks\":\"\"},\"radialaxis\":{\"gridcolor\":\"white\",\"linecolor\":\"white\",\"ticks\":\"\"}},\"ternary\":{\"bgcolor\":\"#E5ECF6\",\"aaxis\":{\"gridcolor\":\"white\",\"linecolor\":\"white\",\"ticks\":\"\"},\"baxis\":{\"gridcolor\":\"white\",\"linecolor\":\"white\",\"ticks\":\"\"},\"caxis\":{\"gridcolor\":\"white\",\"linecolor\":\"white\",\"ticks\":\"\"}},\"coloraxis\":{\"colorbar\":{\"outlinewidth\":0,\"ticks\":\"\"}},\"colorscale\":{\"sequential\":[[0.0,\"#0d0887\"],[0.1111111111111111,\"#46039f\"],[0.2222222222222222,\"#7201a8\"],[0.3333333333333333,\"#9c179e\"],[0.4444444444444444,\"#bd3786\"],[0.5555555555555556,\"#d8576b\"],[0.6666666666666666,\"#ed7953\"],[0.7777777777777778,\"#fb9f3a\"],[0.8888888888888888,\"#fdca26\"],[1.0,\"#f0f921\"]],\"sequentialminus\":[[0.0,\"#0d0887\"],[0.1111111111111111,\"#46039f\"],[0.2222222222222222,\"#7201a8\"],[0.3333333333333333,\"#9c179e\"],[0.4444444444444444,\"#bd3786\"],[0.5555555555555556,\"#d8576b\"],[0.6666666666666666,\"#ed7953\"],[0.7777777777777778,\"#fb9f3a\"],[0.8888888888888888,\"#fdca26\"],[1.0,\"#f0f921\"]],\"diverging\":[[0,\"#8e0152\"],[0.1,\"#c51b7d\"],[0.2,\"#de77ae\"],[0.3,\"#f1b6da\"],[0.4,\"#fde0ef\"],[0.5,\"#f7f7f7\"],[0.6,\"#e6f5d0\"],[0.7,\"#b8e186\"],[0.8,\"#7fbc41\"],[0.9,\"#4d9221\"],[1,\"#276419\"]]},\"xaxis\":{\"gridcolor\":\"white\",\"linecolor\":\"white\",\"ticks\":\"\",\"title\":{\"standoff\":15},\"zerolinecolor\":\"white\",\"automargin\":true,\"zerolinewidth\":2},\"yaxis\":{\"gridcolor\":\"white\",\"linecolor\":\"white\",\"ticks\":\"\",\"title\":{\"standoff\":15},\"zerolinecolor\":\"white\",\"automargin\":true,\"zerolinewidth\":2},\"scene\":{\"xaxis\":{\"backgroundcolor\":\"#E5ECF6\",\"gridcolor\":\"white\",\"linecolor\":\"white\",\"showbackground\":true,\"ticks\":\"\",\"zerolinecolor\":\"white\",\"gridwidth\":2},\"yaxis\":{\"backgroundcolor\":\"#E5ECF6\",\"gridcolor\":\"white\",\"linecolor\":\"white\",\"showbackground\":true,\"ticks\":\"\",\"zerolinecolor\":\"white\",\"gridwidth\":2},\"zaxis\":{\"backgroundcolor\":\"#E5ECF6\",\"gridcolor\":\"white\",\"linecolor\":\"white\",\"showbackground\":true,\"ticks\":\"\",\"zerolinecolor\":\"white\",\"gridwidth\":2}},\"shapedefaults\":{\"line\":{\"color\":\"#2a3f5f\"}},\"annotationdefaults\":{\"arrowcolor\":\"#2a3f5f\",\"arrowhead\":0,\"arrowwidth\":1},\"geo\":{\"bgcolor\":\"white\",\"landcolor\":\"#E5ECF6\",\"subunitcolor\":\"white\",\"showland\":true,\"showlakes\":true,\"lakecolor\":\"white\"},\"title\":{\"x\":0.05},\"mapbox\":{\"style\":\"light\"}}},\"xaxis\":{\"anchor\":\"y\",\"domain\":[0.0,1.0],\"title\":{\"text\":\"Month\"}},\"yaxis\":{\"anchor\":\"x\",\"domain\":[0.0,1.0],\"title\":{\"text\":\"count\"}},\"legend\":{\"tracegroupgap\":0},\"margin\":{\"t\":60},\"barmode\":\"relative\",\"bargap\":0.2,\"title\":{\"text\":\"Transactions Distribution over Months\"}},                        {\"responsive\": true}                    ).then(function(){\n",
       "                            \n",
       "var gd = document.getElementById('1a0081c6-e786-450d-800f-e41baa266ce6');\n",
       "var x = new MutationObserver(function (mutations, observer) {{\n",
       "        var display = window.getComputedStyle(gd).display;\n",
       "        if (!display || display === 'none') {{\n",
       "            console.log([gd, 'removed!']);\n",
       "            Plotly.purge(gd);\n",
       "            observer.disconnect();\n",
       "        }}\n",
       "}});\n",
       "\n",
       "// Listen for the removal of the full notebook cells\n",
       "var notebookContainer = gd.closest('#notebook-container');\n",
       "if (notebookContainer) {{\n",
       "    x.observe(notebookContainer, {childList: true});\n",
       "}}\n",
       "\n",
       "// Listen for the clearing of the current output cell\n",
       "var outputEl = gd.closest('.output');\n",
       "if (outputEl) {{\n",
       "    x.observe(outputEl, {childList: true});\n",
       "}}\n",
       "\n",
       "                        })                };                });            </script>        </div>"
      ]
     },
     "metadata": {},
     "output_type": "display_data"
    }
   ],
   "source": [
    "# Distribution of transactions over months\n",
    "fig = px.histogram(fraud_data, x=\"Month\")\n",
    "fig.update_layout(bargap=0.2, title=\"Transactions Distribution over Months\")\n",
    "fig.show()"
   ]
  },
  {
   "cell_type": "markdown",
   "id": "e9af8198",
   "metadata": {},
   "source": [
    "### - by hours"
   ]
  },
  {
   "cell_type": "code",
   "execution_count": 23,
   "id": "b0a63306",
   "metadata": {
    "execution": {
     "iopub.execute_input": "2024-03-08T09:08:50.835705Z",
     "iopub.status.busy": "2024-03-08T09:08:50.835354Z",
     "iopub.status.idle": "2024-03-08T09:08:50.909958Z",
     "shell.execute_reply": "2024-03-08T09:08:50.909046Z",
     "shell.execute_reply.started": "2024-03-08T09:08:50.835672Z"
    }
   },
   "outputs": [
    {
     "data": {
      "text/html": [
       "<div>                            <div id=\"c88ee657-e003-43ef-9bf5-79de8a886a67\" class=\"plotly-graph-div\" style=\"height:525px; width:100%;\"></div>            <script type=\"text/javascript\">                require([\"plotly\"], function(Plotly) {                    window.PLOTLYENV=window.PLOTLYENV || {};                                    if (document.getElementById(\"c88ee657-e003-43ef-9bf5-79de8a886a67\")) {                    Plotly.newPlot(                        \"c88ee657-e003-43ef-9bf5-79de8a886a67\",                        [{\"alignmentgroup\":\"True\",\"bingroup\":\"x\",\"hovertemplate\":\"Hour=%{x}\\u003cbr\\u003ecount=%{y}\\u003cextra\\u003e\\u003c\\u002fextra\\u003e\",\"legendgroup\":\"\",\"marker\":{\"color\":\"#636efa\",\"pattern\":{\"shape\":\"\"}},\"name\":\"\",\"offsetgroup\":\"\",\"orientation\":\"v\",\"showlegend\":false,\"x\":[\"11\",\"15\",\"10\",\"12\",\"09\",\"15\",\"12\",\"14\",\"19\",\"10\",\"11\",\"10\",\"12\",\"10\",\"19\",\"10\",\"10\",\"13\",\"16\",\"08\",\"03\",\"07\",\"06\",\"13\",\"10\",\"14\",\"14\",\"12\",\"08\",\"05\",\"17\",\"09\",\"11\",\"13\",\"11\",\"14\",\"19\",\"14\",\"11\",\"19\",\"13\",\"12\",\"11\",\"11\",\"14\",\"04\",\"09\",\"08\",\"17\",\"14\",\"03\",\"09\",\"15\",\"13\",\"16\",\"10\",\"10\",\"08\",\"03\",\"10\",\"14\",\"12\",\"05\",\"08\",\"11\",\"00\",\"19\",\"15\",\"07\",\"19\",\"08\",\"15\",\"04\",\"00\",\"14\",\"07\",\"10\",\"12\",\"11\",\"11\",\"04\",\"13\",\"10\",\"12\",\"09\",\"16\",\"12\",\"06\",\"07\",\"15\",\"14\",\"10\",\"15\",\"16\",\"18\",\"15\",\"11\",\"10\",\"08\",\"18\",\"10\",\"07\",\"09\",\"07\",\"05\",\"22\",\"14\",\"07\",\"11\",\"13\",\"11\",\"15\",\"13\",\"17\",\"10\",\"09\",\"12\",\"12\",\"07\",\"12\",\"06\",\"19\",\"15\",\"14\",\"10\",\"03\",\"09\",\"15\",\"12\",\"06\",\"14\",\"12\",\"14\",\"07\",\"06\",\"09\",\"09\",\"10\",\"05\",\"18\",\"10\",\"14\",\"09\",\"12\",\"13\",\"16\",\"15\",\"10\",\"11\",\"16\",\"10\",\"10\",\"10\",\"05\",\"07\",\"11\",\"12\",\"11\",\"13\",\"13\",\"15\",\"15\",\"00\",\"18\",\"10\",\"18\",\"07\",\"11\",\"12\",\"11\",\"13\",\"07\",\"14\",\"06\",\"13\",\"07\",\"09\",\"14\",\"17\",\"16\",\"21\",\"07\",\"14\",\"11\",\"14\",\"16\",\"12\",\"07\",\"11\",\"11\",\"07\",\"15\",\"13\",\"07\",\"09\",\"09\",\"10\",\"19\",\"07\",\"13\",\"10\",\"10\",\"11\",\"20\",\"07\",\"19\",\"14\",\"16\",\"17\",\"15\",\"14\",\"11\",\"08\",\"12\",\"11\",\"13\",\"05\",\"17\",\"15\",\"11\",\"12\",\"14\",\"09\",\"10\",\"11\",\"18\",\"14\",\"09\",\"12\",\"10\",\"10\",\"17\",\"10\",\"08\",\"08\",\"12\",\"19\",\"16\",\"01\",\"18\",\"12\",\"13\",\"11\",\"10\",\"05\",\"12\",\"16\",\"07\",\"10\",\"10\",\"16\",\"15\",\"05\",\"09\",\"07\",\"20\",\"10\",\"17\",\"09\",\"11\",\"11\",\"09\",\"13\",\"07\",\"16\",\"07\",\"14\",\"07\",\"10\",\"15\",\"16\",\"09\",\"14\",\"16\",\"09\",\"14\",\"08\",\"12\",\"13\",\"09\",\"17\",\"09\",\"08\",\"13\",\"17\",\"12\",\"08\",\"15\",\"16\",\"12\",\"14\",\"10\",\"12\",\"08\",\"12\",\"09\",\"14\",\"15\",\"11\",\"05\",\"10\",\"12\",\"19\",\"08\",\"12\",\"09\",\"11\",\"16\",\"16\",\"12\",\"10\",\"12\",\"11\",\"00\",\"15\",\"17\",\"04\",\"11\",\"12\",\"11\",\"16\",\"12\",\"13\",\"08\",\"11\",\"08\",\"08\",\"13\",\"07\",\"10\",\"18\",\"15\",\"15\",\"11\",\"11\",\"10\",\"12\",\"11\",\"17\",\"22\",\"01\",\"06\",\"15\",\"09\",\"11\",\"10\",\"04\",\"04\",\"03\",\"09\",\"11\",\"07\",\"14\",\"13\",\"09\",\"07\",\"13\",\"10\",\"14\",\"12\",\"16\",\"15\",\"07\",\"08\",\"13\",\"11\",\"07\",\"15\",\"18\",\"16\",\"15\",\"10\",\"13\",\"12\",\"13\",\"13\",\"05\",\"07\",\"12\",\"13\",\"11\",\"14\",\"19\",\"07\",\"13\",\"18\",\"16\",\"13\",\"12\",\"10\",\"15\",\"12\",\"11\",\"04\",\"09\",\"12\",\"10\",\"08\",\"09\",\"03\",\"11\",\"19\",\"13\",\"11\",\"12\",\"10\",\"05\",\"02\",\"15\",\"10\",\"11\",\"15\",\"13\",\"02\",\"14\",\"19\",\"11\",\"13\",\"18\",\"10\",\"12\",\"15\",\"15\",\"10\",\"13\",\"03\",\"12\",\"12\",\"11\",\"08\",\"14\",\"22\",\"12\",\"07\",\"10\",\"07\",\"11\",\"19\",\"15\",\"10\",\"13\",\"16\",\"11\",\"11\",\"18\",\"12\",\"08\",\"18\",\"15\",\"11\",\"00\",\"09\",\"10\",\"09\",\"11\",\"10\",\"15\",\"16\",\"08\",\"07\",\"12\",\"14\",\"06\",\"19\",\"14\",\"17\",\"11\",\"14\",\"04\",\"15\",\"07\",\"11\",\"18\",\"08\",\"10\",\"18\",\"06\",\"16\",\"07\",\"14\",\"10\",\"15\",\"10\",\"14\",\"11\",\"07\",\"09\",\"08\",\"19\",\"08\",\"05\",\"12\",\"07\",\"05\",\"04\",\"13\",\"07\",\"04\",\"10\",\"11\",\"09\",\"15\",\"14\",\"15\",\"09\",\"14\",\"15\",\"14\",\"14\",\"12\",\"10\",\"07\",\"12\",\"12\",\"10\",\"05\",\"03\",\"12\",\"09\",\"10\",\"10\",\"04\",\"13\",\"16\",\"15\",\"01\",\"13\",\"15\",\"09\",\"06\",\"13\",\"11\",\"18\",\"12\",\"05\",\"07\",\"12\",\"13\",\"11\",\"12\",\"13\",\"16\",\"07\",\"10\",\"23\",\"16\",\"18\",\"07\",\"16\",\"10\",\"11\",\"11\",\"05\",\"09\",\"13\",\"12\",\"15\",\"13\",\"11\",\"08\",\"09\",\"13\",\"09\",\"09\",\"12\",\"13\",\"10\",\"15\",\"04\",\"08\",\"10\",\"10\",\"02\",\"14\",\"10\",\"04\",\"13\",\"09\",\"13\",\"09\",\"19\",\"12\",\"10\",\"12\",\"08\",\"09\",\"13\",\"15\",\"13\",\"21\",\"12\",\"15\",\"06\",\"15\",\"12\",\"08\",\"09\",\"06\",\"10\",\"06\",\"11\",\"06\",\"12\",\"19\",\"21\",\"09\",\"11\",\"14\",\"10\",\"13\",\"13\",\"17\",\"13\",\"13\",\"07\",\"12\",\"08\",\"10\",\"15\",\"12\",\"08\",\"08\",\"16\",\"11\",\"16\",\"11\",\"11\",\"14\",\"12\",\"09\",\"11\",\"16\",\"11\",\"16\",\"09\",\"11\",\"09\",\"12\",\"15\",\"11\",\"09\",\"06\",\"13\",\"14\",\"13\",\"08\",\"13\",\"10\",\"13\",\"10\",\"12\",\"10\",\"09\",\"07\",\"09\",\"11\",\"07\",\"11\",\"10\",\"11\",\"08\",\"14\",\"14\",\"10\",\"16\",\"14\",\"12\",\"12\",\"03\",\"14\",\"12\",\"14\",\"12\",\"13\",\"13\",\"10\",\"14\",\"08\",\"16\",\"15\",\"13\",\"09\",\"13\",\"09\",\"13\",\"13\",\"12\",\"14\",\"06\",\"08\",\"03\",\"10\",\"16\",\"19\",\"00\",\"05\",\"09\",\"11\",\"12\",\"18\",\"11\",\"06\",\"04\",\"18\",\"15\",\"15\",\"07\",\"10\",\"18\",\"11\",\"10\",\"15\",\"19\",\"07\",\"17\",\"07\",\"19\",\"10\",\"11\",\"06\",\"15\",\"14\",\"16\",\"01\",\"15\",\"13\",\"00\",\"11\",\"15\",\"13\",\"12\",\"19\",\"11\",\"11\",\"10\",\"08\",\"13\",\"14\",\"12\",\"13\",\"11\",\"13\",\"10\",\"14\",\"15\",\"14\",\"17\",\"10\",\"12\",\"08\",\"19\",\"11\",\"03\",\"11\",\"15\",\"16\",\"14\",\"09\",\"16\",\"14\",\"11\",\"10\",\"11\",\"14\",\"15\",\"03\",\"10\",\"14\",\"10\",\"10\",\"09\",\"15\",\"19\",\"16\",\"15\",\"03\",\"08\",\"14\",\"07\",\"15\",\"04\",\"15\",\"14\",\"17\",\"11\",\"18\",\"10\",\"19\",\"16\",\"08\",\"05\",\"12\",\"14\",\"06\",\"07\",\"14\",\"16\",\"10\",\"14\",\"13\",\"09\",\"15\",\"05\",\"14\",\"09\",\"16\",\"06\",\"14\",\"17\",\"12\",\"10\",\"19\",\"17\",\"12\",\"11\",\"16\",\"12\",\"13\",\"09\",\"10\",\"16\",\"06\",\"13\",\"13\",\"13\",\"11\",\"14\",\"10\",\"14\",\"09\",\"11\",\"09\",\"07\",\"11\",\"03\",\"16\",\"10\",\"10\",\"16\",\"01\",\"10\",\"12\",\"16\",\"07\",\"11\",\"10\",\"10\",\"15\",\"12\",\"14\",\"17\",\"13\",\"09\",\"14\",\"17\",\"11\",\"14\",\"11\",\"04\",\"12\",\"10\",\"16\",\"15\",\"09\",\"12\",\"10\",\"07\",\"13\",\"07\",\"12\",\"13\",\"10\",\"12\",\"17\",\"14\",\"14\",\"07\",\"12\",\"13\",\"17\",\"17\",\"12\",\"04\",\"13\",\"15\",\"15\",\"13\",\"10\",\"13\",\"07\",\"15\",\"07\",\"11\",\"15\",\"11\",\"08\",\"11\",\"09\",\"13\",\"17\",\"10\",\"07\",\"12\",\"15\",\"08\",\"09\",\"11\",\"15\",\"09\",\"14\",\"11\",\"11\",\"10\",\"13\",\"10\",\"14\",\"07\",\"11\",\"18\",\"10\",\"08\",\"15\",\"16\",\"17\",\"11\",\"03\",\"18\",\"09\",\"13\",\"17\",\"09\",\"15\",\"12\",\"15\",\"15\",\"04\",\"09\",\"11\",\"03\",\"15\",\"10\",\"15\",\"05\",\"10\",\"17\",\"08\",\"17\",\"13\",\"09\",\"13\",\"09\",\"19\",\"15\",\"13\",\"09\",\"16\",\"10\",\"16\",\"09\",\"08\",\"13\",\"15\",\"13\",\"11\",\"10\",\"12\",\"11\",\"13\",\"15\",\"12\",\"13\",\"15\",\"11\",\"13\",\"13\",\"12\",\"15\",\"14\",\"11\",\"10\",\"14\",\"10\",\"14\",\"17\",\"12\",\"02\",\"14\",\"02\",\"12\",\"13\",\"10\",\"07\",\"23\",\"15\",\"12\",\"03\",\"03\",\"09\",\"10\",\"06\",\"13\",\"06\",\"17\",\"10\",\"11\",\"05\",\"16\",\"14\",\"09\",\"04\",\"05\",\"18\",\"12\",\"15\",\"10\",\"11\",\"10\",\"12\",\"05\",\"16\",\"08\",\"07\",\"10\",\"12\",\"08\",\"09\",\"15\",\"10\",\"14\",\"10\",\"09\",\"10\",\"11\",\"12\",\"12\",\"09\",\"05\",\"12\",\"16\",\"13\",\"12\",\"09\",\"13\",\"14\",\"13\",\"06\",\"11\",\"11\",\"03\",\"02\",\"11\",\"12\",\"11\",\"09\",\"12\",\"20\",\"10\",\"17\",\"12\",\"08\",\"15\",\"16\",\"12\",\"10\",\"10\",\"16\",\"15\",\"07\",\"15\",\"05\",\"13\",\"18\",\"05\",\"10\",\"09\",\"17\",\"11\",\"19\",\"03\",\"11\",\"08\",\"15\",\"07\",\"12\",\"20\",\"09\",\"13\",\"12\",\"04\",\"13\",\"04\",\"18\",\"11\",\"14\",\"04\",\"10\",\"16\",\"18\",\"05\",\"17\",\"09\",\"13\",\"19\",\"12\",\"10\",\"10\",\"10\",\"14\",\"06\",\"12\",\"12\",\"21\",\"14\",\"22\",\"11\",\"16\",\"12\",\"08\",\"08\",\"07\",\"11\",\"09\",\"14\",\"11\",\"12\",\"03\",\"13\",\"10\",\"10\",\"10\",\"16\",\"09\",\"08\",\"12\",\"08\",\"13\",\"05\",\"09\",\"11\",\"15\",\"11\",\"13\",\"08\",\"11\",\"16\",\"15\",\"15\",\"16\",\"15\",\"14\",\"11\",\"12\",\"04\",\"13\",\"16\",\"15\",\"10\",\"09\",\"09\",\"06\",\"07\",\"12\",\"16\",\"07\",\"06\",\"07\",\"12\",\"13\",\"09\",\"13\",\"12\",\"14\",\"04\",\"11\",\"06\",\"04\",\"14\",\"15\",\"17\",\"11\",\"16\",\"12\",\"15\",\"08\",\"14\",\"10\",\"13\",\"12\",\"07\",\"10\",\"07\",\"08\",\"15\",\"09\",\"13\",\"14\",\"10\",\"08\",\"23\",\"10\",\"13\",\"15\",\"10\",\"08\",\"10\",\"07\",\"06\",\"10\",\"09\",\"05\",\"06\",\"12\",\"20\",\"07\",\"04\",\"16\",\"13\",\"14\",\"14\",\"08\",\"13\",\"10\",\"10\",\"07\",\"10\",\"10\",\"12\",\"11\",\"13\",\"13\",\"07\",\"08\",\"07\",\"10\",\"02\",\"15\",\"15\",\"13\",\"14\",\"14\",\"13\",\"10\",\"12\",\"17\",\"16\",\"17\",\"07\",\"13\",\"12\",\"00\",\"20\",\"12\",\"09\",\"11\",\"10\",\"13\",\"08\",\"12\",\"09\",\"07\",\"15\",\"14\",\"10\",\"05\",\"12\",\"12\",\"12\",\"13\",\"08\",\"06\",\"10\",\"15\",\"09\",\"04\",\"12\",\"09\",\"10\",\"13\",\"15\",\"16\",\"15\",\"11\",\"09\",\"11\",\"19\",\"07\",\"07\",\"11\",\"05\",\"11\",\"08\",\"09\",\"14\",\"07\",\"08\",\"10\",\"14\",\"14\",\"08\",\"10\",\"14\",\"16\",\"14\",\"15\",\"07\",\"20\",\"19\",\"06\",\"07\",\"12\",\"13\",\"17\",\"14\",\"16\",\"18\",\"11\",\"10\",\"16\",\"15\",\"05\",\"14\",\"09\",\"13\",\"10\",\"10\",\"08\",\"16\",\"09\",\"09\",\"11\",\"09\",\"22\",\"16\",\"10\",\"13\",\"07\",\"16\",\"17\",\"10\",\"08\",\"14\",\"13\",\"12\",\"14\",\"13\",\"12\",\"16\",\"12\",\"06\",\"09\",\"07\",\"15\",\"11\",\"19\",\"18\",\"04\",\"07\",\"12\",\"14\",\"04\",\"13\",\"16\",\"13\",\"17\",\"13\",\"07\",\"07\",\"14\",\"04\",\"18\",\"13\",\"12\",\"10\",\"08\",\"15\",\"13\",\"08\",\"10\",\"11\",\"07\",\"10\",\"14\",\"12\",\"16\",\"15\",\"11\",\"08\",\"11\",\"11\",\"17\",\"10\",\"07\",\"08\",\"10\",\"06\",\"05\",\"10\",\"12\",\"08\",\"06\",\"13\",\"11\",\"15\",\"14\",\"10\",\"12\",\"08\",\"16\",\"07\",\"13\",\"15\",\"16\",\"11\",\"12\",\"10\",\"13\",\"16\",\"18\",\"09\",\"10\",\"10\",\"17\",\"11\",\"14\",\"10\",\"09\",\"11\",\"14\",\"12\",\"08\",\"09\",\"18\",\"13\",\"12\",\"13\",\"16\",\"09\",\"12\",\"18\",\"08\",\"12\",\"16\",\"09\",\"12\",\"17\",\"13\",\"11\",\"13\",\"15\",\"15\",\"07\",\"13\",\"14\",\"16\",\"11\",\"05\",\"14\",\"12\",\"09\",\"16\",\"12\",\"13\",\"02\",\"11\",\"06\",\"17\",\"05\",\"11\",\"16\",\"11\",\"09\",\"08\",\"11\",\"08\",\"14\",\"14\",\"09\",\"13\",\"08\",\"14\",\"09\",\"18\",\"12\",\"09\",\"11\",\"06\",\"19\",\"09\",\"11\",\"11\",\"18\",\"09\",\"15\",\"23\",\"13\",\"12\",\"14\",\"09\",\"12\",\"23\",\"15\",\"15\",\"13\",\"11\",\"13\",\"02\",\"13\",\"15\",\"09\",\"11\",\"11\",\"02\",\"13\",\"15\",\"10\",\"13\",\"11\",\"16\",\"08\",\"10\",\"14\",\"15\",\"10\",\"04\",\"01\",\"12\",\"15\",\"18\",\"09\",\"11\",\"14\",\"15\",\"10\",\"18\",\"10\",\"07\",\"09\",\"10\",\"04\",\"07\",\"17\",\"12\",\"03\",\"16\",\"08\",\"13\",\"09\",\"06\",\"10\",\"12\",\"15\",\"15\",\"12\",\"12\",\"09\",\"16\",\"17\",\"11\",\"14\",\"11\",\"15\",\"08\",\"17\",\"13\",\"11\",\"10\",\"16\",\"06\",\"14\",\"02\",\"06\",\"11\",\"09\",\"14\",\"07\",\"07\",\"05\",\"16\",\"14\",\"12\",\"15\",\"09\",\"10\",\"09\",\"05\",\"08\",\"11\",\"08\",\"13\",\"19\",\"13\",\"07\",\"10\",\"13\",\"11\",\"11\",\"09\",\"10\",\"05\",\"10\",\"13\",\"13\",\"01\",\"00\",\"14\",\"19\",\"10\",\"21\",\"11\",\"17\",\"13\",\"08\",\"06\",\"10\",\"12\",\"07\",\"12\",\"18\",\"12\",\"15\",\"09\",\"09\",\"11\",\"07\",\"14\",\"13\",\"06\",\"08\",\"15\",\"11\",\"12\",\"15\",\"19\",\"10\",\"05\",\"15\",\"11\",\"15\",\"07\",\"10\",\"18\",\"13\",\"16\",\"11\",\"01\",\"11\",\"04\",\"14\",\"12\",\"12\",\"15\",\"14\",\"23\",\"07\",\"15\",\"07\",\"07\",\"07\",\"15\",\"16\",\"16\",\"06\",\"07\",\"08\",\"09\",\"16\",\"13\",\"10\",\"05\",\"09\",\"14\",\"19\",\"16\",\"10\",\"13\",\"07\",\"05\",\"18\",\"13\",\"14\",\"11\",\"14\",\"08\",\"05\",\"08\",\"16\",\"21\",\"12\",\"10\",\"16\",\"10\",\"16\",\"23\",\"12\",\"18\",\"16\",\"11\",\"17\",\"12\",\"05\",\"06\",\"14\",\"11\",\"11\",\"04\",\"11\",\"14\",\"13\",\"15\",\"14\",\"11\",\"03\",\"11\",\"06\",\"12\",\"17\",\"00\",\"18\",\"14\",\"15\",\"09\",\"19\",\"16\",\"19\",\"07\",\"06\",\"09\",\"16\",\"22\",\"16\",\"07\",\"13\",\"12\",\"11\",\"16\",\"17\",\"13\",\"11\",\"09\",\"18\",\"11\",\"10\",\"14\",\"11\",\"16\",\"05\",\"06\",\"14\",\"10\",\"10\",\"17\",\"08\",\"13\",\"10\",\"10\",\"11\",\"21\",\"16\",\"17\",\"01\",\"15\",\"10\",\"08\",\"14\",\"13\",\"17\",\"14\",\"13\",\"10\",\"11\",\"13\",\"12\",\"09\",\"09\",\"13\",\"05\",\"15\",\"17\",\"06\",\"17\",\"19\",\"08\",\"11\",\"10\",\"09\",\"12\",\"06\",\"05\",\"06\",\"09\",\"07\",\"06\",\"16\",\"16\",\"10\",\"13\",\"12\",\"12\",\"15\",\"16\",\"18\",\"09\",\"14\",\"11\",\"12\",\"09\",\"13\",\"12\",\"10\",\"03\",\"17\",\"14\",\"14\",\"11\",\"10\",\"16\",\"09\",\"23\",\"13\",\"09\",\"09\",\"11\",\"13\",\"16\",\"08\",\"13\",\"10\",\"14\",\"10\",\"16\",\"08\",\"14\",\"14\",\"15\",\"10\",\"09\",\"19\",\"08\",\"12\",\"02\",\"19\",\"10\",\"12\",\"04\",\"18\",\"13\",\"01\",\"15\",\"07\",\"15\",\"15\",\"05\",\"11\",\"14\",\"14\",\"09\",\"14\",\"11\",\"05\",\"17\",\"17\",\"10\",\"09\",\"12\",\"09\",\"10\",\"12\",\"16\",\"05\",\"10\",\"13\",\"16\",\"19\",\"13\",\"11\",\"07\",\"20\",\"16\",\"12\",\"13\",\"09\",\"10\",\"11\",\"10\",\"17\",\"14\",\"13\",\"13\",\"13\",\"10\",\"13\",\"12\",\"05\",\"13\",\"09\",\"13\",\"09\",\"17\",\"15\",\"09\",\"15\",\"07\",\"08\",\"09\",\"15\",\"13\",\"09\",\"10\",\"16\",\"11\",\"10\",\"10\",\"13\",\"10\",\"13\",\"19\",\"15\",\"03\",\"14\",\"12\",\"15\",\"13\",\"11\",\"09\",\"07\",\"02\",\"13\",\"13\",\"12\",\"10\",\"14\",\"11\",\"07\",\"10\",\"15\",\"19\",\"13\",\"12\",\"08\",\"13\",\"15\",\"10\",\"17\",\"10\",\"07\",\"10\",\"19\",\"13\",\"06\",\"09\",\"10\",\"11\",\"07\",\"07\",\"14\",\"14\",\"15\",\"06\",\"11\",\"12\",\"04\",\"07\",\"11\",\"19\",\"12\",\"07\",\"12\",\"15\",\"14\",\"10\",\"16\",\"10\",\"12\",\"12\",\"11\",\"08\",\"08\",\"10\",\"13\",\"14\",\"11\",\"08\",\"16\",\"18\",\"07\",\"14\",\"07\",\"06\",\"12\",\"14\",\"16\",\"13\",\"13\",\"11\",\"14\",\"08\",\"15\",\"18\",\"09\",\"07\",\"09\",\"18\",\"16\",\"13\",\"11\",\"08\",\"11\",\"17\",\"11\",\"18\",\"12\",\"05\",\"15\",\"01\",\"15\",\"16\",\"17\",\"11\",\"09\",\"12\",\"11\",\"10\",\"11\",\"15\",\"16\",\"15\",\"16\",\"16\",\"06\",\"13\",\"16\",\"13\",\"11\",\"06\",\"07\",\"11\",\"07\",\"16\",\"12\",\"12\",\"17\",\"07\",\"16\",\"10\",\"11\",\"08\",\"11\",\"19\",\"12\",\"13\",\"19\",\"14\",\"12\",\"16\",\"12\",\"19\",\"09\",\"12\",\"16\",\"07\",\"14\",\"17\",\"13\",\"07\",\"07\",\"10\",\"08\",\"12\",\"10\",\"07\",\"09\",\"10\",\"09\",\"10\",\"11\",\"18\",\"11\",\"11\",\"08\",\"16\",\"10\",\"10\",\"17\",\"13\",\"04\",\"13\",\"15\",\"07\",\"15\",\"03\",\"05\",\"20\",\"03\",\"11\",\"10\",\"10\",\"15\",\"10\",\"15\",\"10\",\"14\",\"10\",\"12\",\"19\",\"15\",\"11\",\"11\",\"11\",\"15\",\"03\",\"15\",\"10\",\"14\",\"05\",\"14\",\"07\",\"06\",\"15\",\"16\",\"14\",\"10\",\"09\",\"10\",\"01\",\"06\",\"02\",\"13\",\"12\",\"15\",\"20\",\"16\",\"09\",\"08\",\"16\",\"18\",\"16\",\"06\",\"08\",\"09\",\"11\",\"07\",\"08\",\"06\",\"07\",\"03\",\"14\",\"18\",\"22\",\"07\",\"17\",\"20\",\"11\",\"14\",\"10\",\"07\",\"10\",\"12\",\"07\",\"15\",\"12\",\"13\",\"15\",\"14\",\"13\",\"09\",\"19\",\"13\",\"10\",\"14\",\"17\",\"11\",\"09\",\"19\",\"13\",\"08\",\"11\",\"16\",\"15\",\"11\",\"12\",\"17\",\"14\",\"16\",\"05\",\"09\",\"07\",\"08\",\"11\",\"09\",\"04\",\"15\",\"13\",\"14\",\"13\",\"14\",\"05\",\"09\",\"14\",\"10\",\"14\",\"07\",\"17\",\"12\",\"15\",\"12\",\"08\",\"12\",\"11\",\"13\",\"05\",\"11\",\"11\",\"09\",\"12\",\"16\",\"12\",\"10\",\"09\",\"12\",\"16\",\"12\",\"15\",\"16\",\"14\",\"11\",\"08\",\"10\",\"06\",\"12\",\"16\",\"03\",\"10\",\"14\",\"09\",\"10\",\"05\",\"14\",\"06\",\"17\",\"00\",\"18\",\"14\",\"14\",\"11\",\"18\",\"11\",\"13\",\"15\",\"12\",\"15\",\"08\",\"06\",\"16\",\"13\",\"18\",\"11\",\"10\",\"10\",\"07\",\"11\",\"09\",\"07\",\"11\",\"13\",\"15\",\"10\",\"15\",\"13\",\"06\",\"10\",\"10\",\"14\",\"07\",\"10\",\"10\",\"06\",\"09\",\"08\",\"06\",\"07\",\"22\",\"19\",\"14\",\"08\",\"12\",\"07\",\"15\",\"15\",\"04\",\"12\",\"13\",\"10\",\"10\",\"18\",\"13\",\"17\",\"09\",\"12\",\"13\",\"13\",\"14\",\"15\",\"10\",\"08\",\"14\",\"09\",\"12\",\"10\",\"13\",\"16\",\"13\",\"10\",\"12\",\"10\",\"15\",\"16\",\"08\",\"16\",\"04\",\"13\",\"10\",\"09\",\"09\",\"08\",\"18\",\"10\",\"13\",\"07\",\"08\",\"13\",\"16\",\"16\",\"13\",\"12\",\"06\",\"12\",\"13\",\"10\",\"06\",\"08\",\"14\",\"12\",\"14\",\"17\",\"08\",\"21\",\"15\",\"13\",\"12\",\"15\",\"02\",\"04\",\"12\",\"08\",\"18\",\"10\",\"20\",\"09\",\"10\",\"07\",\"12\",\"13\",\"08\",\"08\",\"17\",\"12\",\"13\",\"15\",\"15\",\"17\",\"15\",\"13\",\"18\",\"08\",\"11\",\"14\",\"07\",\"10\",\"10\",\"10\",\"06\",\"11\",\"15\",\"11\",\"18\",\"12\",\"13\",\"10\",\"10\",\"14\",\"09\",\"13\",\"19\",\"17\",\"08\",\"10\",\"17\",\"12\",\"06\",\"20\",\"13\",\"15\",\"14\",\"14\",\"09\",\"14\",\"07\",\"13\",\"07\",\"11\",\"20\",\"16\",\"10\",\"14\",\"16\",\"14\",\"10\",\"10\",\"14\",\"06\",\"15\",\"15\",\"16\",\"07\",\"11\",\"12\",\"11\",\"13\",\"05\",\"03\",\"13\",\"12\",\"09\",\"13\",\"10\",\"17\",\"16\",\"11\",\"12\",\"14\",\"08\",\"07\",\"09\",\"13\",\"18\",\"15\",\"22\",\"10\",\"10\",\"09\",\"14\",\"14\",\"15\",\"20\",\"11\",\"11\",\"11\",\"10\",\"10\",\"09\",\"06\",\"08\",\"22\",\"14\",\"12\",\"11\",\"12\",\"13\",\"10\",\"16\",\"15\",\"08\",\"09\",\"07\",\"23\",\"12\",\"13\",\"08\",\"12\",\"15\",\"11\",\"10\",\"19\",\"18\",\"10\",\"09\",\"12\",\"14\",\"16\",\"15\",\"06\",\"13\",\"12\",\"10\",\"16\",\"11\",\"14\",\"11\",\"14\",\"16\",\"09\",\"14\",\"13\",\"13\",\"07\",\"12\",\"07\",\"11\",\"08\",\"05\",\"18\",\"16\",\"18\",\"13\",\"14\",\"12\",\"09\",\"12\",\"06\",\"20\",\"12\",\"09\",\"01\",\"11\",\"16\",\"15\",\"10\",\"18\",\"17\",\"08\",\"17\",\"11\",\"08\",\"03\",\"13\",\"12\",\"11\",\"19\",\"11\",\"06\",\"08\",\"11\",\"17\",\"14\",\"09\",\"18\",\"11\",\"08\",\"12\",\"09\",\"09\",\"12\",\"16\",\"11\",\"12\",\"13\",\"14\",\"07\",\"15\",\"13\",\"07\",\"14\",\"05\",\"12\",\"12\",\"15\",\"07\",\"10\",\"12\",\"16\",\"09\",\"09\",\"10\",\"10\",\"09\",\"10\",\"11\",\"13\",\"12\",\"14\",\"16\",\"12\",\"06\",\"14\",\"04\",\"17\",\"16\",\"08\",\"14\",\"16\",\"13\",\"17\",\"07\",\"16\",\"15\",\"14\",\"16\",\"01\",\"13\",\"07\",\"12\",\"04\",\"16\",\"14\",\"13\",\"11\",\"10\",\"09\",\"14\",\"15\",\"09\",\"07\",\"13\",\"15\",\"01\",\"13\",\"00\",\"16\",\"05\",\"12\",\"13\",\"03\",\"12\",\"07\",\"09\",\"15\",\"07\",\"12\",\"16\",\"06\",\"19\",\"07\",\"10\",\"11\",\"12\",\"16\",\"08\",\"13\",\"11\",\"20\",\"14\",\"15\",\"15\",\"11\",\"10\",\"10\",\"14\",\"07\",\"14\",\"17\",\"11\",\"13\",\"14\",\"10\",\"11\",\"05\",\"12\",\"06\",\"02\",\"13\",\"18\",\"17\",\"14\",\"14\",\"02\",\"18\",\"12\",\"10\",\"17\",\"16\",\"12\",\"10\",\"07\",\"11\",\"04\",\"03\",\"14\",\"09\",\"14\",\"20\",\"05\",\"13\",\"13\",\"10\",\"15\",\"05\",\"15\",\"16\",\"07\",\"10\",\"05\",\"09\",\"08\",\"13\",\"16\",\"17\",\"14\",\"10\",\"16\",\"16\",\"05\",\"13\",\"15\",\"14\",\"18\",\"08\",\"10\",\"16\",\"15\",\"11\",\"19\",\"12\",\"10\",\"13\",\"11\",\"19\",\"09\",\"10\",\"15\",\"13\",\"06\",\"08\",\"12\",\"18\",\"19\",\"15\",\"11\",\"08\",\"09\",\"07\",\"15\",\"16\",\"14\",\"12\",\"11\",\"22\",\"08\",\"14\",\"07\",\"15\",\"15\",\"12\",\"14\",\"18\",\"10\",\"19\",\"16\",\"14\",\"09\",\"14\",\"13\",\"12\",\"13\",\"10\",\"14\",\"18\",\"08\",\"17\",\"15\",\"14\",\"04\",\"17\",\"09\",\"21\",\"17\",\"09\",\"11\",\"11\",\"14\",\"10\",\"15\",\"10\",\"12\",\"11\",\"14\",\"15\",\"06\",\"13\",\"11\",\"23\",\"10\",\"09\",\"15\",\"09\",\"16\",\"10\",\"15\",\"08\",\"15\",\"03\",\"08\",\"10\",\"12\",\"16\",\"08\",\"15\",\"14\",\"12\",\"09\",\"04\",\"13\",\"14\",\"11\",\"10\",\"08\",\"10\",\"10\",\"13\",\"15\",\"09\",\"17\",\"14\",\"13\",\"06\",\"05\",\"18\",\"14\",\"06\",\"10\",\"21\",\"11\",\"09\",\"16\",\"05\",\"17\",\"10\",\"00\",\"08\",\"07\",\"13\",\"07\",\"12\",\"16\",\"16\",\"12\",\"12\",\"07\",\"11\",\"10\",\"10\",\"02\",\"10\",\"09\",\"19\",\"08\",\"11\",\"07\",\"03\",\"15\",\"14\",\"06\",\"17\",\"16\",\"12\",\"13\",\"16\",\"14\",\"14\",\"11\",\"11\",\"10\",\"13\",\"14\",\"14\",\"11\",\"19\",\"15\",\"10\",\"13\",\"13\",\"01\",\"12\",\"15\",\"18\",\"13\",\"09\",\"10\",\"14\",\"06\",\"12\",\"12\",\"07\",\"14\",\"13\",\"19\",\"13\",\"16\",\"12\",\"06\",\"08\",\"13\",\"12\",\"13\",\"12\",\"15\",\"07\",\"14\",\"16\",\"16\",\"10\",\"06\",\"12\",\"11\",\"08\",\"12\",\"10\",\"10\",\"18\",\"07\",\"02\",\"11\",\"17\",\"14\",\"17\",\"16\",\"19\",\"15\",\"15\",\"09\",\"09\",\"11\",\"13\",\"16\",\"03\",\"08\",\"09\",\"10\",\"04\",\"09\",\"14\",\"10\",\"17\",\"14\",\"12\",\"14\",\"16\",\"16\",\"07\",\"20\",\"07\",\"12\",\"16\",\"10\",\"08\",\"16\",\"07\",\"11\",\"12\",\"15\",\"15\",\"08\",\"16\",\"02\",\"11\",\"17\",\"11\",\"11\",\"08\",\"10\",\"05\",\"15\",\"18\",\"16\",\"19\",\"12\",\"07\",\"09\",\"16\",\"10\",\"11\",\"13\",\"13\",\"14\",\"06\",\"11\",\"15\",\"07\",\"11\",\"18\",\"11\",\"10\",\"10\",\"09\",\"14\",\"15\",\"12\",\"01\",\"09\",\"03\",\"15\",\"06\",\"14\",\"08\",\"18\",\"09\",\"13\",\"12\",\"13\",\"12\",\"07\",\"16\",\"15\",\"11\",\"14\",\"19\",\"06\",\"16\",\"11\",\"09\",\"09\",\"11\",\"14\",\"11\",\"19\",\"15\",\"12\",\"14\",\"12\",\"12\",\"12\",\"12\",\"09\",\"14\",\"14\",\"09\",\"18\",\"14\",\"11\",\"08\",\"09\",\"10\",\"17\",\"06\",\"14\",\"14\"],\"xaxis\":\"x\",\"yaxis\":\"y\",\"type\":\"histogram\"}],                        {\"template\":{\"data\":{\"histogram2dcontour\":[{\"type\":\"histogram2dcontour\",\"colorbar\":{\"outlinewidth\":0,\"ticks\":\"\"},\"colorscale\":[[0.0,\"#0d0887\"],[0.1111111111111111,\"#46039f\"],[0.2222222222222222,\"#7201a8\"],[0.3333333333333333,\"#9c179e\"],[0.4444444444444444,\"#bd3786\"],[0.5555555555555556,\"#d8576b\"],[0.6666666666666666,\"#ed7953\"],[0.7777777777777778,\"#fb9f3a\"],[0.8888888888888888,\"#fdca26\"],[1.0,\"#f0f921\"]]}],\"choropleth\":[{\"type\":\"choropleth\",\"colorbar\":{\"outlinewidth\":0,\"ticks\":\"\"}}],\"histogram2d\":[{\"type\":\"histogram2d\",\"colorbar\":{\"outlinewidth\":0,\"ticks\":\"\"},\"colorscale\":[[0.0,\"#0d0887\"],[0.1111111111111111,\"#46039f\"],[0.2222222222222222,\"#7201a8\"],[0.3333333333333333,\"#9c179e\"],[0.4444444444444444,\"#bd3786\"],[0.5555555555555556,\"#d8576b\"],[0.6666666666666666,\"#ed7953\"],[0.7777777777777778,\"#fb9f3a\"],[0.8888888888888888,\"#fdca26\"],[1.0,\"#f0f921\"]]}],\"heatmap\":[{\"type\":\"heatmap\",\"colorbar\":{\"outlinewidth\":0,\"ticks\":\"\"},\"colorscale\":[[0.0,\"#0d0887\"],[0.1111111111111111,\"#46039f\"],[0.2222222222222222,\"#7201a8\"],[0.3333333333333333,\"#9c179e\"],[0.4444444444444444,\"#bd3786\"],[0.5555555555555556,\"#d8576b\"],[0.6666666666666666,\"#ed7953\"],[0.7777777777777778,\"#fb9f3a\"],[0.8888888888888888,\"#fdca26\"],[1.0,\"#f0f921\"]]}],\"heatmapgl\":[{\"type\":\"heatmapgl\",\"colorbar\":{\"outlinewidth\":0,\"ticks\":\"\"},\"colorscale\":[[0.0,\"#0d0887\"],[0.1111111111111111,\"#46039f\"],[0.2222222222222222,\"#7201a8\"],[0.3333333333333333,\"#9c179e\"],[0.4444444444444444,\"#bd3786\"],[0.5555555555555556,\"#d8576b\"],[0.6666666666666666,\"#ed7953\"],[0.7777777777777778,\"#fb9f3a\"],[0.8888888888888888,\"#fdca26\"],[1.0,\"#f0f921\"]]}],\"contourcarpet\":[{\"type\":\"contourcarpet\",\"colorbar\":{\"outlinewidth\":0,\"ticks\":\"\"}}],\"contour\":[{\"type\":\"contour\",\"colorbar\":{\"outlinewidth\":0,\"ticks\":\"\"},\"colorscale\":[[0.0,\"#0d0887\"],[0.1111111111111111,\"#46039f\"],[0.2222222222222222,\"#7201a8\"],[0.3333333333333333,\"#9c179e\"],[0.4444444444444444,\"#bd3786\"],[0.5555555555555556,\"#d8576b\"],[0.6666666666666666,\"#ed7953\"],[0.7777777777777778,\"#fb9f3a\"],[0.8888888888888888,\"#fdca26\"],[1.0,\"#f0f921\"]]}],\"surface\":[{\"type\":\"surface\",\"colorbar\":{\"outlinewidth\":0,\"ticks\":\"\"},\"colorscale\":[[0.0,\"#0d0887\"],[0.1111111111111111,\"#46039f\"],[0.2222222222222222,\"#7201a8\"],[0.3333333333333333,\"#9c179e\"],[0.4444444444444444,\"#bd3786\"],[0.5555555555555556,\"#d8576b\"],[0.6666666666666666,\"#ed7953\"],[0.7777777777777778,\"#fb9f3a\"],[0.8888888888888888,\"#fdca26\"],[1.0,\"#f0f921\"]]}],\"mesh3d\":[{\"type\":\"mesh3d\",\"colorbar\":{\"outlinewidth\":0,\"ticks\":\"\"}}],\"scatter\":[{\"fillpattern\":{\"fillmode\":\"overlay\",\"size\":10,\"solidity\":0.2},\"type\":\"scatter\"}],\"parcoords\":[{\"type\":\"parcoords\",\"line\":{\"colorbar\":{\"outlinewidth\":0,\"ticks\":\"\"}}}],\"scatterpolargl\":[{\"type\":\"scatterpolargl\",\"marker\":{\"colorbar\":{\"outlinewidth\":0,\"ticks\":\"\"}}}],\"bar\":[{\"error_x\":{\"color\":\"#2a3f5f\"},\"error_y\":{\"color\":\"#2a3f5f\"},\"marker\":{\"line\":{\"color\":\"#E5ECF6\",\"width\":0.5},\"pattern\":{\"fillmode\":\"overlay\",\"size\":10,\"solidity\":0.2}},\"type\":\"bar\"}],\"scattergeo\":[{\"type\":\"scattergeo\",\"marker\":{\"colorbar\":{\"outlinewidth\":0,\"ticks\":\"\"}}}],\"scatterpolar\":[{\"type\":\"scatterpolar\",\"marker\":{\"colorbar\":{\"outlinewidth\":0,\"ticks\":\"\"}}}],\"histogram\":[{\"marker\":{\"pattern\":{\"fillmode\":\"overlay\",\"size\":10,\"solidity\":0.2}},\"type\":\"histogram\"}],\"scattergl\":[{\"type\":\"scattergl\",\"marker\":{\"colorbar\":{\"outlinewidth\":0,\"ticks\":\"\"}}}],\"scatter3d\":[{\"type\":\"scatter3d\",\"line\":{\"colorbar\":{\"outlinewidth\":0,\"ticks\":\"\"}},\"marker\":{\"colorbar\":{\"outlinewidth\":0,\"ticks\":\"\"}}}],\"scattermapbox\":[{\"type\":\"scattermapbox\",\"marker\":{\"colorbar\":{\"outlinewidth\":0,\"ticks\":\"\"}}}],\"scatterternary\":[{\"type\":\"scatterternary\",\"marker\":{\"colorbar\":{\"outlinewidth\":0,\"ticks\":\"\"}}}],\"scattercarpet\":[{\"type\":\"scattercarpet\",\"marker\":{\"colorbar\":{\"outlinewidth\":0,\"ticks\":\"\"}}}],\"carpet\":[{\"aaxis\":{\"endlinecolor\":\"#2a3f5f\",\"gridcolor\":\"white\",\"linecolor\":\"white\",\"minorgridcolor\":\"white\",\"startlinecolor\":\"#2a3f5f\"},\"baxis\":{\"endlinecolor\":\"#2a3f5f\",\"gridcolor\":\"white\",\"linecolor\":\"white\",\"minorgridcolor\":\"white\",\"startlinecolor\":\"#2a3f5f\"},\"type\":\"carpet\"}],\"table\":[{\"cells\":{\"fill\":{\"color\":\"#EBF0F8\"},\"line\":{\"color\":\"white\"}},\"header\":{\"fill\":{\"color\":\"#C8D4E3\"},\"line\":{\"color\":\"white\"}},\"type\":\"table\"}],\"barpolar\":[{\"marker\":{\"line\":{\"color\":\"#E5ECF6\",\"width\":0.5},\"pattern\":{\"fillmode\":\"overlay\",\"size\":10,\"solidity\":0.2}},\"type\":\"barpolar\"}],\"pie\":[{\"automargin\":true,\"type\":\"pie\"}]},\"layout\":{\"autotypenumbers\":\"strict\",\"colorway\":[\"#636efa\",\"#EF553B\",\"#00cc96\",\"#ab63fa\",\"#FFA15A\",\"#19d3f3\",\"#FF6692\",\"#B6E880\",\"#FF97FF\",\"#FECB52\"],\"font\":{\"color\":\"#2a3f5f\"},\"hovermode\":\"closest\",\"hoverlabel\":{\"align\":\"left\"},\"paper_bgcolor\":\"white\",\"plot_bgcolor\":\"#E5ECF6\",\"polar\":{\"bgcolor\":\"#E5ECF6\",\"angularaxis\":{\"gridcolor\":\"white\",\"linecolor\":\"white\",\"ticks\":\"\"},\"radialaxis\":{\"gridcolor\":\"white\",\"linecolor\":\"white\",\"ticks\":\"\"}},\"ternary\":{\"bgcolor\":\"#E5ECF6\",\"aaxis\":{\"gridcolor\":\"white\",\"linecolor\":\"white\",\"ticks\":\"\"},\"baxis\":{\"gridcolor\":\"white\",\"linecolor\":\"white\",\"ticks\":\"\"},\"caxis\":{\"gridcolor\":\"white\",\"linecolor\":\"white\",\"ticks\":\"\"}},\"coloraxis\":{\"colorbar\":{\"outlinewidth\":0,\"ticks\":\"\"}},\"colorscale\":{\"sequential\":[[0.0,\"#0d0887\"],[0.1111111111111111,\"#46039f\"],[0.2222222222222222,\"#7201a8\"],[0.3333333333333333,\"#9c179e\"],[0.4444444444444444,\"#bd3786\"],[0.5555555555555556,\"#d8576b\"],[0.6666666666666666,\"#ed7953\"],[0.7777777777777778,\"#fb9f3a\"],[0.8888888888888888,\"#fdca26\"],[1.0,\"#f0f921\"]],\"sequentialminus\":[[0.0,\"#0d0887\"],[0.1111111111111111,\"#46039f\"],[0.2222222222222222,\"#7201a8\"],[0.3333333333333333,\"#9c179e\"],[0.4444444444444444,\"#bd3786\"],[0.5555555555555556,\"#d8576b\"],[0.6666666666666666,\"#ed7953\"],[0.7777777777777778,\"#fb9f3a\"],[0.8888888888888888,\"#fdca26\"],[1.0,\"#f0f921\"]],\"diverging\":[[0,\"#8e0152\"],[0.1,\"#c51b7d\"],[0.2,\"#de77ae\"],[0.3,\"#f1b6da\"],[0.4,\"#fde0ef\"],[0.5,\"#f7f7f7\"],[0.6,\"#e6f5d0\"],[0.7,\"#b8e186\"],[0.8,\"#7fbc41\"],[0.9,\"#4d9221\"],[1,\"#276419\"]]},\"xaxis\":{\"gridcolor\":\"white\",\"linecolor\":\"white\",\"ticks\":\"\",\"title\":{\"standoff\":15},\"zerolinecolor\":\"white\",\"automargin\":true,\"zerolinewidth\":2},\"yaxis\":{\"gridcolor\":\"white\",\"linecolor\":\"white\",\"ticks\":\"\",\"title\":{\"standoff\":15},\"zerolinecolor\":\"white\",\"automargin\":true,\"zerolinewidth\":2},\"scene\":{\"xaxis\":{\"backgroundcolor\":\"#E5ECF6\",\"gridcolor\":\"white\",\"linecolor\":\"white\",\"showbackground\":true,\"ticks\":\"\",\"zerolinecolor\":\"white\",\"gridwidth\":2},\"yaxis\":{\"backgroundcolor\":\"#E5ECF6\",\"gridcolor\":\"white\",\"linecolor\":\"white\",\"showbackground\":true,\"ticks\":\"\",\"zerolinecolor\":\"white\",\"gridwidth\":2},\"zaxis\":{\"backgroundcolor\":\"#E5ECF6\",\"gridcolor\":\"white\",\"linecolor\":\"white\",\"showbackground\":true,\"ticks\":\"\",\"zerolinecolor\":\"white\",\"gridwidth\":2}},\"shapedefaults\":{\"line\":{\"color\":\"#2a3f5f\"}},\"annotationdefaults\":{\"arrowcolor\":\"#2a3f5f\",\"arrowhead\":0,\"arrowwidth\":1},\"geo\":{\"bgcolor\":\"white\",\"landcolor\":\"#E5ECF6\",\"subunitcolor\":\"white\",\"showland\":true,\"showlakes\":true,\"lakecolor\":\"white\"},\"title\":{\"x\":0.05},\"mapbox\":{\"style\":\"light\"}}},\"xaxis\":{\"anchor\":\"y\",\"domain\":[0.0,1.0],\"title\":{\"text\":\"Hour\"}},\"yaxis\":{\"anchor\":\"x\",\"domain\":[0.0,1.0],\"title\":{\"text\":\"count\"}},\"legend\":{\"tracegroupgap\":0},\"margin\":{\"t\":60},\"barmode\":\"relative\"},                        {\"responsive\": true}                    ).then(function(){\n",
       "                            \n",
       "var gd = document.getElementById('c88ee657-e003-43ef-9bf5-79de8a886a67');\n",
       "var x = new MutationObserver(function (mutations, observer) {{\n",
       "        var display = window.getComputedStyle(gd).display;\n",
       "        if (!display || display === 'none') {{\n",
       "            console.log([gd, 'removed!']);\n",
       "            Plotly.purge(gd);\n",
       "            observer.disconnect();\n",
       "        }}\n",
       "}});\n",
       "\n",
       "// Listen for the removal of the full notebook cells\n",
       "var notebookContainer = gd.closest('#notebook-container');\n",
       "if (notebookContainer) {{\n",
       "    x.observe(notebookContainer, {childList: true});\n",
       "}}\n",
       "\n",
       "// Listen for the clearing of the current output cell\n",
       "var outputEl = gd.closest('.output');\n",
       "if (outputEl) {{\n",
       "    x.observe(outputEl, {childList: true});\n",
       "}}\n",
       "\n",
       "                        })                };                });            </script>        </div>"
      ]
     },
     "metadata": {},
     "output_type": "display_data"
    }
   ],
   "source": [
    "# Distribution of transactions over hours in a day\n",
    "fig_hour = px.histogram(fraud_data, x=\"Hour\")\n",
    "fig.update_layout(bargap=0.09, title=\"Transactions Distribution over Hour\")\n",
    "fig_hour.show()"
   ]
  },
  {
   "cell_type": "markdown",
   "id": "bfa76037",
   "metadata": {},
   "source": [
    "### (5) Transaction Method"
   ]
  },
  {
   "cell_type": "code",
   "execution_count": 24,
   "id": "e2619255",
   "metadata": {
    "execution": {
     "iopub.execute_input": "2024-03-08T09:08:50.911551Z",
     "iopub.status.busy": "2024-03-08T09:08:50.911209Z",
     "iopub.status.idle": "2024-03-08T09:08:51.105466Z",
     "shell.execute_reply": "2024-03-08T09:08:51.104354Z",
     "shell.execute_reply.started": "2024-03-08T09:08:50.911517Z"
    }
   },
   "outputs": [
    {
     "data": {
      "image/png": "[encoded data removed]",
      "text/plain": [
       "<Figure size 640x480 with 1 Axes>"
      ]
     },
     "metadata": {},
     "output_type": "display_data"
    }
   ],
   "source": [
    "sns.countplot(data=fraud_data, x='Use Chip', color='lightblue')\n",
    "plt.title('Distribution of Fraudulent Transactions by Use Chip')\n",
    "plt.show()"
   ]
  },
  {
   "cell_type": "markdown",
   "id": "f2584af7",
   "metadata": {},
   "source": [
    "### 1.3 Data Transformation"
   ]
  },
  {
   "cell_type": "code",
   "execution_count": 25,
   "id": "1283b293",
   "metadata": {
    "execution": {
     "iopub.execute_input": "2024-03-08T09:08:51.107406Z",
     "iopub.status.busy": "2024-03-08T09:08:51.106945Z",
     "iopub.status.idle": "2024-03-08T09:08:51.129735Z",
     "shell.execute_reply": "2024-03-08T09:08:51.128563Z",
     "shell.execute_reply.started": "2024-03-08T09:08:51.107369Z"
    }
   },
   "outputs": [
    {
     "data": {
      "text/html": [
       "<div>\n",
       "<style scoped>\n",
       "    .dataframe tbody tr th:only-of-type {\n",
       "        vertical-align: middle;\n",
       "    }\n",
       "\n",
       "    .dataframe tbody tr th {\n",
       "        vertical-align: top;\n",
       "    }\n",
       "\n",
       "    .dataframe thead th {\n",
       "        text-align: right;\n",
       "    }\n",
       "</style>\n",
       "<table border=\"1\" class=\"dataframe\">\n",
       "  <thead>\n",
       "    <tr style=\"text-align: right;\">\n",
       "      <th></th>\n",
       "      <th>User</th>\n",
       "      <th>Card</th>\n",
       "      <th>Year</th>\n",
       "      <th>Month</th>\n",
       "      <th>Day</th>\n",
       "      <th>Amount</th>\n",
       "      <th>Use Chip</th>\n",
       "      <th>Merchant Name</th>\n",
       "      <th>Merchant City</th>\n",
       "      <th>Merchant State</th>\n",
       "      <th>Zip</th>\n",
       "      <th>MCC</th>\n",
       "      <th>Errors?</th>\n",
       "      <th>Is Fraud?</th>\n",
       "      <th>Hour</th>\n",
       "      <th>Minute</th>\n",
       "      <th>Date</th>\n",
       "      <th>Day of Week</th>\n",
       "    </tr>\n",
       "  </thead>\n",
       "  <tbody>\n",
       "    <tr>\n",
       "      <th>18199893</th>\n",
       "      <td>1470</td>\n",
       "      <td>0</td>\n",
       "      <td>2019</td>\n",
       "      <td>7</td>\n",
       "      <td>10</td>\n",
       "      <td>59.18</td>\n",
       "      <td>Chip Transaction</td>\n",
       "      <td>-6853385250336487907</td>\n",
       "      <td>Harwood</td>\n",
       "      <td>MD</td>\n",
       "      <td>20776.0</td>\n",
       "      <td>5813</td>\n",
       "      <td>No Error</td>\n",
       "      <td>0</td>\n",
       "      <td>00</td>\n",
       "      <td>11</td>\n",
       "      <td>2019-07-10</td>\n",
       "      <td>Wed</td>\n",
       "    </tr>\n",
       "    <tr>\n",
       "      <th>9731325</th>\n",
       "      <td>822</td>\n",
       "      <td>1</td>\n",
       "      <td>2019</td>\n",
       "      <td>1</td>\n",
       "      <td>14</td>\n",
       "      <td>280.91</td>\n",
       "      <td>Online Transaction</td>\n",
       "      <td>4241336128694185533</td>\n",
       "      <td>ONLINE</td>\n",
       "      <td>No State</td>\n",
       "      <td>0.0</td>\n",
       "      <td>4814</td>\n",
       "      <td>No Error</td>\n",
       "      <td>0</td>\n",
       "      <td>22</td>\n",
       "      <td>12</td>\n",
       "      <td>2019-01-14</td>\n",
       "      <td>Mon</td>\n",
       "    </tr>\n",
       "    <tr>\n",
       "      <th>536687</th>\n",
       "      <td>41</td>\n",
       "      <td>3</td>\n",
       "      <td>2010</td>\n",
       "      <td>3</td>\n",
       "      <td>15</td>\n",
       "      <td>-144.00</td>\n",
       "      <td>Swipe Transaction</td>\n",
       "      <td>190253443608377572</td>\n",
       "      <td>Hemet</td>\n",
       "      <td>CA</td>\n",
       "      <td>92543.0</td>\n",
       "      <td>3359</td>\n",
       "      <td>No Error</td>\n",
       "      <td>0</td>\n",
       "      <td>07</td>\n",
       "      <td>07</td>\n",
       "      <td>2010-03-15</td>\n",
       "      <td>Mon</td>\n",
       "    </tr>\n",
       "    <tr>\n",
       "      <th>13223840</th>\n",
       "      <td>1084</td>\n",
       "      <td>0</td>\n",
       "      <td>2015</td>\n",
       "      <td>9</td>\n",
       "      <td>20</td>\n",
       "      <td>6.76</td>\n",
       "      <td>Chip Transaction</td>\n",
       "      <td>-7837310524365334241</td>\n",
       "      <td>Littleton</td>\n",
       "      <td>CO</td>\n",
       "      <td>80122.0</td>\n",
       "      <td>5300</td>\n",
       "      <td>No Error</td>\n",
       "      <td>0</td>\n",
       "      <td>14</td>\n",
       "      <td>58</td>\n",
       "      <td>2015-09-20</td>\n",
       "      <td>Sun</td>\n",
       "    </tr>\n",
       "    <tr>\n",
       "      <th>17070521</th>\n",
       "      <td>1384</td>\n",
       "      <td>0</td>\n",
       "      <td>2014</td>\n",
       "      <td>10</td>\n",
       "      <td>12</td>\n",
       "      <td>9.17</td>\n",
       "      <td>Swipe Transaction</td>\n",
       "      <td>-5023497618971072366</td>\n",
       "      <td>Gardner</td>\n",
       "      <td>KS</td>\n",
       "      <td>66030.0</td>\n",
       "      <td>5812</td>\n",
       "      <td>No Error</td>\n",
       "      <td>0</td>\n",
       "      <td>11</td>\n",
       "      <td>44</td>\n",
       "      <td>2014-10-12</td>\n",
       "      <td>Sun</td>\n",
       "    </tr>\n",
       "  </tbody>\n",
       "</table>\n",
       "</div>"
      ],
      "text/plain": [
       "          User  Card  Year  Month  Day  Amount            Use Chip  \\\n",
       "18199893  1470     0  2019      7   10   59.18    Chip Transaction   \n",
       "9731325    822     1  2019      1   14  280.91  Online Transaction   \n",
       "536687      41     3  2010      3   15 -144.00   Swipe Transaction   \n",
       "13223840  1084     0  2015      9   20    6.76    Chip Transaction   \n",
       "17070521  1384     0  2014     10   12    9.17   Swipe Transaction   \n",
       "\n",
       "                Merchant Name Merchant City Merchant State      Zip   MCC  \\\n",
       "18199893 -6853385250336487907       Harwood             MD  20776.0  5813   \n",
       "9731325   4241336128694185533        ONLINE       No State      0.0  4814   \n",
       "536687     190253443608377572         Hemet             CA  92543.0  3359   \n",
       "13223840 -7837310524365334241     Littleton             CO  80122.0  5300   \n",
       "17070521 -5023497618971072366       Gardner             KS  66030.0  5812   \n",
       "\n",
       "           Errors?  Is Fraud? Hour Minute       Date Day of Week  \n",
       "18199893  No Error          0   00     11 2019-07-10         Wed  \n",
       "9731325   No Error          0   22     12 2019-01-14         Mon  \n",
       "536687    No Error          0   07     07 2010-03-15         Mon  \n",
       "13223840  No Error          0   14     58 2015-09-20         Sun  \n",
       "17070521  No Error          0   11     44 2014-10-12         Sun  "
      ]
     },
     "execution_count": 25,
     "metadata": {},
     "output_type": "execute_result"
    }
   ],
   "source": [
    "subset_df.head()\n"
   ]
  },
  {
   "cell_type": "markdown",
   "id": "d1065d69",
   "metadata": {},
   "source": [
    "### drop feature\n",
    "\n",
    "1. user / card / date / day of week"
   ]
  },
  {
   "cell_type": "code",
   "execution_count": 26,
   "id": "db2a522e",
   "metadata": {
    "execution": {
     "iopub.execute_input": "2024-03-08T09:08:51.131194Z",
     "iopub.status.busy": "2024-03-08T09:08:51.130894Z",
     "iopub.status.idle": "2024-03-08T09:08:51.426580Z",
     "shell.execute_reply": "2024-03-08T09:08:51.425568Z",
     "shell.execute_reply.started": "2024-03-08T09:08:51.131169Z"
    }
   },
   "outputs": [],
   "source": [
    "subset_df = subset_df.drop(columns=[\"Day of Week\", \"User\", \"Date\", \"Card\"])"
   ]
  },
  {
   "cell_type": "code",
   "execution_count": 27,
   "id": "f756c01a",
   "metadata": {
    "execution": {
     "iopub.execute_input": "2024-03-08T09:08:51.428543Z",
     "iopub.status.busy": "2024-03-08T09:08:51.428144Z",
     "iopub.status.idle": "2024-03-08T09:08:54.441681Z",
     "shell.execute_reply": "2024-03-08T09:08:54.440904Z",
     "shell.execute_reply.started": "2024-03-08T09:08:51.428504Z"
    }
   },
   "outputs": [],
   "source": [
    "import category_encoders as ce\n",
    "\n",
    "categorical_cols = [\"Use Chip\", \"Merchant City\", \"Merchant State\", \"Errors?\"]\n",
    "\n",
    "# Creating a dictionary to store the target encoding mappings\n",
    "target_encoding_map = {}\n",
    "\n",
    "for col in categorical_cols:\n",
    "    # Calculating the mean target variable for each category\n",
    "    encoding = subset_df.groupby(col)[\"Is Fraud?\"].mean().to_dict()\n",
    "    \n",
    "    # Map the encoding to the column\n",
    "    subset_df[col + \"_target_encoded\"] = subset_df[col].map(encoding)\n",
    "    \n",
    "    # Store the encoding mapping for later use\n",
    "    target_encoding_map[col] = encoding\n",
    "\n",
    "# Drop the original categorical columns\n",
    "subset_df.drop(columns=categorical_cols, inplace=True)\n"
   ]
  },
  {
   "cell_type": "code",
   "execution_count": 28,
   "id": "f2464f42",
   "metadata": {
    "execution": {
     "iopub.execute_input": "2024-03-08T09:08:54.443097Z",
     "iopub.status.busy": "2024-03-08T09:08:54.442815Z",
     "iopub.status.idle": "2024-03-08T09:08:54.460920Z",
     "shell.execute_reply": "2024-03-08T09:08:54.459585Z",
     "shell.execute_reply.started": "2024-03-08T09:08:54.443073Z"
    }
   },
   "outputs": [
    {
     "data": {
      "text/html": [
       "<div>\n",
       "<style scoped>\n",
       "    .dataframe tbody tr th:only-of-type {\n",
       "        vertical-align: middle;\n",
       "    }\n",
       "\n",
       "    .dataframe tbody tr th {\n",
       "        vertical-align: top;\n",
       "    }\n",
       "\n",
       "    .dataframe thead th {\n",
       "        text-align: right;\n",
       "    }\n",
       "</style>\n",
       "<table border=\"1\" class=\"dataframe\">\n",
       "  <thead>\n",
       "    <tr style=\"text-align: right;\">\n",
       "      <th></th>\n",
       "      <th>Year</th>\n",
       "      <th>Month</th>\n",
       "      <th>Day</th>\n",
       "      <th>Amount</th>\n",
       "      <th>Merchant Name</th>\n",
       "      <th>Zip</th>\n",
       "      <th>MCC</th>\n",
       "      <th>Is Fraud?</th>\n",
       "      <th>Hour</th>\n",
       "      <th>Minute</th>\n",
       "      <th>Use Chip_target_encoded</th>\n",
       "      <th>Merchant City_target_encoded</th>\n",
       "      <th>Merchant State_target_encoded</th>\n",
       "      <th>Errors?_target_encoded</th>\n",
       "    </tr>\n",
       "  </thead>\n",
       "  <tbody>\n",
       "    <tr>\n",
       "      <th>18199893</th>\n",
       "      <td>2019</td>\n",
       "      <td>7</td>\n",
       "      <td>10</td>\n",
       "      <td>59.18</td>\n",
       "      <td>-6853385250336487907</td>\n",
       "      <td>20776.0</td>\n",
       "      <td>5813</td>\n",
       "      <td>0</td>\n",
       "      <td>00</td>\n",
       "      <td>11</td>\n",
       "      <td>0.000760</td>\n",
       "      <td>0.000000</td>\n",
       "      <td>0.000264</td>\n",
       "      <td>0.001216</td>\n",
       "    </tr>\n",
       "    <tr>\n",
       "      <th>9731325</th>\n",
       "      <td>2019</td>\n",
       "      <td>1</td>\n",
       "      <td>14</td>\n",
       "      <td>280.91</td>\n",
       "      <td>4241336128694185533</td>\n",
       "      <td>0.0</td>\n",
       "      <td>4814</td>\n",
       "      <td>0</td>\n",
       "      <td>22</td>\n",
       "      <td>12</td>\n",
       "      <td>0.006962</td>\n",
       "      <td>0.006942</td>\n",
       "      <td>0.006942</td>\n",
       "      <td>0.001216</td>\n",
       "    </tr>\n",
       "    <tr>\n",
       "      <th>536687</th>\n",
       "      <td>2010</td>\n",
       "      <td>3</td>\n",
       "      <td>15</td>\n",
       "      <td>-144.00</td>\n",
       "      <td>190253443608377572</td>\n",
       "      <td>92543.0</td>\n",
       "      <td>3359</td>\n",
       "      <td>0</td>\n",
       "      <td>07</td>\n",
       "      <td>07</td>\n",
       "      <td>0.000437</td>\n",
       "      <td>0.000000</td>\n",
       "      <td>0.000306</td>\n",
       "      <td>0.001216</td>\n",
       "    </tr>\n",
       "    <tr>\n",
       "      <th>13223840</th>\n",
       "      <td>2015</td>\n",
       "      <td>9</td>\n",
       "      <td>20</td>\n",
       "      <td>6.76</td>\n",
       "      <td>-7837310524365334241</td>\n",
       "      <td>80122.0</td>\n",
       "      <td>5300</td>\n",
       "      <td>0</td>\n",
       "      <td>14</td>\n",
       "      <td>58</td>\n",
       "      <td>0.000760</td>\n",
       "      <td>0.000000</td>\n",
       "      <td>0.000146</td>\n",
       "      <td>0.001216</td>\n",
       "    </tr>\n",
       "    <tr>\n",
       "      <th>17070521</th>\n",
       "      <td>2014</td>\n",
       "      <td>10</td>\n",
       "      <td>12</td>\n",
       "      <td>9.17</td>\n",
       "      <td>-5023497618971072366</td>\n",
       "      <td>66030.0</td>\n",
       "      <td>5812</td>\n",
       "      <td>0</td>\n",
       "      <td>11</td>\n",
       "      <td>44</td>\n",
       "      <td>0.000437</td>\n",
       "      <td>0.000000</td>\n",
       "      <td>0.000107</td>\n",
       "      <td>0.001216</td>\n",
       "    </tr>\n",
       "  </tbody>\n",
       "</table>\n",
       "</div>"
      ],
      "text/plain": [
       "          Year  Month  Day  Amount        Merchant Name      Zip   MCC  \\\n",
       "18199893  2019      7   10   59.18 -6853385250336487907  20776.0  5813   \n",
       "9731325   2019      1   14  280.91  4241336128694185533      0.0  4814   \n",
       "536687    2010      3   15 -144.00   190253443608377572  92543.0  3359   \n",
       "13223840  2015      9   20    6.76 -7837310524365334241  80122.0  5300   \n",
       "17070521  2014     10   12    9.17 -5023497618971072366  66030.0  5812   \n",
       "\n",
       "          Is Fraud? Hour Minute  Use Chip_target_encoded  \\\n",
       "18199893          0   00     11                 0.000760   \n",
       "9731325           0   22     12                 0.006962   \n",
       "536687            0   07     07                 0.000437   \n",
       "13223840          0   14     58                 0.000760   \n",
       "17070521          0   11     44                 0.000437   \n",
       "\n",
       "          Merchant City_target_encoded  Merchant State_target_encoded  \\\n",
       "18199893                      0.000000                       0.000264   \n",
       "9731325                       0.006942                       0.006942   \n",
       "536687                        0.000000                       0.000306   \n",
       "13223840                      0.000000                       0.000146   \n",
       "17070521                      0.000000                       0.000107   \n",
       "\n",
       "          Errors?_target_encoded  \n",
       "18199893                0.001216  \n",
       "9731325                 0.001216  \n",
       "536687                  0.001216  \n",
       "13223840                0.001216  \n",
       "17070521                0.001216  "
      ]
     },
     "execution_count": 28,
     "metadata": {},
     "output_type": "execute_result"
    }
   ],
   "source": [
    "df_transformed = subset_df\n",
    "df_transformed.head()"
   ]
  },
  {
   "cell_type": "code",
   "execution_count": 29,
   "id": "a5d7dc73",
   "metadata": {
    "execution": {
     "iopub.execute_input": "2024-03-08T09:08:54.462464Z",
     "iopub.status.busy": "2024-03-08T09:08:54.462174Z",
     "iopub.status.idle": "2024-03-08T09:08:54.479737Z",
     "shell.execute_reply": "2024-03-08T09:08:54.478726Z",
     "shell.execute_reply.started": "2024-03-08T09:08:54.462439Z"
    }
   },
   "outputs": [
    {
     "data": {
      "text/plain": [
       "(2438690, 14)"
      ]
     },
     "execution_count": 29,
     "metadata": {},
     "output_type": "execute_result"
    }
   ],
   "source": [
    "df_transformed.shape"
   ]
  },
  {
   "cell_type": "markdown",
   "id": "f56be62c",
   "metadata": {},
   "source": [
    "### 1.4 Correlation"
   ]
  },
  {
   "cell_type": "code",
   "execution_count": 30,
   "id": "614546c2",
   "metadata": {
    "execution": {
     "iopub.execute_input": "2024-03-08T09:08:54.481148Z",
     "iopub.status.busy": "2024-03-08T09:08:54.480848Z",
     "iopub.status.idle": "2024-03-08T09:08:56.559907Z",
     "shell.execute_reply": "2024-03-08T09:08:56.558846Z",
     "shell.execute_reply.started": "2024-03-08T09:08:54.481124Z"
    }
   },
   "outputs": [
    {
     "name": "stdout",
     "output_type": "stream",
     "text": [
      "Merchant State_target_encoded    0.350197\n",
      "Merchant City_target_encoded     0.328358\n",
      "Use Chip_target_encoded          0.057443\n",
      "Zip                              0.039637\n",
      "Amount                           0.026078\n",
      "Errors?_target_encoded           0.020175\n",
      "MCC                              0.012255\n",
      "Hour                             0.005702\n",
      "Merchant Name                    0.004927\n",
      "Month                            0.002047\n",
      "Day                              0.000582\n",
      "Minute                           0.000227\n",
      "Year                             0.000189\n",
      "Name: Is Fraud?, dtype: float64\n"
     ]
    }
   ],
   "source": [
    "# Calculating the correlation coefficients between each feature and the dependent variable 'Is Fraud?'\n",
    "correlations = df_transformed.corr()['Is Fraud?'].drop('Is Fraud?')\n",
    "\n",
    "# Sort correlations in descending order by their absolute values\n",
    "sorted_correlations = correlations.abs().sort_values(ascending=False)\n",
    "print(sorted_correlations)"
   ]
  },
  {
   "cell_type": "code",
   "execution_count": 31,
   "id": "c2f07f89",
   "metadata": {
    "execution": {
     "iopub.execute_input": "2024-03-08T09:08:56.561436Z",
     "iopub.status.busy": "2024-03-08T09:08:56.561128Z",
     "iopub.status.idle": "2024-03-08T09:08:59.091229Z",
     "shell.execute_reply": "2024-03-08T09:08:59.090386Z",
     "shell.execute_reply.started": "2024-03-08T09:08:56.561409Z"
    }
   },
   "outputs": [
    {
     "data": {
      "image/png": "[encoded data removed]",
      "text/plain": [
       "<Figure size 640x480 with 2 Axes>"
      ]
     },
     "metadata": {},
     "output_type": "display_data"
    }
   ],
   "source": [
    "corr = df_transformed.corr()\n",
    "dataplot = sb.heatmap(corr, cmap=\"YlGnBu\")"
   ]
  },
  {
   "cell_type": "markdown",
   "id": "8b3c4adc",
   "metadata": {},
   "source": [
    "### 1.5 Data Processing and Balance\n",
    "\n",
    "1.  Apply SMOTE\n",
    "2.  Scaling\n",
    "3.  Split the data into data into training (80%) and testing (20%) sets"
   ]
  },
  {
   "cell_type": "code",
   "execution_count": 32,
   "id": "77d52ae3",
   "metadata": {
    "execution": {
     "iopub.execute_input": "2024-03-08T09:08:59.092467Z",
     "iopub.status.busy": "2024-03-08T09:08:59.092215Z",
     "iopub.status.idle": "2024-03-08T09:08:59.117007Z",
     "shell.execute_reply": "2024-03-08T09:08:59.116133Z",
     "shell.execute_reply.started": "2024-03-08T09:08:59.092445Z"
    }
   },
   "outputs": [
    {
     "name": "stdout",
     "output_type": "stream",
     "text": [
      "Is Fraud?\n",
      "0    2435655\n",
      "1       3035\n",
      "Name: count, dtype: int64\n"
     ]
    }
   ],
   "source": [
    "print(df_transformed[\"Is Fraud?\"].value_counts())"
   ]
  },
  {
   "cell_type": "markdown",
   "id": "f1d65f5c",
   "metadata": {},
   "source": [
    "### SMOTE"
   ]
  },
  {
   "cell_type": "code",
   "execution_count": 33,
   "id": "0ddd3dc5",
   "metadata": {
    "execution": {
     "iopub.execute_input": "2024-03-08T09:08:59.118518Z",
     "iopub.status.busy": "2024-03-08T09:08:59.118242Z",
     "iopub.status.idle": "2024-03-08T09:09:07.680213Z",
     "shell.execute_reply": "2024-03-08T09:09:07.679270Z",
     "shell.execute_reply.started": "2024-03-08T09:08:59.118490Z"
    }
   },
   "outputs": [],
   "source": [
    "# Apply SMOTE\n",
    "\n",
    "X = df_transformed.drop(\"Is Fraud?\", axis=1)\n",
    "y = df_transformed[\"Is Fraud?\"]\n",
    "\n",
    "\n",
    "smote = SMOTE(random_state=42)\n",
    "X_resampled, y_resampled = smote.fit_resample(X, y)\n",
    "\n",
    "# Creating a new DataFrame with resampled data\n",
    "resampled_df = pd.concat([pd.DataFrame(X_resampled, columns=X.columns), pd.DataFrame({\"Is Fraud?\": y_resampled})], axis=1)"
   ]
  },
  {
   "cell_type": "code",
   "execution_count": 34,
   "id": "dd46d80c",
   "metadata": {
    "execution": {
     "iopub.execute_input": "2024-03-08T09:09:07.682479Z",
     "iopub.status.busy": "2024-03-08T09:09:07.681666Z",
     "iopub.status.idle": "2024-03-08T09:09:07.737481Z",
     "shell.execute_reply": "2024-03-08T09:09:07.736121Z",
     "shell.execute_reply.started": "2024-03-08T09:09:07.682418Z"
    }
   },
   "outputs": [
    {
     "name": "stdout",
     "output_type": "stream",
     "text": [
      "Is Fraud?\n",
      "0    2435655\n",
      "1    2435655\n",
      "Name: count, dtype: int64\n"
     ]
    }
   ],
   "source": [
    "print(resampled_df[\"Is Fraud?\"].value_counts())"
   ]
  },
  {
   "cell_type": "code",
   "execution_count": 35,
   "id": "0281390b",
   "metadata": {
    "execution": {
     "iopub.execute_input": "2024-03-08T09:09:07.739580Z",
     "iopub.status.busy": "2024-03-08T09:09:07.739124Z",
     "iopub.status.idle": "2024-03-08T09:09:07.767210Z",
     "shell.execute_reply": "2024-03-08T09:09:07.766107Z",
     "shell.execute_reply.started": "2024-03-08T09:09:07.739537Z"
    }
   },
   "outputs": [
    {
     "data": {
      "text/html": [
       "<div>\n",
       "<style scoped>\n",
       "    .dataframe tbody tr th:only-of-type {\n",
       "        vertical-align: middle;\n",
       "    }\n",
       "\n",
       "    .dataframe tbody tr th {\n",
       "        vertical-align: top;\n",
       "    }\n",
       "\n",
       "    .dataframe thead th {\n",
       "        text-align: right;\n",
       "    }\n",
       "</style>\n",
       "<table border=\"1\" class=\"dataframe\">\n",
       "  <thead>\n",
       "    <tr style=\"text-align: right;\">\n",
       "      <th></th>\n",
       "      <th>Year</th>\n",
       "      <th>Month</th>\n",
       "      <th>Day</th>\n",
       "      <th>Amount</th>\n",
       "      <th>Merchant Name</th>\n",
       "      <th>Zip</th>\n",
       "      <th>MCC</th>\n",
       "      <th>Hour</th>\n",
       "      <th>Minute</th>\n",
       "      <th>Use Chip_target_encoded</th>\n",
       "      <th>Merchant City_target_encoded</th>\n",
       "      <th>Merchant State_target_encoded</th>\n",
       "      <th>Errors?_target_encoded</th>\n",
       "      <th>Is Fraud?</th>\n",
       "    </tr>\n",
       "  </thead>\n",
       "  <tbody>\n",
       "    <tr>\n",
       "      <th>0</th>\n",
       "      <td>2019</td>\n",
       "      <td>7</td>\n",
       "      <td>10</td>\n",
       "      <td>59.180000</td>\n",
       "      <td>-6853385250336487424</td>\n",
       "      <td>20776.0</td>\n",
       "      <td>5813</td>\n",
       "      <td>0.0</td>\n",
       "      <td>11.0</td>\n",
       "      <td>0.000760</td>\n",
       "      <td>0.000000</td>\n",
       "      <td>0.000264</td>\n",
       "      <td>0.001216</td>\n",
       "      <td>0</td>\n",
       "    </tr>\n",
       "    <tr>\n",
       "      <th>1</th>\n",
       "      <td>2019</td>\n",
       "      <td>1</td>\n",
       "      <td>14</td>\n",
       "      <td>280.910000</td>\n",
       "      <td>4241336128694185472</td>\n",
       "      <td>0.0</td>\n",
       "      <td>4814</td>\n",
       "      <td>22.0</td>\n",
       "      <td>12.0</td>\n",
       "      <td>0.006962</td>\n",
       "      <td>0.006942</td>\n",
       "      <td>0.006942</td>\n",
       "      <td>0.001216</td>\n",
       "      <td>0</td>\n",
       "    </tr>\n",
       "    <tr>\n",
       "      <th>2</th>\n",
       "      <td>2010</td>\n",
       "      <td>3</td>\n",
       "      <td>15</td>\n",
       "      <td>-144.000000</td>\n",
       "      <td>190253443608377568</td>\n",
       "      <td>92543.0</td>\n",
       "      <td>3359</td>\n",
       "      <td>7.0</td>\n",
       "      <td>7.0</td>\n",
       "      <td>0.000437</td>\n",
       "      <td>0.000000</td>\n",
       "      <td>0.000306</td>\n",
       "      <td>0.001216</td>\n",
       "      <td>0</td>\n",
       "    </tr>\n",
       "    <tr>\n",
       "      <th>3</th>\n",
       "      <td>2015</td>\n",
       "      <td>9</td>\n",
       "      <td>20</td>\n",
       "      <td>6.760000</td>\n",
       "      <td>-7837310524365334528</td>\n",
       "      <td>80122.0</td>\n",
       "      <td>5300</td>\n",
       "      <td>14.0</td>\n",
       "      <td>58.0</td>\n",
       "      <td>0.000760</td>\n",
       "      <td>0.000000</td>\n",
       "      <td>0.000146</td>\n",
       "      <td>0.001216</td>\n",
       "      <td>0</td>\n",
       "    </tr>\n",
       "    <tr>\n",
       "      <th>4</th>\n",
       "      <td>2014</td>\n",
       "      <td>10</td>\n",
       "      <td>12</td>\n",
       "      <td>9.170000</td>\n",
       "      <td>-5023497618971072512</td>\n",
       "      <td>66030.0</td>\n",
       "      <td>5812</td>\n",
       "      <td>11.0</td>\n",
       "      <td>44.0</td>\n",
       "      <td>0.000437</td>\n",
       "      <td>0.000000</td>\n",
       "      <td>0.000107</td>\n",
       "      <td>0.001216</td>\n",
       "      <td>0</td>\n",
       "    </tr>\n",
       "    <tr>\n",
       "      <th>...</th>\n",
       "      <td>...</td>\n",
       "      <td>...</td>\n",
       "      <td>...</td>\n",
       "      <td>...</td>\n",
       "      <td>...</td>\n",
       "      <td>...</td>\n",
       "      <td>...</td>\n",
       "      <td>...</td>\n",
       "      <td>...</td>\n",
       "      <td>...</td>\n",
       "      <td>...</td>\n",
       "      <td>...</td>\n",
       "      <td>...</td>\n",
       "      <td>...</td>\n",
       "    </tr>\n",
       "    <tr>\n",
       "      <th>4871305</th>\n",
       "      <td>2008</td>\n",
       "      <td>11</td>\n",
       "      <td>14</td>\n",
       "      <td>1.823145</td>\n",
       "      <td>4872340518840476672</td>\n",
       "      <td>0.0</td>\n",
       "      <td>5732</td>\n",
       "      <td>8.336417</td>\n",
       "      <td>16.36417</td>\n",
       "      <td>0.006962</td>\n",
       "      <td>0.006942</td>\n",
       "      <td>0.006942</td>\n",
       "      <td>0.001216</td>\n",
       "      <td>1</td>\n",
       "    </tr>\n",
       "    <tr>\n",
       "      <th>4871306</th>\n",
       "      <td>2015</td>\n",
       "      <td>7</td>\n",
       "      <td>7</td>\n",
       "      <td>7.152582</td>\n",
       "      <td>6098563624419731456</td>\n",
       "      <td>0.0</td>\n",
       "      <td>4214</td>\n",
       "      <td>15.577668</td>\n",
       "      <td>17.779788</td>\n",
       "      <td>0.006962</td>\n",
       "      <td>0.006942</td>\n",
       "      <td>0.006942</td>\n",
       "      <td>0.001216</td>\n",
       "      <td>1</td>\n",
       "    </tr>\n",
       "    <tr>\n",
       "      <th>4871307</th>\n",
       "      <td>2018</td>\n",
       "      <td>6</td>\n",
       "      <td>5</td>\n",
       "      <td>32.383052</td>\n",
       "      <td>-1642303950890406400</td>\n",
       "      <td>0.0</td>\n",
       "      <td>5912</td>\n",
       "      <td>13.0</td>\n",
       "      <td>21.300806</td>\n",
       "      <td>0.000760</td>\n",
       "      <td>0.343338</td>\n",
       "      <td>0.539080</td>\n",
       "      <td>0.001216</td>\n",
       "      <td>1</td>\n",
       "    </tr>\n",
       "    <tr>\n",
       "      <th>4871308</th>\n",
       "      <td>2012</td>\n",
       "      <td>7</td>\n",
       "      <td>12</td>\n",
       "      <td>35.952384</td>\n",
       "      <td>6759623715800999936</td>\n",
       "      <td>0.0</td>\n",
       "      <td>5311</td>\n",
       "      <td>11.471815</td>\n",
       "      <td>55.235907</td>\n",
       "      <td>0.006962</td>\n",
       "      <td>0.006942</td>\n",
       "      <td>0.006942</td>\n",
       "      <td>0.001216</td>\n",
       "      <td>1</td>\n",
       "    </tr>\n",
       "    <tr>\n",
       "      <th>4871309</th>\n",
       "      <td>2013</td>\n",
       "      <td>4</td>\n",
       "      <td>22</td>\n",
       "      <td>49.144215</td>\n",
       "      <td>-3220758452254689792</td>\n",
       "      <td>0.0</td>\n",
       "      <td>5311</td>\n",
       "      <td>9.302305</td>\n",
       "      <td>13.209221</td>\n",
       "      <td>0.006962</td>\n",
       "      <td>0.006942</td>\n",
       "      <td>0.006942</td>\n",
       "      <td>0.001216</td>\n",
       "      <td>1</td>\n",
       "    </tr>\n",
       "  </tbody>\n",
       "</table>\n",
       "<p>4871310 rows × 14 columns</p>\n",
       "</div>"
      ],
      "text/plain": [
       "         Year  Month  Day      Amount        Merchant Name      Zip   MCC  \\\n",
       "0        2019      7   10   59.180000 -6853385250336487424  20776.0  5813   \n",
       "1        2019      1   14  280.910000  4241336128694185472      0.0  4814   \n",
       "2        2010      3   15 -144.000000   190253443608377568  92543.0  3359   \n",
       "3        2015      9   20    6.760000 -7837310524365334528  80122.0  5300   \n",
       "4        2014     10   12    9.170000 -5023497618971072512  66030.0  5812   \n",
       "...       ...    ...  ...         ...                  ...      ...   ...   \n",
       "4871305  2008     11   14    1.823145  4872340518840476672      0.0  5732   \n",
       "4871306  2015      7    7    7.152582  6098563624419731456      0.0  4214   \n",
       "4871307  2018      6    5   32.383052 -1642303950890406400      0.0  5912   \n",
       "4871308  2012      7   12   35.952384  6759623715800999936      0.0  5311   \n",
       "4871309  2013      4   22   49.144215 -3220758452254689792      0.0  5311   \n",
       "\n",
       "              Hour     Minute  Use Chip_target_encoded  \\\n",
       "0              0.0       11.0                 0.000760   \n",
       "1             22.0       12.0                 0.006962   \n",
       "2              7.0        7.0                 0.000437   \n",
       "3             14.0       58.0                 0.000760   \n",
       "4             11.0       44.0                 0.000437   \n",
       "...            ...        ...                      ...   \n",
       "4871305   8.336417   16.36417                 0.006962   \n",
       "4871306  15.577668  17.779788                 0.006962   \n",
       "4871307       13.0  21.300806                 0.000760   \n",
       "4871308  11.471815  55.235907                 0.006962   \n",
       "4871309   9.302305  13.209221                 0.006962   \n",
       "\n",
       "         Merchant City_target_encoded  Merchant State_target_encoded  \\\n",
       "0                            0.000000                       0.000264   \n",
       "1                            0.006942                       0.006942   \n",
       "2                            0.000000                       0.000306   \n",
       "3                            0.000000                       0.000146   \n",
       "4                            0.000000                       0.000107   \n",
       "...                               ...                            ...   \n",
       "4871305                      0.006942                       0.006942   \n",
       "4871306                      0.006942                       0.006942   \n",
       "4871307                      0.343338                       0.539080   \n",
       "4871308                      0.006942                       0.006942   \n",
       "4871309                      0.006942                       0.006942   \n",
       "\n",
       "         Errors?_target_encoded  Is Fraud?  \n",
       "0                      0.001216          0  \n",
       "1                      0.001216          0  \n",
       "2                      0.001216          0  \n",
       "3                      0.001216          0  \n",
       "4                      0.001216          0  \n",
       "...                         ...        ...  \n",
       "4871305                0.001216          1  \n",
       "4871306                0.001216          1  \n",
       "4871307                0.001216          1  \n",
       "4871308                0.001216          1  \n",
       "4871309                0.001216          1  \n",
       "\n",
       "[4871310 rows x 14 columns]"
      ]
     },
     "execution_count": 35,
     "metadata": {},
     "output_type": "execute_result"
    }
   ],
   "source": [
    "resampled_df"
   ]
  },
  {
   "cell_type": "markdown",
   "id": "2f08984f",
   "metadata": {},
   "source": [
    "#### Scale"
   ]
  },
  {
   "cell_type": "code",
   "execution_count": 36,
   "id": "b973f068",
   "metadata": {
    "execution": {
     "iopub.execute_input": "2024-03-08T09:09:07.768914Z",
     "iopub.status.busy": "2024-03-08T09:09:07.768528Z",
     "iopub.status.idle": "2024-03-08T09:09:31.062580Z",
     "shell.execute_reply": "2024-03-08T09:09:31.061675Z",
     "shell.execute_reply.started": "2024-03-08T09:09:07.768879Z"
    }
   },
   "outputs": [],
   "source": [
    "from sklearn.preprocessing import StandardScaler\n",
    "\n",
    "\n",
    "numeric_features = resampled_df.columns[:-1]  # Exclude the target column\n",
    "\n",
    "# Initialize the StandardScaler\n",
    "scaler = StandardScaler()\n",
    "\n",
    "# Fit the scaler to numeric features\n",
    "scaler.fit(resampled_df[numeric_features])\n",
    "\n",
    "# Transforming numeric features using the scaler\n",
    "resampled_df[numeric_features] = scaler.transform(resampled_df[numeric_features])"
   ]
  },
  {
   "cell_type": "code",
   "execution_count": 37,
   "id": "14310f39",
   "metadata": {
    "execution": {
     "iopub.execute_input": "2024-03-08T09:09:31.064201Z",
     "iopub.status.busy": "2024-03-08T09:09:31.063849Z",
     "iopub.status.idle": "2024-03-08T09:09:31.082115Z",
     "shell.execute_reply": "2024-03-08T09:09:31.081029Z",
     "shell.execute_reply.started": "2024-03-08T09:09:31.064167Z"
    }
   },
   "outputs": [
    {
     "data": {
      "text/html": [
       "<div>\n",
       "<style scoped>\n",
       "    .dataframe tbody tr th:only-of-type {\n",
       "        vertical-align: middle;\n",
       "    }\n",
       "\n",
       "    .dataframe tbody tr th {\n",
       "        vertical-align: top;\n",
       "    }\n",
       "\n",
       "    .dataframe thead th {\n",
       "        text-align: right;\n",
       "    }\n",
       "</style>\n",
       "<table border=\"1\" class=\"dataframe\">\n",
       "  <thead>\n",
       "    <tr style=\"text-align: right;\">\n",
       "      <th></th>\n",
       "      <th>Year</th>\n",
       "      <th>Month</th>\n",
       "      <th>Day</th>\n",
       "      <th>Amount</th>\n",
       "      <th>Merchant Name</th>\n",
       "      <th>Zip</th>\n",
       "      <th>MCC</th>\n",
       "      <th>Hour</th>\n",
       "      <th>Minute</th>\n",
       "      <th>Use Chip_target_encoded</th>\n",
       "      <th>Merchant City_target_encoded</th>\n",
       "      <th>Merchant State_target_encoded</th>\n",
       "      <th>Errors?_target_encoded</th>\n",
       "      <th>Is Fraud?</th>\n",
       "    </tr>\n",
       "  </thead>\n",
       "  <tbody>\n",
       "    <tr>\n",
       "      <th>0</th>\n",
       "      <td>1.555896</td>\n",
       "      <td>0.191095</td>\n",
       "      <td>-0.684661</td>\n",
       "      <td>-0.092939</td>\n",
       "      <td>-1.385294</td>\n",
       "      <td>-0.159867</td>\n",
       "      <td>0.448213</td>\n",
       "      <td>-2.774740</td>\n",
       "      <td>-1.151107</td>\n",
       "      <td>-0.734871</td>\n",
       "      <td>-0.368646</td>\n",
       "      <td>-0.365213</td>\n",
       "      <td>-0.117239</td>\n",
       "      <td>0</td>\n",
       "    </tr>\n",
       "    <tr>\n",
       "      <th>1</th>\n",
       "      <td>1.555896</td>\n",
       "      <td>-1.700011</td>\n",
       "      <td>-0.192772</td>\n",
       "      <td>1.429215</td>\n",
       "      <td>0.905444</td>\n",
       "      <td>-0.803157</td>\n",
       "      <td>-0.626516</td>\n",
       "      <td>2.316700</td>\n",
       "      <td>-1.088799</td>\n",
       "      <td>1.312663</td>\n",
       "      <td>-0.321907</td>\n",
       "      <td>-0.327218</td>\n",
       "      <td>-0.117239</td>\n",
       "      <td>0</td>\n",
       "    </tr>\n",
       "    <tr>\n",
       "      <th>2</th>\n",
       "      <td>-0.396881</td>\n",
       "      <td>-1.069642</td>\n",
       "      <td>-0.069799</td>\n",
       "      <td>-1.487749</td>\n",
       "      <td>0.069013</td>\n",
       "      <td>2.062261</td>\n",
       "      <td>-2.191812</td>\n",
       "      <td>-1.154736</td>\n",
       "      <td>-1.400342</td>\n",
       "      <td>-0.841395</td>\n",
       "      <td>-0.368646</td>\n",
       "      <td>-0.364975</td>\n",
       "      <td>-0.117239</td>\n",
       "      <td>0</td>\n",
       "    </tr>\n",
       "    <tr>\n",
       "      <th>3</th>\n",
       "      <td>0.687995</td>\n",
       "      <td>0.821463</td>\n",
       "      <td>0.545063</td>\n",
       "      <td>-0.452797</td>\n",
       "      <td>-1.588446</td>\n",
       "      <td>1.677669</td>\n",
       "      <td>-0.103675</td>\n",
       "      <td>0.465268</td>\n",
       "      <td>1.777400</td>\n",
       "      <td>-0.734871</td>\n",
       "      <td>-0.368646</td>\n",
       "      <td>-0.365885</td>\n",
       "      <td>-0.117239</td>\n",
       "      <td>0</td>\n",
       "    </tr>\n",
       "    <tr>\n",
       "      <th>4</th>\n",
       "      <td>0.471020</td>\n",
       "      <td>1.136647</td>\n",
       "      <td>-0.438717</td>\n",
       "      <td>-0.436253</td>\n",
       "      <td>-1.007475</td>\n",
       "      <td>1.241337</td>\n",
       "      <td>0.447137</td>\n",
       "      <td>-0.229020</td>\n",
       "      <td>0.905079</td>\n",
       "      <td>-0.841395</td>\n",
       "      <td>-0.368646</td>\n",
       "      <td>-0.366107</td>\n",
       "      <td>-0.117239</td>\n",
       "      <td>0</td>\n",
       "    </tr>\n",
       "  </tbody>\n",
       "</table>\n",
       "</div>"
      ],
      "text/plain": [
       "       Year     Month       Day    Amount  Merchant Name       Zip       MCC  \\\n",
       "0  1.555896  0.191095 -0.684661 -0.092939      -1.385294 -0.159867  0.448213   \n",
       "1  1.555896 -1.700011 -0.192772  1.429215       0.905444 -0.803157 -0.626516   \n",
       "2 -0.396881 -1.069642 -0.069799 -1.487749       0.069013  2.062261 -2.191812   \n",
       "3  0.687995  0.821463  0.545063 -0.452797      -1.588446  1.677669 -0.103675   \n",
       "4  0.471020  1.136647 -0.438717 -0.436253      -1.007475  1.241337  0.447137   \n",
       "\n",
       "       Hour    Minute  Use Chip_target_encoded  Merchant City_target_encoded  \\\n",
       "0 -2.774740 -1.151107                -0.734871                     -0.368646   \n",
       "1  2.316700 -1.088799                 1.312663                     -0.321907   \n",
       "2 -1.154736 -1.400342                -0.841395                     -0.368646   \n",
       "3  0.465268  1.777400                -0.734871                     -0.368646   \n",
       "4 -0.229020  0.905079                -0.841395                     -0.368646   \n",
       "\n",
       "   Merchant State_target_encoded  Errors?_target_encoded  Is Fraud?  \n",
       "0                      -0.365213               -0.117239          0  \n",
       "1                      -0.327218               -0.117239          0  \n",
       "2                      -0.364975               -0.117239          0  \n",
       "3                      -0.365885               -0.117239          0  \n",
       "4                      -0.366107               -0.117239          0  "
      ]
     },
     "execution_count": 37,
     "metadata": {},
     "output_type": "execute_result"
    }
   ],
   "source": [
    "resampled_df.head()"
   ]
  },
  {
   "cell_type": "markdown",
   "id": "51613474",
   "metadata": {},
   "source": [
    "### Train/Test split"
   ]
  },
  {
   "cell_type": "code",
   "execution_count": 38,
   "id": "f848a974",
   "metadata": {
    "execution": {
     "iopub.execute_input": "2024-03-08T09:09:31.083700Z",
     "iopub.status.busy": "2024-03-08T09:09:31.083390Z",
     "iopub.status.idle": "2024-03-08T09:09:33.237861Z",
     "shell.execute_reply": "2024-03-08T09:09:33.236967Z",
     "shell.execute_reply.started": "2024-03-08T09:09:31.083675Z"
    }
   },
   "outputs": [
    {
     "name": "stdout",
     "output_type": "stream",
     "text": [
      "Training set shape: (3897048, 13)\n",
      "Testing set shape: (974262, 13)\n"
     ]
    }
   ],
   "source": [
    "from sklearn.model_selection import train_test_split\n",
    "\n",
    "# Defining features (X) and target variable (y) from the resampled_df\n",
    "X_resampled = resampled_df.drop(\"Is Fraud?\", axis=1)\n",
    "y_resampled = resampled_df[\"Is Fraud?\"]\n",
    "\n",
    "# Spliting the resampled data into training (80%) and testing (20%) sets\n",
    "X_train, X_test, y_train, y_test = train_test_split(X_resampled, y_resampled, test_size=0.2, random_state=42)\n",
    "\n",
    "# Checking the shapes of the resulting subsets\n",
    "print(\"Training set shape:\", X_train.shape)\n",
    "print(\"Testing set shape:\", X_test.shape)"
   ]
  },
  {
   "cell_type": "markdown",
   "id": "c675f895",
   "metadata": {},
   "source": [
    "### Logistic Regression"
   ]
  },
  {
   "cell_type": "code",
   "execution_count": 39,
   "id": "8618d816",
   "metadata": {
    "execution": {
     "iopub.execute_input": "2024-03-08T09:09:33.239912Z",
     "iopub.status.busy": "2024-03-08T09:09:33.239268Z",
     "iopub.status.idle": "2024-03-08T09:10:43.100750Z",
     "shell.execute_reply": "2024-03-08T09:10:43.099526Z",
     "shell.execute_reply.started": "2024-03-08T09:09:33.239878Z"
    }
   },
   "outputs": [
    {
     "name": "stdout",
     "output_type": "stream",
     "text": [
      "Cross-validation scores: [0.91551173 0.91492411 0.91470215 0.91559759 0.91532944]\n",
      "Average score: 0.9152130023805245\n",
      "Cross-validation took 69.848 seconds\n"
     ]
    }
   ],
   "source": [
    "from sklearn.model_selection import train_test_split, cross_val_score\n",
    "from sklearn.linear_model import LogisticRegression\n",
    "from sklearn.preprocessing import StandardScaler\n",
    "from sklearn.pipeline import make_pipeline\n",
    "import time\n",
    "\n",
    "model = make_pipeline(StandardScaler(), LogisticRegression())\n",
    "\n",
    "\n",
    "start_time = time.time()\n",
    "\n",
    "scores = cross_val_score(model, X_train, y_train, cv=5)\n",
    "end_time = time.time()\n",
    "cv_time = end_time - start_time\n",
    "print(f\"Cross-validation scores: {scores}\")\n",
    "print(f\"Average score: {np.mean(scores)}\")\n",
    "print(f\"Cross-validation took {cv_time:.3f} seconds\")"
   ]
  },
  {
   "cell_type": "code",
   "execution_count": 40,
   "id": "5816ed29",
   "metadata": {
    "execution": {
     "iopub.execute_input": "2024-03-08T09:10:43.107202Z",
     "iopub.status.busy": "2024-03-08T09:10:43.106533Z",
     "iopub.status.idle": "2024-03-08T09:11:00.480702Z",
     "shell.execute_reply": "2024-03-08T09:11:00.479832Z",
     "shell.execute_reply.started": "2024-03-08T09:10:43.107157Z"
    }
   },
   "outputs": [
    {
     "name": "stdout",
     "output_type": "stream",
     "text": [
      "Confusion Matrix:\n",
      "[[432700  53953]\n",
      " [ 28762 458847]]\n",
      "\n",
      "Classification Report:\n",
      "              precision    recall  f1-score   support\n",
      "\n",
      "           0       0.94      0.89      0.91    486653\n",
      "           1       0.89      0.94      0.92    487609\n",
      "\n",
      "    accuracy                           0.92    974262\n",
      "   macro avg       0.92      0.92      0.92    974262\n",
      "weighted avg       0.92      0.92      0.92    974262\n",
      "\n"
     ]
    },
    {
     "data": {
      "image/png": "[encoded data removed]",
      "text/plain": [
       "<Figure size 640x480 with 1 Axes>"
      ]
     },
     "metadata": {},
     "output_type": "display_data"
    },
    {
     "name": "stdout",
     "output_type": "stream",
     "text": [
      "\n",
      "Model Coefficients:\n",
      "Year: -0.6099020504351835\n",
      "Month: -0.07151948381776653\n",
      "Day: -0.09784380163110719\n",
      "Amount: 0.45364020419274037\n",
      "Merchant Name: 0.2373835329628472\n",
      "Zip: 0.20560117919504395\n",
      "MCC: 0.13107017684842368\n",
      "Hour: -0.2862438434817903\n",
      "Minute: -0.010211793168165414\n",
      "Use Chip_target_encoded: 2.0485239560822923\n",
      "Merchant City_target_encoded: 33.66203622326332\n",
      "Merchant State_target_encoded: -17.655834214450444\n",
      "Errors?_target_encoded: 0.1719957197985292\n"
     ]
    }
   ],
   "source": [
    "from sklearn.metrics import confusion_matrix, classification_report, roc_curve, auc\n",
    "import matplotlib.pyplot as plt\n",
    "\n",
    "model.fit(X_train, y_train)\n",
    "\n",
    "# Predictions on the test set\n",
    "y_pred = model.predict(X_test)\n",
    "y_pred_proba = model.predict_proba(X_test)[:, 1]\n",
    "\n",
    "# Confusion Matrix\n",
    "cm = confusion_matrix(y_test, y_pred)\n",
    "print(\"Confusion Matrix:\")\n",
    "print(cm)\n",
    "\n",
    "# Classification Report\n",
    "cr = classification_report(y_test, y_pred)\n",
    "print(\"\\nClassification Report:\")\n",
    "print(cr)\n",
    "\n",
    "# ROC Curve and AUC\n",
    "fpr, tpr, thresholds = roc_curve(y_test, y_pred_proba)\n",
    "roc_auc = auc(fpr, tpr)\n",
    "\n",
    "plt.figure()\n",
    "lw = 2  # Line width\n",
    "plt.plot(fpr, tpr, color='darkorange', lw=lw, label='ROC curve (area = %0.2f)' % roc_auc)\n",
    "plt.plot([0, 1], [0, 1], color='navy', lw=lw, linestyle='--')\n",
    "plt.xlim([0.0, 1.0])\n",
    "plt.ylim([0.0, 1.05])\n",
    "plt.xlabel('False Positive Rate')\n",
    "plt.ylabel('True Positive Rate')\n",
    "plt.title('Receiver operating characteristic example')\n",
    "plt.legend(loc=\"lower right\")\n",
    "plt.show()\n",
    "\n",
    "# Model Coefficients\n",
    "# For pipeline, access the logistic regression model's coefficients with named_steps\n",
    "coefficients = model.named_steps['logisticregression'].coef_\n",
    "feature_names = X_train.columns  # Adjust if necessary to match your feature matrix\n",
    "print(\"\\nModel Coefficients:\")\n",
    "for name, coef in zip(feature_names, coefficients[0]):\n",
    "    print(f\"{name}: {coef}\")\n"
   ]
  },
  {
   "cell_type": "code",
   "execution_count": 41,
   "id": "c8a7d660",
   "metadata": {
    "execution": {
     "iopub.execute_input": "2024-03-08T09:11:00.489311Z",
     "iopub.status.busy": "2024-03-08T09:11:00.488980Z",
     "iopub.status.idle": "2024-03-08T09:11:00.649473Z",
     "shell.execute_reply": "2024-03-08T09:11:00.648018Z",
     "shell.execute_reply.started": "2024-03-08T09:11:00.489283Z"
    }
   },
   "outputs": [
    {
     "data": {
      "image/png": "[encoded data removed]",
      "text/plain": [
       "<Figure size 500x500 with 1 Axes>"
      ]
     },
     "metadata": {},
     "output_type": "display_data"
    }
   ],
   "source": [
    "import matplotlib.pyplot as plt\n",
    "from sklearn.metrics import confusion_matrix\n",
    "import seaborn as sns\n",
    "\n",
    "\n",
    "\n",
    "# Plotting\n",
    "fig, ax = plt.subplots(figsize=(5, 5))\n",
    "sns.heatmap(cm, annot=True, fmt=\"d\", cmap=\"Blues\", square=True, cbar=False,\n",
    "            xticklabels=[\"Negative\", \"Positive\"], yticklabels=[\"Negative\", \"Positive\"])\n",
    "plt.ylabel('Actual label')\n",
    "plt.xlabel('Predicted label')\n",
    "plt.title('Confusion Matrix')\n",
    "\n",
    "plt.show()\n"
   ]
  },
  {
   "cell_type": "code",
   "execution_count": 42,
   "id": "009ab405",
   "metadata": {
    "execution": {
     "iopub.execute_input": "2024-03-08T09:11:00.652565Z",
     "iopub.status.busy": "2024-03-08T09:11:00.651734Z",
     "iopub.status.idle": "2024-03-08T09:11:01.266165Z",
     "shell.execute_reply": "2024-03-08T09:11:01.265213Z",
     "shell.execute_reply.started": "2024-03-08T09:11:00.652514Z"
    }
   },
   "outputs": [
    {
     "data": {
      "image/png": "[encoded data removed]",
      "text/plain": [
       "<Figure size 640x480 with 1 Axes>"
      ]
     },
     "metadata": {},
     "output_type": "display_data"
    }
   ],
   "source": [
    "import numpy as np\n",
    "import matplotlib.pyplot as plt\n",
    "from sklearn.metrics import roc_curve, auc\n",
    "\n",
    "# Assuming you have a logistic regression model named 'logistic_model'\n",
    "# and your test data is split into features (X_test) and labels (y_test)\n",
    "\n",
    "# Predict probabilities for the positive class (fraudulent transactions)\n",
    "y_score = model.predict_proba(X_test)[:,1]\n",
    "\n",
    "# Compute ROC curve and ROC area for the model\n",
    "fpr, tpr, _ = roc_curve(y_test, y_score)\n",
    "roc_auc = auc(fpr, tpr)\n",
    "\n",
    "# Plotting\n",
    "plt.figure()\n",
    "plt.plot(fpr, tpr, \n",
    "         lw=2, label='LR (area = %0.2f)' % roc_auc)\n",
    "plt.plot([0, 1], [0, 1], color='navy', lw=2, linestyle='--')\n",
    "plt.xlim([0.0, 1.0])\n",
    "plt.ylim([0.0, 1.05])\n",
    "plt.xlabel('False Positive Rate')\n",
    "plt.ylabel('True Positive Rate')\n",
    "plt.title('Receiver Operating Characteristic')\n",
    "plt.legend(loc=\"lower right\")\n",
    "plt.show()\n"
   ]
  },
  {
   "cell_type": "markdown",
   "id": "4f467d87",
   "metadata": {},
   "source": [
    "### Naive Bayes"
   ]
  },
  {
   "cell_type": "code",
   "execution_count": 43,
   "id": "b57be3fa",
   "metadata": {
    "execution": {
     "iopub.execute_input": "2024-03-08T09:11:01.267486Z",
     "iopub.status.busy": "2024-03-08T09:11:01.267216Z",
     "iopub.status.idle": "2024-03-08T09:11:01.275504Z",
     "shell.execute_reply": "2024-03-08T09:11:01.274523Z",
     "shell.execute_reply.started": "2024-03-08T09:11:01.267462Z"
    }
   },
   "outputs": [],
   "source": [
    "from sklearn.metrics import accuracy_score, f1_score, classification_report\n",
    "from sklearn.model_selection import cross_val_score\n",
    "from sklearn.model_selection import GridSearchCV\n",
    "from sklearn.naive_bayes import GaussianNB\n",
    "from sklearn.metrics import confusion_matrix\n",
    "import matplotlib.pyplot as plt\n",
    "import seaborn as sns\n",
    "import time"
   ]
  },
  {
   "cell_type": "code",
   "execution_count": 44,
   "id": "a4bf478c",
   "metadata": {
    "execution": {
     "iopub.execute_input": "2024-03-08T09:11:01.277001Z",
     "iopub.status.busy": "2024-03-08T09:11:01.276710Z",
     "iopub.status.idle": "2024-03-08T09:11:11.808827Z",
     "shell.execute_reply": "2024-03-08T09:11:11.807831Z",
     "shell.execute_reply.started": "2024-03-08T09:11:01.276977Z"
    }
   },
   "outputs": [
    {
     "name": "stdout",
     "output_type": "stream",
     "text": [
      "Time taken to train Gaussian Naive Bayes model: 1.2366492748260498 seconds\n",
      "Model: Naive Bayes\n",
      "F1-Score: 73.95%\n",
      "Accuracy: 71.67%\n",
      "        0       1\n",
      "0  482515    4138\n",
      "1  272173  215436\n",
      "              precision    recall  f1-score   support\n",
      "\n",
      "           0       0.64      0.99      0.78    486653\n",
      "           1       0.98      0.44      0.61    487609\n",
      "\n",
      "    accuracy                           0.72    974262\n",
      "   macro avg       0.81      0.72      0.69    974262\n",
      "weighted avg       0.81      0.72      0.69    974262\n",
      "\n"
     ]
    },
    {
     "data": {
      "image/png": "[encoded data removed]",
      "text/plain": [
       "<Figure size 800x600 with 1 Axes>"
      ]
     },
     "metadata": {},
     "output_type": "display_data"
    }
   ],
   "source": [
    "gnb = GaussianNB()\n",
    "\n",
    "start_time = time.time()\n",
    "\n",
    "gnb.fit(X_train, y_train.ravel())\n",
    "\n",
    "end_time = time.time()\n",
    "\n",
    "# Calculate the time taken\n",
    "elapsed_time = end_time - start_time\n",
    "print(\"Time taken to train Gaussian Naive Bayes model:\", elapsed_time, \"seconds\")\n",
    "\n",
    "gnb_pred = gnb.predict(X_test)\n",
    "\n",
    "f1 = f1_score(gnb_pred, y_test, average='weighted')\n",
    "accuracies = cross_val_score(estimator=gnb, X=X_train, y=y_train, cv=5, scoring=\"accuracy\")\n",
    "cv_accuracy = accuracies.mean()\n",
    "\n",
    "print('Model: Naive Bayes')\n",
    "print(f\"F1-Score: {f1 * 100:.2f}%\")\n",
    "print(f\"Accuracy: {cv_accuracy * 100:.2f}%\")\n",
    "    \n",
    "# Confusion Matrix\n",
    "conf_matrix = confusion_matrix(y_test, gnb_pred)\n",
    "print(pd.DataFrame(conf_matrix))\n",
    "\n",
    "\n",
    "print(classification_report(y_test, gnb_pred))\n",
    "\n",
    "plt.figure(figsize=(8, 6))\n",
    "sns.heatmap(conf_matrix, annot=True, fmt=\"d\", cmap=\"Blues\", cbar=False)\n",
    "plt.title(\"Confusion Matrix of Naive Bayes Model\")\n",
    "plt.xlabel(\"Predicted labels\")\n",
    "plt.ylabel(\"True labels\")\n",
    "plt.show()"
   ]
  },
  {
   "cell_type": "code",
   "execution_count": 45,
   "id": "dc4c17fc",
   "metadata": {
    "execution": {
     "iopub.execute_input": "2024-03-08T09:11:11.810957Z",
     "iopub.status.busy": "2024-03-08T09:11:11.810544Z",
     "iopub.status.idle": "2024-03-08T09:11:12.223603Z",
     "shell.execute_reply": "2024-03-08T09:11:12.222590Z",
     "shell.execute_reply.started": "2024-03-08T09:11:11.810926Z"
    }
   },
   "outputs": [],
   "source": [
    "y_pred_nb = gnb.predict_proba(X_test)[:,1]\n",
    "nb_fpr, nb_tpr, threshold = roc_curve(y_test, y_pred_nb)\n",
    "auc_nb = auc(nb_fpr, nb_tpr)"
   ]
  },
  {
   "cell_type": "code",
   "execution_count": 46,
   "id": "3a38c9b7",
   "metadata": {
    "execution": {
     "iopub.execute_input": "2024-03-08T09:11:12.225229Z",
     "iopub.status.busy": "2024-03-08T09:11:12.224919Z",
     "iopub.status.idle": "2024-03-08T09:11:12.703364Z",
     "shell.execute_reply": "2024-03-08T09:11:12.702401Z",
     "shell.execute_reply.started": "2024-03-08T09:11:12.225204Z"
    }
   },
   "outputs": [
    {
     "data": {
      "image/png": "[encoded data removed]",
      "text/plain": [
       "<Figure size 500x500 with 1 Axes>"
      ]
     },
     "metadata": {},
     "output_type": "display_data"
    }
   ],
   "source": [
    "plt.figure(figsize=(5, 5), dpi=100)\n",
    "plt.plot([0, 1], [0, 1], 'k--')\n",
    "\n",
    "plt.plot(nb_fpr, nb_tpr, linestyle='-', label='NB (auc = %0.3f)' % auc_nb)\n",
    "plt.xlabel('False Positive Rate')\n",
    "plt.ylabel('True Positive Rate')\n",
    "plt.legend(loc='best')\n",
    "\n",
    "plt.show()"
   ]
  },
  {
   "cell_type": "markdown",
   "id": "71e07055",
   "metadata": {},
   "source": [
    "### Neural Network"
   ]
  },
  {
   "cell_type": "code",
   "execution_count": 47,
   "id": "59b3e00e",
   "metadata": {
    "execution": {
     "iopub.execute_input": "2024-03-08T09:11:12.704813Z",
     "iopub.status.busy": "2024-03-08T09:11:12.704518Z",
     "iopub.status.idle": "2024-03-08T09:11:13.225704Z",
     "shell.execute_reply": "2024-03-08T09:11:13.224515Z",
     "shell.execute_reply.started": "2024-03-08T09:11:12.704761Z"
    }
   },
   "outputs": [
    {
     "name": "stdout",
     "output_type": "stream",
     "text": [
      "Scaled Training Data:\n",
      "[[-4.36414738e+02 -1.65694153e+00 -1.84735780e+00 -5.01758217e-01\n",
      "   2.97312593e-02 -8.03181412e-01 -5.80495708e+00 -2.91395823e+00\n",
      "  -1.74469300e+00  4.32372114e+02 -2.53607441e+00 -2.22859421e+00\n",
      "  -5.58073944e+01]\n",
      " [-4.36367659e+02 -1.45825932e+00 -1.71125787e+00 -5.02590613e-01\n",
      "   2.97312593e-02 -8.03153138e-01 -5.80495939e+00 -3.14909803e+00\n",
      "  -1.81504962e+00 -2.43593498e+02 -2.85077139e+00 -2.44610212e+00\n",
      "  -5.58073944e+01]\n",
      " [-4.36226425e+02 -2.05430594e+00 -2.11955765e+00 -5.02372887e-01\n",
      "   2.97312593e-02 -8.03148596e-01 -5.80483324e+00 -3.04197918e+00\n",
      "  -1.86163806e+00 -2.78760746e+02 -2.85077139e+00 -2.44712632e+00\n",
      "  -5.58073944e+01]\n",
      " [-4.36461816e+02 -1.65694153e+00 -2.05906879e+00 -5.01609433e-01\n",
      "   2.97312593e-02 -8.03109487e-01 -5.80532164e+00 -2.72062262e+00\n",
      "  -1.87716754e+00 -2.78760746e+02 -2.85077139e+00 -2.44684741e+00\n",
      "  -5.58073944e+01]\n",
      " [-4.37215067e+02 -2.05430594e+00 -1.98345772e+00 -4.98040518e-01\n",
      "   2.97312593e-02 -8.03087438e-01 -5.80601490e+00 -3.09553860e+00\n",
      "  -1.75293169e+00 -2.78760746e+02 -2.85077139e+00 -2.44974105e+00\n",
      "  -5.58073944e+01]]\n",
      "Scaled Testing Data:\n",
      "[[-4.36367659e+02 -1.65694153e+00 -2.02882436e+00 -5.00864358e-01\n",
      "   2.97312593e-02 -8.03181412e-01 -5.80614915e+00 -2.93486033e+00\n",
      "  -1.83446147e+00  4.32372114e+02 -2.53607441e+00 -2.22859421e+00\n",
      "  -5.58073944e+01]\n",
      " [-4.36838442e+02 -1.95496484e+00 -1.93809108e+00 -5.00103259e-01\n",
      "   2.97312593e-02 -8.03105288e-01 -5.80554038e+00 -2.61350377e+00\n",
      "  -1.83057910e+00 -2.78760746e+02 -2.85077139e+00 -2.44684741e+00\n",
      "  -5.58073944e+01]\n",
      " [-4.36367659e+02 -2.25298815e+00 -2.07419101e+00 -4.92036100e-01\n",
      "   2.97312593e-02 -8.03181412e-01 -5.80554038e+00 -2.87403153e+00\n",
      "  -1.77996899e+00  4.32372114e+02 -2.53607441e+00 -2.22859421e+00\n",
      "  -5.58073944e+01]\n",
      " [-4.36697207e+02 -2.05430594e+00 -2.05906879e+00 -5.01333101e-01\n",
      "   2.97312593e-02 -8.03181412e-01 -5.80484366e+00 -3.01780759e+00\n",
      "  -1.80739553e+00  4.32372114e+02 -2.53607441e+00 -2.22859421e+00\n",
      "  -5.58073944e+01]\n",
      " [-4.36367659e+02 -1.85562374e+00 -1.81711337e+00 -5.02018965e-01\n",
      "   2.97312593e-02 -8.03181412e-01 -5.80495592e+00 -2.93486033e+00\n",
      "  -1.94316783e+00  4.32372114e+02 -2.53607441e+00 -2.22859421e+00\n",
      "  -5.58073944e+01]]\n"
     ]
    }
   ],
   "source": [
    "# After splitting the data into train and test sets\n",
    "X_train_scaled = scaler.transform(X_train)\n",
    "X_test_scaled = scaler.transform(X_test)\n",
    "\n",
    "# Checking the first few rows of the scaled training and testing sets\n",
    "print(\"Scaled Training Data:\")\n",
    "print(X_train_scaled[:5])\n",
    "\n",
    "print(\"Scaled Testing Data:\")\n",
    "print(X_test_scaled[:5])"
   ]
  },
  {
   "cell_type": "code",
   "execution_count": 48,
   "id": "87083406",
   "metadata": {
    "execution": {
     "iopub.execute_input": "2024-03-08T09:11:13.227181Z",
     "iopub.status.busy": "2024-03-08T09:11:13.226901Z",
     "iopub.status.idle": "2024-03-08T09:11:25.088088Z",
     "shell.execute_reply": "2024-03-08T09:11:25.087197Z",
     "shell.execute_reply.started": "2024-03-08T09:11:13.227157Z"
    }
   },
   "outputs": [
    {
     "name": "stderr",
     "output_type": "stream",
     "text": [
      "2024-03-08 09:11:15.012160: E external/local_xla/xla/stream_executor/cuda/cuda_dnn.cc:9261] Unable to register cuDNN factory: Attempting to register factory for plugin cuDNN when one has already been registered\n",
      "2024-03-08 09:11:15.012268: E external/local_xla/xla/stream_executor/cuda/cuda_fft.cc:607] Unable to register cuFFT factory: Attempting to register factory for plugin cuFFT when one has already been registered\n",
      "2024-03-08 09:11:15.143785: E external/local_xla/xla/stream_executor/cuda/cuda_blas.cc:1515] Unable to register cuBLAS factory: Attempting to register factory for plugin cuBLAS when one has already been registered\n"
     ]
    }
   ],
   "source": [
    "import tensorflow as tf\n",
    "from tensorflow import keras\n",
    "from keras import backend as K  # Add this import for the Keras backend\n",
    "from sklearn.metrics import accuracy_score, precision_score, recall_score, f1_score, confusion_matrix\n",
    "\n",
    "# Defining custom metrics functions for recall and F1-score\n",
    "def recall_m(y_true, y_pred):\n",
    "    true_positives = K.sum(K.round(K.clip(y_true * y_pred, 0, 1)))\n",
    "    possible_positives = K.sum(K.round(K.clip(y_true, 0, 1)))\n",
    "    recall = true_positives / (possible_positives + K.epsilon())\n",
    "    return recall\n",
    "\n",
    "def precision_m(y_true, y_pred):\n",
    "    true_positives = K.sum(K.round(K.clip(y_true * y_pred, 0, 1)))\n",
    "    predicted_positives = K.sum(K.round(K.clip(y_pred, 0, 1)))\n",
    "    precision = true_positives / (predicted_positives + K.epsilon())\n",
    "    return precision\n",
    "\n",
    "def f1_score(y_true, y_pred):\n",
    "    precision = precision_m(y_true, y_pred)\n",
    "    recall = recall_m(y_true, y_pred)\n",
    "    return 2 * ((precision * recall) / (precision + recall + K.epsilon()))"
   ]
  },
  {
   "cell_type": "code",
   "execution_count": 49,
   "id": "d87d3f3c",
   "metadata": {
    "execution": {
     "iopub.execute_input": "2024-03-08T09:11:25.090028Z",
     "iopub.status.busy": "2024-03-08T09:11:25.089255Z",
     "iopub.status.idle": "2024-03-08T09:19:26.558487Z",
     "shell.execute_reply": "2024-03-08T09:19:26.557553Z",
     "shell.execute_reply.started": "2024-03-08T09:11:25.090000Z"
    }
   },
   "outputs": [
    {
     "name": "stdout",
     "output_type": "stream",
     "text": [
      "Epoch 1/10\n"
     ]
    },
    {
     "name": "stderr",
     "output_type": "stream",
     "text": [
      "WARNING: All log messages before absl::InitializeLog() is called are written to STDERR\n",
      "I0000 00:00:1709889089.447496     118 device_compiler.h:186] Compiled cluster using XLA!  This line is logged at most once for the lifetime of the process.\n",
      "W0000 00:00:1709889089.466218     118 graph_launch.cc:671] Fallback to op-by-op mode because memset node breaks graph update\n"
     ]
    },
    {
     "name": "stdout",
     "output_type": "stream",
     "text": [
      "24357/24357 - 53s - 2ms/step - Precision: 0.8952 - Recall: 0.9479 - accuracy: 0.9185 - loss: 0.2622 - val_Precision: 0.8954 - val_Recall: 0.9613 - val_accuracy: 0.9243 - val_loss: 0.2428\n",
      "Epoch 2/10\n",
      "24357/24357 - 48s - 2ms/step - Precision: 0.8944 - Recall: 0.9682 - accuracy: 0.9270 - loss: 0.2193 - val_Precision: 0.8942 - val_Recall: 0.9749 - val_accuracy: 0.9296 - val_loss: 0.2083\n",
      "Epoch 3/10\n",
      "24357/24357 - 48s - 2ms/step - Precision: 0.8943 - Recall: 0.9719 - accuracy: 0.9286 - loss: 0.2101 - val_Precision: 0.8946 - val_Recall: 0.9771 - val_accuracy: 0.9308 - val_loss: 0.1969\n",
      "Epoch 4/10\n",
      "24357/24357 - 47s - 2ms/step - Precision: 0.8941 - Recall: 0.9739 - accuracy: 0.9293 - loss: 0.2061 - val_Precision: 0.8950 - val_Recall: 0.9760 - val_accuracy: 0.9306 - val_loss: 0.1993\n",
      "Epoch 5/10\n",
      "24357/24357 - 47s - 2ms/step - Precision: 0.8941 - Recall: 0.9748 - accuracy: 0.9297 - loss: 0.2037 - val_Precision: 0.8931 - val_Recall: 0.9807 - val_accuracy: 0.9315 - val_loss: 0.1943\n",
      "Epoch 6/10\n",
      "24357/24357 - 47s - 2ms/step - Precision: 0.8939 - Recall: 0.9757 - accuracy: 0.9300 - loss: 0.2020 - val_Precision: 0.8946 - val_Recall: 0.9762 - val_accuracy: 0.9305 - val_loss: 0.1950\n",
      "Epoch 7/10\n",
      "24357/24357 - 48s - 2ms/step - Precision: 0.8937 - Recall: 0.9762 - accuracy: 0.9301 - loss: 0.2012 - val_Precision: 0.8949 - val_Recall: 0.9766 - val_accuracy: 0.9308 - val_loss: 0.1965\n",
      "Epoch 8/10\n",
      "24357/24357 - 48s - 2ms/step - Precision: 0.8935 - Recall: 0.9768 - accuracy: 0.9302 - loss: 0.2003 - val_Precision: 0.8952 - val_Recall: 0.9729 - val_accuracy: 0.9294 - val_loss: 0.2043\n",
      "Epoch 9/10\n",
      "24357/24357 - 48s - 2ms/step - Precision: 0.8930 - Recall: 0.9773 - accuracy: 0.9302 - loss: 0.1999 - val_Precision: 0.8911 - val_Recall: 0.9831 - val_accuracy: 0.9313 - val_loss: 0.1945\n",
      "Epoch 10/10\n",
      "24357/24357 - 47s - 2ms/step - Precision: 0.8926 - Recall: 0.9777 - accuracy: 0.9301 - loss: 0.1995 - val_Precision: 0.8949 - val_Recall: 0.9749 - val_accuracy: 0.9300 - val_loss: 0.2022\n"
     ]
    },
    {
     "data": {
      "text/plain": [
       "<keras.src.callbacks.history.History at 0x7f49d9cc2dd0>"
      ]
     },
     "execution_count": 49,
     "metadata": {},
     "output_type": "execute_result"
    }
   ],
   "source": [
    "from tensorflow import keras\n",
    "from keras import backend as K  # Add this import for the Keras backend\n",
    "from keras.utils import plot_model\n",
    "\n",
    "# Defining the neural network architecture\n",
    "model = keras.Sequential([\n",
    "    keras.layers.Input(shape=(X_train_scaled.shape[1],)),  # Input layer with the number of features\n",
    "    keras.layers.Dense(64, activation='relu'),  # Hidden layer with 64 neurons and ReLU activation\n",
    "    keras.layers.Dense(32, activation='relu'),  # Hidden layer with 32 neurons and ReLU activation\n",
    "    keras.layers.Dense(1, activation='sigmoid')  # Output layer with a single neuron and sigmoid activation\n",
    "])\n",
    "# Compile the model with custom metrics\n",
    "model.compile(optimizer='adam', loss='binary_crossentropy', \n",
    "              metrics=['accuracy', 'Recall', 'Precision'])  # Include precision_m and recall_m\n",
    "\n",
    "# Train the model on the training data\n",
    "model.fit(X_train_scaled, y_train, epochs=10, batch_size=128, validation_split=0.2, verbose=2)\n"
   ]
  },
  {
   "cell_type": "code",
   "execution_count": 50,
   "id": "2caf30a6",
   "metadata": {
    "execution": {
     "iopub.execute_input": "2024-03-08T09:19:26.560050Z",
     "iopub.status.busy": "2024-03-08T09:19:26.559702Z",
     "iopub.status.idle": "2024-03-08T09:21:17.712738Z",
     "shell.execute_reply": "2024-03-08T09:21:17.711731Z",
     "shell.execute_reply.started": "2024-03-08T09:19:26.560021Z"
    }
   },
   "outputs": [
    {
     "name": "stdout",
     "output_type": "stream",
     "text": [
      "\u001b[1m30446/30446\u001b[0m \u001b[32m━━━━━━━━━━━━━━━━━━━━\u001b[0m\u001b[37m\u001b[0m \u001b[1m48s\u001b[0m 2ms/step - Precision: 0.8946 - Recall: 0.9739 - accuracy: 0.9295 - loss: 0.2032\n",
      "\u001b[1m30446/30446\u001b[0m \u001b[32m━━━━━━━━━━━━━━━━━━━━\u001b[0m\u001b[37m\u001b[0m \u001b[1m35s\u001b[0m 1ms/step\n",
      "Accuracy: 0.9294440304558733\n",
      "Precision: 0.8943536132770207\n",
      "Recall: 0.9740919466211657\n",
      "F1 Score: 0.9325213116427732\n",
      "Confusion Matrix:\n",
      "[[430546  56107]\n",
      " [ 12633 474976]]\n"
     ]
    }
   ],
   "source": [
    "from sklearn.metrics import f1_score\n",
    "\n",
    "# Evaluate the model on the test dataset\n",
    "model.evaluate(X_test_scaled, y_test)\n",
    "\n",
    "# Make predictions on the test dataset\n",
    "y_pred = model.predict(X_test_scaled)\n",
    "\n",
    "# round the predictions to binary values (0 or 1)\n",
    "rounded_predictions = [int(round(pred[0])) for pred in y_pred]\n",
    "\n",
    "# Calculate evaluation metrics\n",
    "accuracy = accuracy_score(y_test, rounded_predictions)\n",
    "precision = precision_score(y_test, rounded_predictions)\n",
    "recall = recall_score(y_test, rounded_predictions)\n",
    "# Calculate F1 Score using sklearn's f1_score function\n",
    "f1 = f1_score(y_test, rounded_predictions)\n",
    "\n",
    "conf_matrix = confusion_matrix(y_test, rounded_predictions)\n",
    "\n",
    "print(f\"Accuracy: {accuracy}\")\n",
    "print(f\"Precision: {precision}\")\n",
    "print(f\"Recall: {recall}\")\n",
    "print(f\"F1 Score: {f1}\")\n",
    "print(\"Confusion Matrix:\")\n",
    "print(conf_matrix)"
   ]
  },
  {
   "cell_type": "code",
   "execution_count": 51,
   "id": "6544f2f8",
   "metadata": {
    "execution": {
     "iopub.execute_input": "2024-03-08T09:21:17.714350Z",
     "iopub.status.busy": "2024-03-08T09:21:17.714034Z",
     "iopub.status.idle": "2024-03-08T09:21:18.176947Z",
     "shell.execute_reply": "2024-03-08T09:21:18.176016Z",
     "shell.execute_reply.started": "2024-03-08T09:21:17.714324Z"
    }
   },
   "outputs": [
    {
     "data": {
      "image/png": "[encoded data removed]",
      "text/plain": [
       "<Figure size 640x480 with 1 Axes>"
      ]
     },
     "metadata": {},
     "output_type": "display_data"
    }
   ],
   "source": [
    "from sklearn.metrics import roc_curve, auc\n",
    "import matplotlib.pyplot as plt\n",
    "\n",
    "# Assuming y_test are the true labels and y_probs are the probabilities of positive class\n",
    "fpr, tpr, thresholds = roc_curve(y_test, y_pred)\n",
    "roc_auc = auc(fpr, tpr)\n",
    "\n",
    "plt.figure()\n",
    "plt.plot(fpr, tpr, color='darkorange', lw=1, label='ROC curve (area = %0.2f)' % roc_auc)\n",
    "plt.plot([0, 1], [0, 1], color='navy', lw=1, linestyle='--')\n",
    "plt.xlim([0.0, 1.0])\n",
    "plt.ylim([0.0, 1.05])\n",
    "plt.xlabel('False Positive Rate')\n",
    "plt.ylabel('True Positive Rate')\n",
    "plt.title('Receiver Operating Characteristic')\n",
    "plt.legend(loc=\"lower right\")\n",
    "plt.show()"
   ]
  },
  {
   "cell_type": "markdown",
   "id": "a804bfea",
   "metadata": {},
   "source": [
    "### Random Forest"
   ]
  },
  {
   "cell_type": "code",
   "execution_count": null,
   "id": "0951e374",
   "metadata": {},
   "outputs": [],
   "source": [
    "from sklearn.ensemble import RandomForestClassifier\n",
    "model_params = {\n",
    "    'random_forest': {\n",
    "        'model': RandomForestClassifier(),\n",
    "        'params': {\n",
    "            'n_estimators': [100, 200],\n",
    "            'max_depth': [10, 20],\n",
    "            'criterion': ['gini', 'entropy'],\n",
    "            'max_features': ['auto', 'sqrt']\n",
    "        }\n",
    "    }}"
   ]
  },
  {
   "cell_type": "code",
   "execution_count": null,
   "id": "e866ab52",
   "metadata": {},
   "outputs": [],
   "source": [
    "scores = []\n",
    "\n",
    "for model_name, mp in model_params.items():\n",
    "    start_time = time.time()  # Start the timer\n",
    "    clf = GridSearchCV(mp['model'], mp['params'], cv=3, verbose=3, n_jobs=-1, scoring='recall', return_train_score=False)\n",
    "    clf.fit(X_train_scaled, y_train)\n",
    "    end_time = time.time()  # End the timer\n",
    "    duration = end_time - start_time  # Calculate the duration\n",
    "    scores.append({\n",
    "        'model': model_name,\n",
    "        'best_score': clf.best_score_,\n",
    "        'best_params': clf.best_params_,\n",
    "        'cross_validation_time': duration  # Store the duration\n",
    "    })\n",
    "\n",
    "df = pd.DataFrame(scores, columns=['model', 'best_score', 'best_params', 'cross_validation_time'])\n",
    "df"
   ]
  },
  {
   "cell_type": "code",
   "execution_count": 52,
   "id": "555057a5",
   "metadata": {
    "execution": {
     "iopub.execute_input": "2024-03-08T09:21:18.178534Z",
     "iopub.status.busy": "2024-03-08T09:21:18.178192Z",
     "iopub.status.idle": "2024-03-08T09:21:18.183934Z",
     "shell.execute_reply": "2024-03-08T09:21:18.182982Z",
     "shell.execute_reply.started": "2024-03-08T09:21:18.178506Z"
    }
   },
   "outputs": [],
   "source": [
    "from sklearn.ensemble import RandomForestClassifier\n",
    "model_params = {\n",
    "    'random_forest': {\n",
    "        'model': RandomForestClassifier(),\n",
    "        'params': {\n",
    "            'n_estimators': [100],\n",
    "            'max_depth': [20],\n",
    "            'criterion': ['entropy'],\n",
    "            'max_features': ['sqrt']\n",
    "        }\n",
    "    }}"
   ]
  },
  {
   "cell_type": "code",
   "execution_count": 53,
   "id": "a62ec066",
   "metadata": {
    "execution": {
     "iopub.execute_input": "2024-03-08T09:21:18.185400Z",
     "iopub.status.busy": "2024-03-08T09:21:18.185063Z",
     "iopub.status.idle": "2024-03-08T09:59:09.078487Z",
     "shell.execute_reply": "2024-03-08T09:59:09.077457Z",
     "shell.execute_reply.started": "2024-03-08T09:21:18.185369Z"
    }
   },
   "outputs": [
    {
     "name": "stdout",
     "output_type": "stream",
     "text": [
      "Fitting 3 folds for each of 1 candidates, totalling 3 fits\n",
      "[CV 1/3] END criterion=entropy, max_depth=20, max_features=sqrt, n_estimators=100;, score=1.000 total time=16.3min\n",
      "[CV 3/3] END criterion=entropy, max_depth=20, max_features=sqrt, n_estimators=100;, score=0.999 total time=16.4min\n",
      "[CV 2/3] END criterion=entropy, max_depth=20, max_features=sqrt, n_estimators=100;, score=0.999 total time=16.6min\n"
     ]
    },
    {
     "data": {
      "text/html": [
       "<div>\n",
       "<style scoped>\n",
       "    .dataframe tbody tr th:only-of-type {\n",
       "        vertical-align: middle;\n",
       "    }\n",
       "\n",
       "    .dataframe tbody tr th {\n",
       "        vertical-align: top;\n",
       "    }\n",
       "\n",
       "    .dataframe thead th {\n",
       "        text-align: right;\n",
       "    }\n",
       "</style>\n",
       "<table border=\"1\" class=\"dataframe\">\n",
       "  <thead>\n",
       "    <tr style=\"text-align: right;\">\n",
       "      <th></th>\n",
       "      <th>model</th>\n",
       "      <th>best_score</th>\n",
       "      <th>best_params</th>\n",
       "      <th>cross_validation_time</th>\n",
       "    </tr>\n",
       "  </thead>\n",
       "  <tbody>\n",
       "    <tr>\n",
       "      <th>0</th>\n",
       "      <td>random_forest</td>\n",
       "      <td>0.999389</td>\n",
       "      <td>{'criterion': 'entropy', 'max_depth': 20, 'max...</td>\n",
       "      <td>2270.868475</td>\n",
       "    </tr>\n",
       "  </tbody>\n",
       "</table>\n",
       "</div>"
      ],
      "text/plain": [
       "           model  best_score  \\\n",
       "0  random_forest    0.999389   \n",
       "\n",
       "                                         best_params  cross_validation_time  \n",
       "0  {'criterion': 'entropy', 'max_depth': 20, 'max...            2270.868475  "
      ]
     },
     "execution_count": 53,
     "metadata": {},
     "output_type": "execute_result"
    }
   ],
   "source": [
    "import time\n",
    "\n",
    "\n",
    "scores = []\n",
    "\n",
    "for model_name, mp in model_params.items():\n",
    "    start_time = time.time()  # Start the timer\n",
    "    clf = GridSearchCV(mp['model'], mp['params'], cv=3, verbose=3, n_jobs=-1, scoring='recall', return_train_score=False)\n",
    "    clf.fit(X_train_scaled, y_train)\n",
    "    end_time = time.time()  # End the timer\n",
    "    duration = end_time - start_time  # Calculate the duration\n",
    "    scores.append({\n",
    "        'model': model_name,\n",
    "        'best_score': clf.best_score_,\n",
    "        'best_params': clf.best_params_,\n",
    "        'cross_validation_time': duration  # Store the duration\n",
    "    })\n",
    "\n",
    "df = pd.DataFrame(scores, columns=['model', 'best_score', 'best_params', 'cross_validation_time'])\n",
    "df"
   ]
  },
  {
   "cell_type": "code",
   "execution_count": 54,
   "id": "c2a213dd",
   "metadata": {
    "execution": {
     "iopub.execute_input": "2024-03-08T09:59:09.080272Z",
     "iopub.status.busy": "2024-03-08T09:59:09.079981Z",
     "iopub.status.idle": "2024-03-08T09:59:09.087599Z",
     "shell.execute_reply": "2024-03-08T09:59:09.086738Z",
     "shell.execute_reply.started": "2024-03-08T09:59:09.080246Z"
    }
   },
   "outputs": [
    {
     "name": "stdout",
     "output_type": "stream",
     "text": [
      "           model  best_score  \\\n",
      "0  random_forest    0.999389   \n",
      "\n",
      "                                                                              best_params  \\\n",
      "0  {'criterion': 'entropy', 'max_depth': 20, 'max_features': 'sqrt', 'n_estimators': 100}   \n",
      "\n",
      "   cross_validation_time  \n",
      "0            2270.868475  \n"
     ]
    }
   ],
   "source": [
    "pd.set_option('display.max_colwidth', None)\n",
    "print(df)"
   ]
  },
  {
   "cell_type": "code",
   "execution_count": 55,
   "id": "06990408",
   "metadata": {
    "execution": {
     "iopub.execute_input": "2024-03-08T09:59:09.089139Z",
     "iopub.status.busy": "2024-03-08T09:59:09.088865Z",
     "iopub.status.idle": "2024-03-08T10:23:39.977798Z",
     "shell.execute_reply": "2024-03-08T10:23:39.976933Z",
     "shell.execute_reply.started": "2024-03-08T09:59:09.089115Z"
    }
   },
   "outputs": [],
   "source": [
    "model_random_forest = RandomForestClassifier(criterion='gini',max_depth=20, max_features = \"sqrt\", random_state=42, n_estimators=100)\n",
    "model_random_forest.fit(X_train_scaled, y_train)\n",
    "random_forest_predictions  = model_random_forest.predict(X_test_scaled)"
   ]
  },
  {
   "cell_type": "code",
   "execution_count": 56,
   "id": "bedba1c7",
   "metadata": {
    "execution": {
     "iopub.execute_input": "2024-03-08T10:23:39.979525Z",
     "iopub.status.busy": "2024-03-08T10:23:39.979177Z",
     "iopub.status.idle": "2024-03-08T10:23:40.063336Z",
     "shell.execute_reply": "2024-03-08T10:23:40.062525Z",
     "shell.execute_reply.started": "2024-03-08T10:23:39.979493Z"
    }
   },
   "outputs": [],
   "source": [
    "#Printing Confusion Matrix\n",
    "pd.DataFrame(confusion_matrix(y_test,random_forest_predictions))\n",
    "conf_mat = confusion_matrix(y_test,random_forest_predictions)"
   ]
  },
  {
   "cell_type": "code",
   "execution_count": 57,
   "id": "41af9a55",
   "metadata": {
    "execution": {
     "iopub.execute_input": "2024-03-08T10:23:40.064816Z",
     "iopub.status.busy": "2024-03-08T10:23:40.064540Z",
     "iopub.status.idle": "2024-03-08T10:23:40.370073Z",
     "shell.execute_reply": "2024-03-08T10:23:40.369075Z",
     "shell.execute_reply.started": "2024-03-08T10:23:40.064793Z"
    }
   },
   "outputs": [
    {
     "data": {
      "image/png": "[encoded data removed]",
      "text/plain": [
       "<Figure size 1000x700 with 2 Axes>"
      ]
     },
     "metadata": {},
     "output_type": "display_data"
    }
   ],
   "source": [
    "# Now let's create a heatmap using seaborn\n",
    "plt.figure(figsize=(10, 7))\n",
    "sns.heatmap(conf_mat, annot=True, fmt='d', cmap=\"Blues\")\n",
    "plt.title('Confusion Matrix Heatmap')\n",
    "plt.ylabel('Actual Label')\n",
    "plt.xlabel('Predicted Label')\n",
    "plt.show()"
   ]
  },
  {
   "cell_type": "code",
   "execution_count": 58,
   "id": "de37f33d",
   "metadata": {
    "execution": {
     "iopub.execute_input": "2024-03-08T10:23:40.372060Z",
     "iopub.status.busy": "2024-03-08T10:23:40.371614Z",
     "iopub.status.idle": "2024-03-08T10:23:40.766740Z",
     "shell.execute_reply": "2024-03-08T10:23:40.765889Z",
     "shell.execute_reply.started": "2024-03-08T10:23:40.372031Z"
    }
   },
   "outputs": [
    {
     "name": "stdout",
     "output_type": "stream",
     "text": [
      "              precision    recall  f1-score   support\n",
      "\n",
      "           0       1.00      0.99      0.99    486653\n",
      "           1       0.99      1.00      0.99    487609\n",
      "\n",
      "    accuracy                           0.99    974262\n",
      "   macro avg       0.99      0.99      0.99    974262\n",
      "weighted avg       0.99      0.99      0.99    974262\n",
      "\n"
     ]
    }
   ],
   "source": [
    "print(classification_report(y_test, random_forest_predictions))"
   ]
  },
  {
   "cell_type": "code",
   "execution_count": 59,
   "id": "079edb9e",
   "metadata": {
    "execution": {
     "iopub.execute_input": "2024-03-08T10:23:40.768377Z",
     "iopub.status.busy": "2024-03-08T10:23:40.768057Z",
     "iopub.status.idle": "2024-03-08T10:23:53.511619Z",
     "shell.execute_reply": "2024-03-08T10:23:53.510423Z",
     "shell.execute_reply.started": "2024-03-08T10:23:40.768349Z"
    }
   },
   "outputs": [],
   "source": [
    "from sklearn.metrics import roc_curve, auc\n",
    "y_pred_random= model_random_forest.predict_proba(X_test_scaled)[:,1]\n",
    "random_fpr, random_tpr, threshold = roc_curve(y_test, y_pred_random)\n",
    "auc_random = auc(random_fpr, random_tpr)"
   ]
  },
  {
   "cell_type": "code",
   "execution_count": 60,
   "id": "914cd847",
   "metadata": {
    "execution": {
     "iopub.execute_input": "2024-03-08T10:23:53.513248Z",
     "iopub.status.busy": "2024-03-08T10:23:53.512958Z",
     "iopub.status.idle": "2024-03-08T10:23:54.299697Z",
     "shell.execute_reply": "2024-03-08T10:23:54.298757Z",
     "shell.execute_reply.started": "2024-03-08T10:23:53.513223Z"
    }
   },
   "outputs": [
    {
     "data": {
      "text/plain": [
       "<matplotlib.legend.Legend at 0x7f49daac1240>"
      ]
     },
     "execution_count": 60,
     "metadata": {},
     "output_type": "execute_result"
    },
    {
     "data": {
      "image/png": "[encoded data removed]",
      "text/plain": [
       "<Figure size 500x500 with 1 Axes>"
      ]
     },
     "metadata": {},
     "output_type": "display_data"
    }
   ],
   "source": [
    "plt.figure(figsize=(5, 5), dpi=100)\n",
    "plt.plot([0, 1], [0, 1], 'k--')\n",
    "\n",
    "\n",
    "plt.plot(random_fpr, random_tpr, marker='+', label='Random (auc = %0.3f)' % auc_random)\n",
    "\n",
    "plt.xlabel('False Positive Rate')\n",
    "plt.ylabel('True Positive Rate')\n",
    "\n",
    "plt.legend(loc='best')"
   ]
  }
 ],
 "metadata": {
  "kaggle": {
   "accelerator": "gpu",
   "dataSources": [
    {
     "datasetId": 1478095,
     "sourceId": 2705785,
     "sourceType": "datasetVersion"
    }
   ],
   "dockerImageVersionId": 30665,
   "isGpuEnabled": true,
   "isInternetEnabled": true,
   "language": "python",
   "sourceType": "notebook"
  },
  "kernelspec": {
   "display_name": "Python 3 (ipykernel)",
   "language": "python",
   "name": "python3"
  },
  "language_info": {
   "codemirror_mode": {
    "name": "ipython",
    "version": 3
   },
   "file_extension": ".py",
   "mimetype": "text/x-python",
   "name": "python",
   "nbconvert_exporter": "python",
   "pygments_lexer": "ipython3",
   "version": "3.11.5"
  }
 },
 "nbformat": 4,
 "nbformat_minor": 5
}
